{
  "nbformat": 4,
  "nbformat_minor": 0,
  "metadata": {
    "colab": {
      "provenance": []
    },
    "kernelspec": {
      "name": "python3",
      "display_name": "Python 3"
    },
    "language_info": {
      "name": "python"
    }
  },
  "cells": [
    {
      "cell_type": "markdown",
      "source": [
        "COMP 5012 - Big Data Final Project\n",
        "\n",
        "Name: Chandreen Ravihari Liyanage\n",
        "\n",
        "Student Id: 1158931"
      ],
      "metadata": {
        "id": "wtcN2AmNHhSR"
      }
    },
    {
      "cell_type": "markdown",
      "source": [
        "# Setting Environment"
      ],
      "metadata": {
        "id": "YyV-QK3NkaXC"
      }
    },
    {
      "cell_type": "markdown",
      "source": [
        "Importing Libraries"
      ],
      "metadata": {
        "id": "HqQgTQ_kIHO0"
      }
    },
    {
      "cell_type": "code",
      "source": [
        "from google.colab import drive\n",
        "import os\n",
        "\n",
        "import pandas as pd\n",
        "import json\n",
        "import csv\n",
        "import numpy as np\n",
        "\n",
        "import matplotlib.pyplot as plt\n",
        "import seaborn as sns\n",
        "import plotly.express as px\n",
        "import plotly.graph_objs as go\n",
        "\n",
        "from sklearn.model_selection import train_test_split\n",
        "from imblearn.over_sampling import SMOTENC\n",
        "from sklearn.feature_selection import SelectKBest, chi2, mutual_info_classif\n",
        "\n",
        "import matplotlib.pyplot as plt\n",
        "from sklearn.model_selection import KFold, StratifiedKFold, cross_val_score\n",
        "from sklearn.metrics import roc_auc_score, roc_curve\n",
        "from sklearn.tree import DecisionTreeClassifier, plot_tree, export_graphviz, export_text\n",
        "from sklearn.ensemble import RandomForestClassifier\n",
        "from sklearn.linear_model import LogisticRegression\n",
        "from sklearn.ensemble import GradientBoostingClassifier\n",
        "from sklearn.neighbors import KNeighborsClassifier\n",
        "from sklearn.model_selection import GridSearchCV\n",
        "\n",
        "from sklearn.metrics import confusion_matrix, classification_report"
      ],
      "metadata": {
        "id": "6VXo16u_IWzl"
      },
      "execution_count": 83,
      "outputs": []
    },
    {
      "cell_type": "markdown",
      "source": [
        "Importing Data"
      ],
      "metadata": {
        "id": "ekDfqn96WeuM"
      }
    },
    {
      "cell_type": "code",
      "source": [
        "# Mounting google drive\n",
        "drive.mount('/content/gdrive')"
      ],
      "metadata": {
        "colab": {
          "base_uri": "https://localhost:8080/"
        },
        "id": "t4ZWn4QAWcOe",
        "outputId": "fdfd2ad0-7aa6-4404-c082-732e0773fd3f"
      },
      "execution_count": 51,
      "outputs": [
        {
          "output_type": "stream",
          "name": "stdout",
          "text": [
            "Drive already mounted at /content/gdrive; to attempt to forcibly remount, call drive.mount(\"/content/gdrive\", force_remount=True).\n"
          ]
        }
      ]
    },
    {
      "cell_type": "code",
      "source": [
        "# Setting the base path\n",
        "base_path =  \"/content/gdrive/MyDrive/Colab Notebooks/BigData_Project\"\n",
        "os.chdir(base_path)"
      ],
      "metadata": {
        "id": "K3nacT7dWtc5"
      },
      "execution_count": 52,
      "outputs": []
    },
    {
      "cell_type": "markdown",
      "source": [
        "# Exploratory Data Analysis"
      ],
      "metadata": {
        "id": "toeBwoeqILs2"
      }
    },
    {
      "cell_type": "code",
      "source": [
        "# Loading the dataset\n",
        "data = pd.read_csv(\"dataset.csv\")\n",
        "data"
      ],
      "metadata": {
        "colab": {
          "base_uri": "https://localhost:8080/",
          "height": 609
        },
        "id": "PzyjpZVSX9YE",
        "outputId": "a1f277fd-e7f8-4e20-cf4c-320899cdcbf8"
      },
      "execution_count": 53,
      "outputs": [
        {
          "output_type": "execute_result",
          "data": {
            "text/plain": [
              "       encounter_id  patient_id  hospital_id   age        bmi  \\\n",
              "0             66154       25312          118  68.0  22.730000   \n",
              "1            114252       59342           81  77.0  27.420000   \n",
              "2             33181       74489           83  67.0  27.560000   \n",
              "3             82208       49526           83  59.0  57.450000   \n",
              "4            120677      124688          118  78.0        NaN   \n",
              "...             ...         ...          ...   ...        ...   \n",
              "20487        118430       83320            6  21.0  24.874059   \n",
              "20488         65539      128056           30  53.0  45.935203   \n",
              "20489        111411        7848          195  67.0  28.876843   \n",
              "20490         91592       78108           30  75.0  23.060250   \n",
              "20491          8981       58179          195  48.0  27.236914   \n",
              "\n",
              "       elective_surgery         ethnicity gender      icu_admit_source  \\\n",
              "0                     0         Caucasian      M                 Floor   \n",
              "1                     0         Caucasian      F                 Floor   \n",
              "2                     0         Caucasian      M  Accident & Emergency   \n",
              "3                     0         Caucasian      F  Accident & Emergency   \n",
              "4                     0         Caucasian      F  Accident & Emergency   \n",
              "...                 ...               ...    ...                   ...   \n",
              "20487                 0         Caucasian      M  Accident & Emergency   \n",
              "20488                 0         Caucasian      M  Accident & Emergency   \n",
              "20489                 0  African American      M  Accident & Emergency   \n",
              "20490                 0         Caucasian      M                 Floor   \n",
              "20491                 0         Caucasian      M  Accident & Emergency   \n",
              "\n",
              "       icu_id  ... apache_4a_icu_death_prob aids  cirrhosis  hepatic_failure  \\\n",
              "0          92  ...                     0.05    0          0                0   \n",
              "1          90  ...                     0.29    0          0                0   \n",
              "2          95  ...                     0.02    0          0                0   \n",
              "3          95  ...                     0.05    0          0                0   \n",
              "4          97  ...                     0.01    0          0                0   \n",
              "...       ...  ...                      ...  ...        ...              ...   \n",
              "20487     915  ...                     0.00    0          0                0   \n",
              "20488     921  ...                     0.01    0          0                0   \n",
              "20489     908  ...                     0.00    0          0                0   \n",
              "20490     927  ...                     0.05    0          0                0   \n",
              "20491     908  ...                     0.02    0          0                0   \n",
              "\n",
              "       immunosuppression  leukemia  lymphoma  solid_tumor_with_metastasis  \\\n",
              "0                      0         0         0                            0   \n",
              "1                      0         0         0                            0   \n",
              "2                      0         0         0                            0   \n",
              "3                      0         0         0                            0   \n",
              "4                      0         0         0                            0   \n",
              "...                  ...       ...       ...                          ...   \n",
              "20487                  0         0         0                            0   \n",
              "20488                  0         0         0                            0   \n",
              "20489                  0         0         0                            0   \n",
              "20490                  0         0         0                            1   \n",
              "20491                  0         0         0                            0   \n",
              "\n",
              "       apache_2_bodysystem  hospital_death  \n",
              "0           Cardiovascular               0  \n",
              "1              Respiratory               0  \n",
              "2               Neurologic               0  \n",
              "3              Respiratory               0  \n",
              "4           Cardiovascular               0  \n",
              "...                    ...             ...  \n",
              "20487            Metabolic               0  \n",
              "20488       Cardiovascular               0  \n",
              "20489            Metabolic               0  \n",
              "20490       Cardiovascular               0  \n",
              "20491            Metabolic               0  \n",
              "\n",
              "[20492 rows x 37 columns]"
            ],
            "text/html": [
              "\n",
              "  <div id=\"df-bc7366aa-6ec0-4c80-a312-dd028a0d4ea4\">\n",
              "    <div class=\"colab-df-container\">\n",
              "      <div>\n",
              "<style scoped>\n",
              "    .dataframe tbody tr th:only-of-type {\n",
              "        vertical-align: middle;\n",
              "    }\n",
              "\n",
              "    .dataframe tbody tr th {\n",
              "        vertical-align: top;\n",
              "    }\n",
              "\n",
              "    .dataframe thead th {\n",
              "        text-align: right;\n",
              "    }\n",
              "</style>\n",
              "<table border=\"1\" class=\"dataframe\">\n",
              "  <thead>\n",
              "    <tr style=\"text-align: right;\">\n",
              "      <th></th>\n",
              "      <th>encounter_id</th>\n",
              "      <th>patient_id</th>\n",
              "      <th>hospital_id</th>\n",
              "      <th>age</th>\n",
              "      <th>bmi</th>\n",
              "      <th>elective_surgery</th>\n",
              "      <th>ethnicity</th>\n",
              "      <th>gender</th>\n",
              "      <th>icu_admit_source</th>\n",
              "      <th>icu_id</th>\n",
              "      <th>...</th>\n",
              "      <th>apache_4a_icu_death_prob</th>\n",
              "      <th>aids</th>\n",
              "      <th>cirrhosis</th>\n",
              "      <th>hepatic_failure</th>\n",
              "      <th>immunosuppression</th>\n",
              "      <th>leukemia</th>\n",
              "      <th>lymphoma</th>\n",
              "      <th>solid_tumor_with_metastasis</th>\n",
              "      <th>apache_2_bodysystem</th>\n",
              "      <th>hospital_death</th>\n",
              "    </tr>\n",
              "  </thead>\n",
              "  <tbody>\n",
              "    <tr>\n",
              "      <th>0</th>\n",
              "      <td>66154</td>\n",
              "      <td>25312</td>\n",
              "      <td>118</td>\n",
              "      <td>68.0</td>\n",
              "      <td>22.730000</td>\n",
              "      <td>0</td>\n",
              "      <td>Caucasian</td>\n",
              "      <td>M</td>\n",
              "      <td>Floor</td>\n",
              "      <td>92</td>\n",
              "      <td>...</td>\n",
              "      <td>0.05</td>\n",
              "      <td>0</td>\n",
              "      <td>0</td>\n",
              "      <td>0</td>\n",
              "      <td>0</td>\n",
              "      <td>0</td>\n",
              "      <td>0</td>\n",
              "      <td>0</td>\n",
              "      <td>Cardiovascular</td>\n",
              "      <td>0</td>\n",
              "    </tr>\n",
              "    <tr>\n",
              "      <th>1</th>\n",
              "      <td>114252</td>\n",
              "      <td>59342</td>\n",
              "      <td>81</td>\n",
              "      <td>77.0</td>\n",
              "      <td>27.420000</td>\n",
              "      <td>0</td>\n",
              "      <td>Caucasian</td>\n",
              "      <td>F</td>\n",
              "      <td>Floor</td>\n",
              "      <td>90</td>\n",
              "      <td>...</td>\n",
              "      <td>0.29</td>\n",
              "      <td>0</td>\n",
              "      <td>0</td>\n",
              "      <td>0</td>\n",
              "      <td>0</td>\n",
              "      <td>0</td>\n",
              "      <td>0</td>\n",
              "      <td>0</td>\n",
              "      <td>Respiratory</td>\n",
              "      <td>0</td>\n",
              "    </tr>\n",
              "    <tr>\n",
              "      <th>2</th>\n",
              "      <td>33181</td>\n",
              "      <td>74489</td>\n",
              "      <td>83</td>\n",
              "      <td>67.0</td>\n",
              "      <td>27.560000</td>\n",
              "      <td>0</td>\n",
              "      <td>Caucasian</td>\n",
              "      <td>M</td>\n",
              "      <td>Accident &amp; Emergency</td>\n",
              "      <td>95</td>\n",
              "      <td>...</td>\n",
              "      <td>0.02</td>\n",
              "      <td>0</td>\n",
              "      <td>0</td>\n",
              "      <td>0</td>\n",
              "      <td>0</td>\n",
              "      <td>0</td>\n",
              "      <td>0</td>\n",
              "      <td>0</td>\n",
              "      <td>Neurologic</td>\n",
              "      <td>0</td>\n",
              "    </tr>\n",
              "    <tr>\n",
              "      <th>3</th>\n",
              "      <td>82208</td>\n",
              "      <td>49526</td>\n",
              "      <td>83</td>\n",
              "      <td>59.0</td>\n",
              "      <td>57.450000</td>\n",
              "      <td>0</td>\n",
              "      <td>Caucasian</td>\n",
              "      <td>F</td>\n",
              "      <td>Accident &amp; Emergency</td>\n",
              "      <td>95</td>\n",
              "      <td>...</td>\n",
              "      <td>0.05</td>\n",
              "      <td>0</td>\n",
              "      <td>0</td>\n",
              "      <td>0</td>\n",
              "      <td>0</td>\n",
              "      <td>0</td>\n",
              "      <td>0</td>\n",
              "      <td>0</td>\n",
              "      <td>Respiratory</td>\n",
              "      <td>0</td>\n",
              "    </tr>\n",
              "    <tr>\n",
              "      <th>4</th>\n",
              "      <td>120677</td>\n",
              "      <td>124688</td>\n",
              "      <td>118</td>\n",
              "      <td>78.0</td>\n",
              "      <td>NaN</td>\n",
              "      <td>0</td>\n",
              "      <td>Caucasian</td>\n",
              "      <td>F</td>\n",
              "      <td>Accident &amp; Emergency</td>\n",
              "      <td>97</td>\n",
              "      <td>...</td>\n",
              "      <td>0.01</td>\n",
              "      <td>0</td>\n",
              "      <td>0</td>\n",
              "      <td>0</td>\n",
              "      <td>0</td>\n",
              "      <td>0</td>\n",
              "      <td>0</td>\n",
              "      <td>0</td>\n",
              "      <td>Cardiovascular</td>\n",
              "      <td>0</td>\n",
              "    </tr>\n",
              "    <tr>\n",
              "      <th>...</th>\n",
              "      <td>...</td>\n",
              "      <td>...</td>\n",
              "      <td>...</td>\n",
              "      <td>...</td>\n",
              "      <td>...</td>\n",
              "      <td>...</td>\n",
              "      <td>...</td>\n",
              "      <td>...</td>\n",
              "      <td>...</td>\n",
              "      <td>...</td>\n",
              "      <td>...</td>\n",
              "      <td>...</td>\n",
              "      <td>...</td>\n",
              "      <td>...</td>\n",
              "      <td>...</td>\n",
              "      <td>...</td>\n",
              "      <td>...</td>\n",
              "      <td>...</td>\n",
              "      <td>...</td>\n",
              "      <td>...</td>\n",
              "      <td>...</td>\n",
              "    </tr>\n",
              "    <tr>\n",
              "      <th>20487</th>\n",
              "      <td>118430</td>\n",
              "      <td>83320</td>\n",
              "      <td>6</td>\n",
              "      <td>21.0</td>\n",
              "      <td>24.874059</td>\n",
              "      <td>0</td>\n",
              "      <td>Caucasian</td>\n",
              "      <td>M</td>\n",
              "      <td>Accident &amp; Emergency</td>\n",
              "      <td>915</td>\n",
              "      <td>...</td>\n",
              "      <td>0.00</td>\n",
              "      <td>0</td>\n",
              "      <td>0</td>\n",
              "      <td>0</td>\n",
              "      <td>0</td>\n",
              "      <td>0</td>\n",
              "      <td>0</td>\n",
              "      <td>0</td>\n",
              "      <td>Metabolic</td>\n",
              "      <td>0</td>\n",
              "    </tr>\n",
              "    <tr>\n",
              "      <th>20488</th>\n",
              "      <td>65539</td>\n",
              "      <td>128056</td>\n",
              "      <td>30</td>\n",
              "      <td>53.0</td>\n",
              "      <td>45.935203</td>\n",
              "      <td>0</td>\n",
              "      <td>Caucasian</td>\n",
              "      <td>M</td>\n",
              "      <td>Accident &amp; Emergency</td>\n",
              "      <td>921</td>\n",
              "      <td>...</td>\n",
              "      <td>0.01</td>\n",
              "      <td>0</td>\n",
              "      <td>0</td>\n",
              "      <td>0</td>\n",
              "      <td>0</td>\n",
              "      <td>0</td>\n",
              "      <td>0</td>\n",
              "      <td>0</td>\n",
              "      <td>Cardiovascular</td>\n",
              "      <td>0</td>\n",
              "    </tr>\n",
              "    <tr>\n",
              "      <th>20489</th>\n",
              "      <td>111411</td>\n",
              "      <td>7848</td>\n",
              "      <td>195</td>\n",
              "      <td>67.0</td>\n",
              "      <td>28.876843</td>\n",
              "      <td>0</td>\n",
              "      <td>African American</td>\n",
              "      <td>M</td>\n",
              "      <td>Accident &amp; Emergency</td>\n",
              "      <td>908</td>\n",
              "      <td>...</td>\n",
              "      <td>0.00</td>\n",
              "      <td>0</td>\n",
              "      <td>0</td>\n",
              "      <td>0</td>\n",
              "      <td>0</td>\n",
              "      <td>0</td>\n",
              "      <td>0</td>\n",
              "      <td>0</td>\n",
              "      <td>Metabolic</td>\n",
              "      <td>0</td>\n",
              "    </tr>\n",
              "    <tr>\n",
              "      <th>20490</th>\n",
              "      <td>91592</td>\n",
              "      <td>78108</td>\n",
              "      <td>30</td>\n",
              "      <td>75.0</td>\n",
              "      <td>23.060250</td>\n",
              "      <td>0</td>\n",
              "      <td>Caucasian</td>\n",
              "      <td>M</td>\n",
              "      <td>Floor</td>\n",
              "      <td>927</td>\n",
              "      <td>...</td>\n",
              "      <td>0.05</td>\n",
              "      <td>0</td>\n",
              "      <td>0</td>\n",
              "      <td>0</td>\n",
              "      <td>0</td>\n",
              "      <td>0</td>\n",
              "      <td>0</td>\n",
              "      <td>1</td>\n",
              "      <td>Cardiovascular</td>\n",
              "      <td>0</td>\n",
              "    </tr>\n",
              "    <tr>\n",
              "      <th>20491</th>\n",
              "      <td>8981</td>\n",
              "      <td>58179</td>\n",
              "      <td>195</td>\n",
              "      <td>48.0</td>\n",
              "      <td>27.236914</td>\n",
              "      <td>0</td>\n",
              "      <td>Caucasian</td>\n",
              "      <td>M</td>\n",
              "      <td>Accident &amp; Emergency</td>\n",
              "      <td>908</td>\n",
              "      <td>...</td>\n",
              "      <td>0.02</td>\n",
              "      <td>0</td>\n",
              "      <td>0</td>\n",
              "      <td>0</td>\n",
              "      <td>0</td>\n",
              "      <td>0</td>\n",
              "      <td>0</td>\n",
              "      <td>0</td>\n",
              "      <td>Metabolic</td>\n",
              "      <td>0</td>\n",
              "    </tr>\n",
              "  </tbody>\n",
              "</table>\n",
              "<p>20492 rows × 37 columns</p>\n",
              "</div>\n",
              "      <button class=\"colab-df-convert\" onclick=\"convertToInteractive('df-bc7366aa-6ec0-4c80-a312-dd028a0d4ea4')\"\n",
              "              title=\"Convert this dataframe to an interactive table.\"\n",
              "              style=\"display:none;\">\n",
              "        \n",
              "  <svg xmlns=\"http://www.w3.org/2000/svg\" height=\"24px\"viewBox=\"0 0 24 24\"\n",
              "       width=\"24px\">\n",
              "    <path d=\"M0 0h24v24H0V0z\" fill=\"none\"/>\n",
              "    <path d=\"M18.56 5.44l.94 2.06.94-2.06 2.06-.94-2.06-.94-.94-2.06-.94 2.06-2.06.94zm-11 1L8.5 8.5l.94-2.06 2.06-.94-2.06-.94L8.5 2.5l-.94 2.06-2.06.94zm10 10l.94 2.06.94-2.06 2.06-.94-2.06-.94-.94-2.06-.94 2.06-2.06.94z\"/><path d=\"M17.41 7.96l-1.37-1.37c-.4-.4-.92-.59-1.43-.59-.52 0-1.04.2-1.43.59L10.3 9.45l-7.72 7.72c-.78.78-.78 2.05 0 2.83L4 21.41c.39.39.9.59 1.41.59.51 0 1.02-.2 1.41-.59l7.78-7.78 2.81-2.81c.8-.78.8-2.07 0-2.86zM5.41 20L4 18.59l7.72-7.72 1.47 1.35L5.41 20z\"/>\n",
              "  </svg>\n",
              "      </button>\n",
              "      \n",
              "  <style>\n",
              "    .colab-df-container {\n",
              "      display:flex;\n",
              "      flex-wrap:wrap;\n",
              "      gap: 12px;\n",
              "    }\n",
              "\n",
              "    .colab-df-convert {\n",
              "      background-color: #E8F0FE;\n",
              "      border: none;\n",
              "      border-radius: 50%;\n",
              "      cursor: pointer;\n",
              "      display: none;\n",
              "      fill: #1967D2;\n",
              "      height: 32px;\n",
              "      padding: 0 0 0 0;\n",
              "      width: 32px;\n",
              "    }\n",
              "\n",
              "    .colab-df-convert:hover {\n",
              "      background-color: #E2EBFA;\n",
              "      box-shadow: 0px 1px 2px rgba(60, 64, 67, 0.3), 0px 1px 3px 1px rgba(60, 64, 67, 0.15);\n",
              "      fill: #174EA6;\n",
              "    }\n",
              "\n",
              "    [theme=dark] .colab-df-convert {\n",
              "      background-color: #3B4455;\n",
              "      fill: #D2E3FC;\n",
              "    }\n",
              "\n",
              "    [theme=dark] .colab-df-convert:hover {\n",
              "      background-color: #434B5C;\n",
              "      box-shadow: 0px 1px 3px 1px rgba(0, 0, 0, 0.15);\n",
              "      filter: drop-shadow(0px 1px 2px rgba(0, 0, 0, 0.3));\n",
              "      fill: #FFFFFF;\n",
              "    }\n",
              "  </style>\n",
              "\n",
              "      <script>\n",
              "        const buttonEl =\n",
              "          document.querySelector('#df-bc7366aa-6ec0-4c80-a312-dd028a0d4ea4 button.colab-df-convert');\n",
              "        buttonEl.style.display =\n",
              "          google.colab.kernel.accessAllowed ? 'block' : 'none';\n",
              "\n",
              "        async function convertToInteractive(key) {\n",
              "          const element = document.querySelector('#df-bc7366aa-6ec0-4c80-a312-dd028a0d4ea4');\n",
              "          const dataTable =\n",
              "            await google.colab.kernel.invokeFunction('convertToInteractive',\n",
              "                                                     [key], {});\n",
              "          if (!dataTable) return;\n",
              "\n",
              "          const docLinkHtml = 'Like what you see? Visit the ' +\n",
              "            '<a target=\"_blank\" href=https://colab.research.google.com/notebooks/data_table.ipynb>data table notebook</a>'\n",
              "            + ' to learn more about interactive tables.';\n",
              "          element.innerHTML = '';\n",
              "          dataTable['output_type'] = 'display_data';\n",
              "          await google.colab.output.renderOutput(dataTable, element);\n",
              "          const docLink = document.createElement('div');\n",
              "          docLink.innerHTML = docLinkHtml;\n",
              "          element.appendChild(docLink);\n",
              "        }\n",
              "      </script>\n",
              "    </div>\n",
              "  </div>\n",
              "  "
            ]
          },
          "metadata": {},
          "execution_count": 53
        }
      ]
    },
    {
      "cell_type": "code",
      "source": [
        "data.shape"
      ],
      "metadata": {
        "colab": {
          "base_uri": "https://localhost:8080/"
        },
        "id": "epBrkjd1X9T4",
        "outputId": "8987eecd-b294-402e-cccc-e15e59bb147b"
      },
      "execution_count": 54,
      "outputs": [
        {
          "output_type": "execute_result",
          "data": {
            "text/plain": [
              "(20492, 37)"
            ]
          },
          "metadata": {},
          "execution_count": 54
        }
      ]
    },
    {
      "cell_type": "code",
      "source": [
        "data.info()"
      ],
      "metadata": {
        "colab": {
          "base_uri": "https://localhost:8080/"
        },
        "id": "Y5eqy1Y6X9Lr",
        "outputId": "a767ea9a-1e1b-4181-d4c7-871556e42592"
      },
      "execution_count": 55,
      "outputs": [
        {
          "output_type": "stream",
          "name": "stdout",
          "text": [
            "<class 'pandas.core.frame.DataFrame'>\n",
            "RangeIndex: 20492 entries, 0 to 20491\n",
            "Data columns (total 37 columns):\n",
            " #   Column                         Non-Null Count  Dtype  \n",
            "---  ------                         --------------  -----  \n",
            " 0   encounter_id                   20492 non-null  int64  \n",
            " 1   patient_id                     20492 non-null  int64  \n",
            " 2   hospital_id                    20492 non-null  int64  \n",
            " 3   age                            19999 non-null  float64\n",
            " 4   bmi                            19739 non-null  float64\n",
            " 5   elective_surgery               20492 non-null  int64  \n",
            " 6   ethnicity                      20299 non-null  object \n",
            " 7   gender                         20491 non-null  object \n",
            " 8   icu_admit_source               20468 non-null  object \n",
            " 9   icu_id                         20492 non-null  int64  \n",
            " 10  icu_stay_type                  20492 non-null  object \n",
            " 11  icu_type                       20492 non-null  object \n",
            " 12  pre_icu_los_days               20492 non-null  float64\n",
            " 13  apache_2_diagnosis             20328 non-null  float64\n",
            " 14  arf_apache                     20492 non-null  int64  \n",
            " 15  intubated_apache               20492 non-null  int64  \n",
            " 16  d1_heartrate_max               20471 non-null  float64\n",
            " 17  d1_heartrate_min               20471 non-null  float64\n",
            " 18  d1_resprate_max                20407 non-null  float64\n",
            " 19  d1_resprate_min                20407 non-null  float64\n",
            " 20  d1_temp_max                    19920 non-null  float64\n",
            " 21  d1_temp_min                    19920 non-null  float64\n",
            " 22  d1_glucose_max                 20102 non-null  float64\n",
            " 23  d1_glucose_min                 20102 non-null  float64\n",
            " 24  d1_potassium_max               18915 non-null  float64\n",
            " 25  d1_potassium_min               18915 non-null  float64\n",
            " 26  apache_4a_hospital_death_prob  18788 non-null  float64\n",
            " 27  apache_4a_icu_death_prob       18788 non-null  float64\n",
            " 28  aids                           20492 non-null  int64  \n",
            " 29  cirrhosis                      20492 non-null  int64  \n",
            " 30  hepatic_failure                20492 non-null  int64  \n",
            " 31  immunosuppression              20492 non-null  int64  \n",
            " 32  leukemia                       20492 non-null  int64  \n",
            " 33  lymphoma                       20492 non-null  int64  \n",
            " 34  solid_tumor_with_metastasis    20492 non-null  int64  \n",
            " 35  apache_2_bodysystem            20328 non-null  object \n",
            " 36  hospital_death                 20492 non-null  int64  \n",
            "dtypes: float64(16), int64(15), object(6)\n",
            "memory usage: 5.8+ MB\n"
          ]
        }
      ]
    },
    {
      "cell_type": "code",
      "source": [
        "# Describe the dataset using statistical values\n",
        "data.describe()"
      ],
      "metadata": {
        "colab": {
          "base_uri": "https://localhost:8080/",
          "height": 394
        },
        "id": "2DE7AI2EFnsB",
        "outputId": "ac63fa5a-1a2f-4382-bda5-cca15d40701a"
      },
      "execution_count": 56,
      "outputs": [
        {
          "output_type": "execute_result",
          "data": {
            "text/plain": [
              "        encounter_id     patient_id   hospital_id           age           bmi  \\\n",
              "count   20492.000000   20492.000000  20492.000000  19999.000000  19739.000000   \n",
              "mean    65849.881466   65575.490777    107.025229     64.710286     31.833360   \n",
              "std     37772.594895   37846.671601     63.375655     14.373407      8.994962   \n",
              "min         1.000000      18.000000      2.000000     16.000000     14.844926   \n",
              "25%     33248.250000   33137.250000     47.000000     57.000000     25.708163   \n",
              "50%     66107.000000   65370.500000    116.000000     67.000000     30.245049   \n",
              "75%     98640.000000   98219.250000    166.000000     75.000000     36.124123   \n",
              "max    131046.000000  131051.000000    204.000000     89.000000     67.814990   \n",
              "\n",
              "       elective_surgery        icu_id  pre_icu_los_days  apache_2_diagnosis  \\\n",
              "count      20492.000000  20492.000000      20492.000000        20328.000000   \n",
              "mean           0.186365    515.123902          0.941478          186.317001   \n",
              "std            0.389411    229.221830          2.802880           87.325260   \n",
              "min            0.000000     82.000000         -0.211806          101.000000   \n",
              "25%            0.000000    376.000000          0.041667          113.000000   \n",
              "50%            0.000000    513.000000          0.152083          123.000000   \n",
              "75%            0.000000    684.000000          0.468750          302.000000   \n",
              "max            1.000000    927.000000        159.090972          308.000000   \n",
              "\n",
              "         arf_apache  ...  apache_4a_hospital_death_prob  \\\n",
              "count  20492.000000  ...                   18788.000000   \n",
              "mean       0.060999  ...                       0.093285   \n",
              "std        0.239335  ...                       0.236173   \n",
              "min        0.000000  ...                      -1.000000   \n",
              "25%        0.000000  ...                       0.020000   \n",
              "50%        0.000000  ...                       0.050000   \n",
              "75%        0.000000  ...                       0.130000   \n",
              "max        1.000000  ...                       0.990000   \n",
              "\n",
              "       apache_4a_icu_death_prob          aids     cirrhosis  hepatic_failure  \\\n",
              "count              18788.000000  20492.000000  20492.000000     20492.000000   \n",
              "mean                   0.048856      0.000293      0.019178         0.015225   \n",
              "std                    0.203942      0.017109      0.137154         0.122452   \n",
              "min                   -1.000000      0.000000      0.000000         0.000000   \n",
              "25%                    0.010000      0.000000      0.000000         0.000000   \n",
              "50%                    0.020000      0.000000      0.000000         0.000000   \n",
              "75%                    0.060000      0.000000      0.000000         0.000000   \n",
              "max                    0.960000      1.000000      1.000000         1.000000   \n",
              "\n",
              "       immunosuppression      leukemia      lymphoma  \\\n",
              "count       20492.000000  20492.000000  20492.000000   \n",
              "mean            0.025425      0.007515      0.003855   \n",
              "std             0.157415      0.086366      0.061972   \n",
              "min             0.000000      0.000000      0.000000   \n",
              "25%             0.000000      0.000000      0.000000   \n",
              "50%             0.000000      0.000000      0.000000   \n",
              "75%             0.000000      0.000000      0.000000   \n",
              "max             1.000000      1.000000      1.000000   \n",
              "\n",
              "       solid_tumor_with_metastasis  hospital_death  \n",
              "count                 20492.000000    20492.000000  \n",
              "mean                      0.017177        0.077835  \n",
              "std                       0.129935        0.267919  \n",
              "min                       0.000000        0.000000  \n",
              "25%                       0.000000        0.000000  \n",
              "50%                       0.000000        0.000000  \n",
              "75%                       0.000000        0.000000  \n",
              "max                       1.000000        1.000000  \n",
              "\n",
              "[8 rows x 31 columns]"
            ],
            "text/html": [
              "\n",
              "  <div id=\"df-0b0eff63-9325-4228-87f3-d8281e5033af\">\n",
              "    <div class=\"colab-df-container\">\n",
              "      <div>\n",
              "<style scoped>\n",
              "    .dataframe tbody tr th:only-of-type {\n",
              "        vertical-align: middle;\n",
              "    }\n",
              "\n",
              "    .dataframe tbody tr th {\n",
              "        vertical-align: top;\n",
              "    }\n",
              "\n",
              "    .dataframe thead th {\n",
              "        text-align: right;\n",
              "    }\n",
              "</style>\n",
              "<table border=\"1\" class=\"dataframe\">\n",
              "  <thead>\n",
              "    <tr style=\"text-align: right;\">\n",
              "      <th></th>\n",
              "      <th>encounter_id</th>\n",
              "      <th>patient_id</th>\n",
              "      <th>hospital_id</th>\n",
              "      <th>age</th>\n",
              "      <th>bmi</th>\n",
              "      <th>elective_surgery</th>\n",
              "      <th>icu_id</th>\n",
              "      <th>pre_icu_los_days</th>\n",
              "      <th>apache_2_diagnosis</th>\n",
              "      <th>arf_apache</th>\n",
              "      <th>...</th>\n",
              "      <th>apache_4a_hospital_death_prob</th>\n",
              "      <th>apache_4a_icu_death_prob</th>\n",
              "      <th>aids</th>\n",
              "      <th>cirrhosis</th>\n",
              "      <th>hepatic_failure</th>\n",
              "      <th>immunosuppression</th>\n",
              "      <th>leukemia</th>\n",
              "      <th>lymphoma</th>\n",
              "      <th>solid_tumor_with_metastasis</th>\n",
              "      <th>hospital_death</th>\n",
              "    </tr>\n",
              "  </thead>\n",
              "  <tbody>\n",
              "    <tr>\n",
              "      <th>count</th>\n",
              "      <td>20492.000000</td>\n",
              "      <td>20492.000000</td>\n",
              "      <td>20492.000000</td>\n",
              "      <td>19999.000000</td>\n",
              "      <td>19739.000000</td>\n",
              "      <td>20492.000000</td>\n",
              "      <td>20492.000000</td>\n",
              "      <td>20492.000000</td>\n",
              "      <td>20328.000000</td>\n",
              "      <td>20492.000000</td>\n",
              "      <td>...</td>\n",
              "      <td>18788.000000</td>\n",
              "      <td>18788.000000</td>\n",
              "      <td>20492.000000</td>\n",
              "      <td>20492.000000</td>\n",
              "      <td>20492.000000</td>\n",
              "      <td>20492.000000</td>\n",
              "      <td>20492.000000</td>\n",
              "      <td>20492.000000</td>\n",
              "      <td>20492.000000</td>\n",
              "      <td>20492.000000</td>\n",
              "    </tr>\n",
              "    <tr>\n",
              "      <th>mean</th>\n",
              "      <td>65849.881466</td>\n",
              "      <td>65575.490777</td>\n",
              "      <td>107.025229</td>\n",
              "      <td>64.710286</td>\n",
              "      <td>31.833360</td>\n",
              "      <td>0.186365</td>\n",
              "      <td>515.123902</td>\n",
              "      <td>0.941478</td>\n",
              "      <td>186.317001</td>\n",
              "      <td>0.060999</td>\n",
              "      <td>...</td>\n",
              "      <td>0.093285</td>\n",
              "      <td>0.048856</td>\n",
              "      <td>0.000293</td>\n",
              "      <td>0.019178</td>\n",
              "      <td>0.015225</td>\n",
              "      <td>0.025425</td>\n",
              "      <td>0.007515</td>\n",
              "      <td>0.003855</td>\n",
              "      <td>0.017177</td>\n",
              "      <td>0.077835</td>\n",
              "    </tr>\n",
              "    <tr>\n",
              "      <th>std</th>\n",
              "      <td>37772.594895</td>\n",
              "      <td>37846.671601</td>\n",
              "      <td>63.375655</td>\n",
              "      <td>14.373407</td>\n",
              "      <td>8.994962</td>\n",
              "      <td>0.389411</td>\n",
              "      <td>229.221830</td>\n",
              "      <td>2.802880</td>\n",
              "      <td>87.325260</td>\n",
              "      <td>0.239335</td>\n",
              "      <td>...</td>\n",
              "      <td>0.236173</td>\n",
              "      <td>0.203942</td>\n",
              "      <td>0.017109</td>\n",
              "      <td>0.137154</td>\n",
              "      <td>0.122452</td>\n",
              "      <td>0.157415</td>\n",
              "      <td>0.086366</td>\n",
              "      <td>0.061972</td>\n",
              "      <td>0.129935</td>\n",
              "      <td>0.267919</td>\n",
              "    </tr>\n",
              "    <tr>\n",
              "      <th>min</th>\n",
              "      <td>1.000000</td>\n",
              "      <td>18.000000</td>\n",
              "      <td>2.000000</td>\n",
              "      <td>16.000000</td>\n",
              "      <td>14.844926</td>\n",
              "      <td>0.000000</td>\n",
              "      <td>82.000000</td>\n",
              "      <td>-0.211806</td>\n",
              "      <td>101.000000</td>\n",
              "      <td>0.000000</td>\n",
              "      <td>...</td>\n",
              "      <td>-1.000000</td>\n",
              "      <td>-1.000000</td>\n",
              "      <td>0.000000</td>\n",
              "      <td>0.000000</td>\n",
              "      <td>0.000000</td>\n",
              "      <td>0.000000</td>\n",
              "      <td>0.000000</td>\n",
              "      <td>0.000000</td>\n",
              "      <td>0.000000</td>\n",
              "      <td>0.000000</td>\n",
              "    </tr>\n",
              "    <tr>\n",
              "      <th>25%</th>\n",
              "      <td>33248.250000</td>\n",
              "      <td>33137.250000</td>\n",
              "      <td>47.000000</td>\n",
              "      <td>57.000000</td>\n",
              "      <td>25.708163</td>\n",
              "      <td>0.000000</td>\n",
              "      <td>376.000000</td>\n",
              "      <td>0.041667</td>\n",
              "      <td>113.000000</td>\n",
              "      <td>0.000000</td>\n",
              "      <td>...</td>\n",
              "      <td>0.020000</td>\n",
              "      <td>0.010000</td>\n",
              "      <td>0.000000</td>\n",
              "      <td>0.000000</td>\n",
              "      <td>0.000000</td>\n",
              "      <td>0.000000</td>\n",
              "      <td>0.000000</td>\n",
              "      <td>0.000000</td>\n",
              "      <td>0.000000</td>\n",
              "      <td>0.000000</td>\n",
              "    </tr>\n",
              "    <tr>\n",
              "      <th>50%</th>\n",
              "      <td>66107.000000</td>\n",
              "      <td>65370.500000</td>\n",
              "      <td>116.000000</td>\n",
              "      <td>67.000000</td>\n",
              "      <td>30.245049</td>\n",
              "      <td>0.000000</td>\n",
              "      <td>513.000000</td>\n",
              "      <td>0.152083</td>\n",
              "      <td>123.000000</td>\n",
              "      <td>0.000000</td>\n",
              "      <td>...</td>\n",
              "      <td>0.050000</td>\n",
              "      <td>0.020000</td>\n",
              "      <td>0.000000</td>\n",
              "      <td>0.000000</td>\n",
              "      <td>0.000000</td>\n",
              "      <td>0.000000</td>\n",
              "      <td>0.000000</td>\n",
              "      <td>0.000000</td>\n",
              "      <td>0.000000</td>\n",
              "      <td>0.000000</td>\n",
              "    </tr>\n",
              "    <tr>\n",
              "      <th>75%</th>\n",
              "      <td>98640.000000</td>\n",
              "      <td>98219.250000</td>\n",
              "      <td>166.000000</td>\n",
              "      <td>75.000000</td>\n",
              "      <td>36.124123</td>\n",
              "      <td>0.000000</td>\n",
              "      <td>684.000000</td>\n",
              "      <td>0.468750</td>\n",
              "      <td>302.000000</td>\n",
              "      <td>0.000000</td>\n",
              "      <td>...</td>\n",
              "      <td>0.130000</td>\n",
              "      <td>0.060000</td>\n",
              "      <td>0.000000</td>\n",
              "      <td>0.000000</td>\n",
              "      <td>0.000000</td>\n",
              "      <td>0.000000</td>\n",
              "      <td>0.000000</td>\n",
              "      <td>0.000000</td>\n",
              "      <td>0.000000</td>\n",
              "      <td>0.000000</td>\n",
              "    </tr>\n",
              "    <tr>\n",
              "      <th>max</th>\n",
              "      <td>131046.000000</td>\n",
              "      <td>131051.000000</td>\n",
              "      <td>204.000000</td>\n",
              "      <td>89.000000</td>\n",
              "      <td>67.814990</td>\n",
              "      <td>1.000000</td>\n",
              "      <td>927.000000</td>\n",
              "      <td>159.090972</td>\n",
              "      <td>308.000000</td>\n",
              "      <td>1.000000</td>\n",
              "      <td>...</td>\n",
              "      <td>0.990000</td>\n",
              "      <td>0.960000</td>\n",
              "      <td>1.000000</td>\n",
              "      <td>1.000000</td>\n",
              "      <td>1.000000</td>\n",
              "      <td>1.000000</td>\n",
              "      <td>1.000000</td>\n",
              "      <td>1.000000</td>\n",
              "      <td>1.000000</td>\n",
              "      <td>1.000000</td>\n",
              "    </tr>\n",
              "  </tbody>\n",
              "</table>\n",
              "<p>8 rows × 31 columns</p>\n",
              "</div>\n",
              "      <button class=\"colab-df-convert\" onclick=\"convertToInteractive('df-0b0eff63-9325-4228-87f3-d8281e5033af')\"\n",
              "              title=\"Convert this dataframe to an interactive table.\"\n",
              "              style=\"display:none;\">\n",
              "        \n",
              "  <svg xmlns=\"http://www.w3.org/2000/svg\" height=\"24px\"viewBox=\"0 0 24 24\"\n",
              "       width=\"24px\">\n",
              "    <path d=\"M0 0h24v24H0V0z\" fill=\"none\"/>\n",
              "    <path d=\"M18.56 5.44l.94 2.06.94-2.06 2.06-.94-2.06-.94-.94-2.06-.94 2.06-2.06.94zm-11 1L8.5 8.5l.94-2.06 2.06-.94-2.06-.94L8.5 2.5l-.94 2.06-2.06.94zm10 10l.94 2.06.94-2.06 2.06-.94-2.06-.94-.94-2.06-.94 2.06-2.06.94z\"/><path d=\"M17.41 7.96l-1.37-1.37c-.4-.4-.92-.59-1.43-.59-.52 0-1.04.2-1.43.59L10.3 9.45l-7.72 7.72c-.78.78-.78 2.05 0 2.83L4 21.41c.39.39.9.59 1.41.59.51 0 1.02-.2 1.41-.59l7.78-7.78 2.81-2.81c.8-.78.8-2.07 0-2.86zM5.41 20L4 18.59l7.72-7.72 1.47 1.35L5.41 20z\"/>\n",
              "  </svg>\n",
              "      </button>\n",
              "      \n",
              "  <style>\n",
              "    .colab-df-container {\n",
              "      display:flex;\n",
              "      flex-wrap:wrap;\n",
              "      gap: 12px;\n",
              "    }\n",
              "\n",
              "    .colab-df-convert {\n",
              "      background-color: #E8F0FE;\n",
              "      border: none;\n",
              "      border-radius: 50%;\n",
              "      cursor: pointer;\n",
              "      display: none;\n",
              "      fill: #1967D2;\n",
              "      height: 32px;\n",
              "      padding: 0 0 0 0;\n",
              "      width: 32px;\n",
              "    }\n",
              "\n",
              "    .colab-df-convert:hover {\n",
              "      background-color: #E2EBFA;\n",
              "      box-shadow: 0px 1px 2px rgba(60, 64, 67, 0.3), 0px 1px 3px 1px rgba(60, 64, 67, 0.15);\n",
              "      fill: #174EA6;\n",
              "    }\n",
              "\n",
              "    [theme=dark] .colab-df-convert {\n",
              "      background-color: #3B4455;\n",
              "      fill: #D2E3FC;\n",
              "    }\n",
              "\n",
              "    [theme=dark] .colab-df-convert:hover {\n",
              "      background-color: #434B5C;\n",
              "      box-shadow: 0px 1px 3px 1px rgba(0, 0, 0, 0.15);\n",
              "      filter: drop-shadow(0px 1px 2px rgba(0, 0, 0, 0.3));\n",
              "      fill: #FFFFFF;\n",
              "    }\n",
              "  </style>\n",
              "\n",
              "      <script>\n",
              "        const buttonEl =\n",
              "          document.querySelector('#df-0b0eff63-9325-4228-87f3-d8281e5033af button.colab-df-convert');\n",
              "        buttonEl.style.display =\n",
              "          google.colab.kernel.accessAllowed ? 'block' : 'none';\n",
              "\n",
              "        async function convertToInteractive(key) {\n",
              "          const element = document.querySelector('#df-0b0eff63-9325-4228-87f3-d8281e5033af');\n",
              "          const dataTable =\n",
              "            await google.colab.kernel.invokeFunction('convertToInteractive',\n",
              "                                                     [key], {});\n",
              "          if (!dataTable) return;\n",
              "\n",
              "          const docLinkHtml = 'Like what you see? Visit the ' +\n",
              "            '<a target=\"_blank\" href=https://colab.research.google.com/notebooks/data_table.ipynb>data table notebook</a>'\n",
              "            + ' to learn more about interactive tables.';\n",
              "          element.innerHTML = '';\n",
              "          dataTable['output_type'] = 'display_data';\n",
              "          await google.colab.output.renderOutput(dataTable, element);\n",
              "          const docLink = document.createElement('div');\n",
              "          docLink.innerHTML = docLinkHtml;\n",
              "          element.appendChild(docLink);\n",
              "        }\n",
              "      </script>\n",
              "    </div>\n",
              "  </div>\n",
              "  "
            ]
          },
          "metadata": {},
          "execution_count": 56
        }
      ]
    },
    {
      "cell_type": "code",
      "source": [
        "# List the columns according to their NULL value counts\n",
        "data.isnull().sum(axis=0).sort_values(ascending=False)"
      ],
      "metadata": {
        "colab": {
          "base_uri": "https://localhost:8080/"
        },
        "id": "rk4YoP7OFnh6",
        "outputId": "6067a9db-8204-4c19-9d48-86e0d5d0ae76"
      },
      "execution_count": 57,
      "outputs": [
        {
          "output_type": "execute_result",
          "data": {
            "text/plain": [
              "apache_4a_hospital_death_prob    1704\n",
              "apache_4a_icu_death_prob         1704\n",
              "d1_potassium_min                 1577\n",
              "d1_potassium_max                 1577\n",
              "bmi                               753\n",
              "d1_temp_min                       572\n",
              "d1_temp_max                       572\n",
              "age                               493\n",
              "d1_glucose_min                    390\n",
              "d1_glucose_max                    390\n",
              "ethnicity                         193\n",
              "apache_2_diagnosis                164\n",
              "apache_2_bodysystem               164\n",
              "d1_resprate_min                    85\n",
              "d1_resprate_max                    85\n",
              "icu_admit_source                   24\n",
              "d1_heartrate_max                   21\n",
              "d1_heartrate_min                   21\n",
              "gender                              1\n",
              "hepatic_failure                     0\n",
              "immunosuppression                   0\n",
              "cirrhosis                           0\n",
              "aids                                0\n",
              "leukemia                            0\n",
              "lymphoma                            0\n",
              "solid_tumor_with_metastasis         0\n",
              "encounter_id                        0\n",
              "patient_id                          0\n",
              "intubated_apache                    0\n",
              "arf_apache                          0\n",
              "pre_icu_los_days                    0\n",
              "icu_type                            0\n",
              "icu_stay_type                       0\n",
              "icu_id                              0\n",
              "elective_surgery                    0\n",
              "hospital_id                         0\n",
              "hospital_death                      0\n",
              "dtype: int64"
            ]
          },
          "metadata": {},
          "execution_count": 57
        }
      ]
    },
    {
      "cell_type": "code",
      "source": [
        "# Selecting columns with more than 1000 NULL values\n",
        "null_cols = data.isnull().sum(axis=0).sort_values(ascending=False)[data.isnull().sum(axis=0).sort_values(ascending=False) > 1000]\n",
        "\n",
        "# Drop Unnecessary ID columns and above selected columns with many NULL values\n",
        "data.drop(null_cols.index.tolist() + ['encounter_id', 'icu_id', 'patient_id', 'hospital_id'], axis=1, inplace = True)"
      ],
      "metadata": {
        "id": "ng98O6HYFnYk"
      },
      "execution_count": 58,
      "outputs": []
    },
    {
      "cell_type": "code",
      "source": [
        "data"
      ],
      "metadata": {
        "colab": {
          "base_uri": "https://localhost:8080/",
          "height": 644
        },
        "id": "17nr8AXNFnUN",
        "outputId": "4be8ab35-02dd-4afc-fa3b-74597e8c2cee"
      },
      "execution_count": 59,
      "outputs": [
        {
          "output_type": "execute_result",
          "data": {
            "text/plain": [
              "        age        bmi  elective_surgery         ethnicity gender  \\\n",
              "0      68.0  22.730000                 0         Caucasian      M   \n",
              "1      77.0  27.420000                 0         Caucasian      F   \n",
              "2      67.0  27.560000                 0         Caucasian      M   \n",
              "3      59.0  57.450000                 0         Caucasian      F   \n",
              "4      78.0        NaN                 0         Caucasian      F   \n",
              "...     ...        ...               ...               ...    ...   \n",
              "20487  21.0  24.874059                 0         Caucasian      M   \n",
              "20488  53.0  45.935203                 0         Caucasian      M   \n",
              "20489  67.0  28.876843                 0  African American      M   \n",
              "20490  75.0  23.060250                 0         Caucasian      M   \n",
              "20491  48.0  27.236914                 0         Caucasian      M   \n",
              "\n",
              "           icu_admit_source icu_stay_type      icu_type  pre_icu_los_days  \\\n",
              "0                     Floor         admit         CTICU          0.541667   \n",
              "1                     Floor         admit  Med-Surg ICU          0.927778   \n",
              "2      Accident & Emergency         admit  Med-Surg ICU          0.000694   \n",
              "3      Accident & Emergency         admit  Med-Surg ICU          0.000694   \n",
              "4      Accident & Emergency         admit          MICU          0.000694   \n",
              "...                     ...           ...           ...               ...   \n",
              "20487  Accident & Emergency         admit  Med-Surg ICU          0.052083   \n",
              "20488  Accident & Emergency         admit  Med-Surg ICU          0.097917   \n",
              "20489  Accident & Emergency         admit  Med-Surg ICU          0.213194   \n",
              "20490                 Floor         admit   Cardiac ICU          0.298611   \n",
              "20491  Accident & Emergency         admit  Med-Surg ICU          0.046528   \n",
              "\n",
              "       apache_2_diagnosis  ...  d1_glucose_min  aids  cirrhosis  \\\n",
              "0                   113.0  ...           109.0     0          0   \n",
              "1                   108.0  ...           128.0     0          0   \n",
              "2                   301.0  ...           125.0     0          0   \n",
              "3                   108.0  ...           129.0     0          0   \n",
              "4                   113.0  ...            90.0     0          0   \n",
              "...                   ...  ...             ...   ...        ...   \n",
              "20487               123.0  ...            78.0     0          0   \n",
              "20488               113.0  ...           151.0     0          0   \n",
              "20489               123.0  ...           118.0     0          0   \n",
              "20490               113.0  ...           187.0     0          0   \n",
              "20491               123.0  ...            86.0     0          0   \n",
              "\n",
              "       hepatic_failure  immunosuppression  leukemia  lymphoma  \\\n",
              "0                    0                  0         0         0   \n",
              "1                    0                  0         0         0   \n",
              "2                    0                  0         0         0   \n",
              "3                    0                  0         0         0   \n",
              "4                    0                  0         0         0   \n",
              "...                ...                ...       ...       ...   \n",
              "20487                0                  0         0         0   \n",
              "20488                0                  0         0         0   \n",
              "20489                0                  0         0         0   \n",
              "20490                0                  0         0         0   \n",
              "20491                0                  0         0         0   \n",
              "\n",
              "       solid_tumor_with_metastasis  apache_2_bodysystem  hospital_death  \n",
              "0                                0       Cardiovascular               0  \n",
              "1                                0          Respiratory               0  \n",
              "2                                0           Neurologic               0  \n",
              "3                                0          Respiratory               0  \n",
              "4                                0       Cardiovascular               0  \n",
              "...                            ...                  ...             ...  \n",
              "20487                            0            Metabolic               0  \n",
              "20488                            0       Cardiovascular               0  \n",
              "20489                            0            Metabolic               0  \n",
              "20490                            1       Cardiovascular               0  \n",
              "20491                            0            Metabolic               0  \n",
              "\n",
              "[20492 rows x 29 columns]"
            ],
            "text/html": [
              "\n",
              "  <div id=\"df-c5f377d1-3002-4701-b52d-0e540ecd5751\">\n",
              "    <div class=\"colab-df-container\">\n",
              "      <div>\n",
              "<style scoped>\n",
              "    .dataframe tbody tr th:only-of-type {\n",
              "        vertical-align: middle;\n",
              "    }\n",
              "\n",
              "    .dataframe tbody tr th {\n",
              "        vertical-align: top;\n",
              "    }\n",
              "\n",
              "    .dataframe thead th {\n",
              "        text-align: right;\n",
              "    }\n",
              "</style>\n",
              "<table border=\"1\" class=\"dataframe\">\n",
              "  <thead>\n",
              "    <tr style=\"text-align: right;\">\n",
              "      <th></th>\n",
              "      <th>age</th>\n",
              "      <th>bmi</th>\n",
              "      <th>elective_surgery</th>\n",
              "      <th>ethnicity</th>\n",
              "      <th>gender</th>\n",
              "      <th>icu_admit_source</th>\n",
              "      <th>icu_stay_type</th>\n",
              "      <th>icu_type</th>\n",
              "      <th>pre_icu_los_days</th>\n",
              "      <th>apache_2_diagnosis</th>\n",
              "      <th>...</th>\n",
              "      <th>d1_glucose_min</th>\n",
              "      <th>aids</th>\n",
              "      <th>cirrhosis</th>\n",
              "      <th>hepatic_failure</th>\n",
              "      <th>immunosuppression</th>\n",
              "      <th>leukemia</th>\n",
              "      <th>lymphoma</th>\n",
              "      <th>solid_tumor_with_metastasis</th>\n",
              "      <th>apache_2_bodysystem</th>\n",
              "      <th>hospital_death</th>\n",
              "    </tr>\n",
              "  </thead>\n",
              "  <tbody>\n",
              "    <tr>\n",
              "      <th>0</th>\n",
              "      <td>68.0</td>\n",
              "      <td>22.730000</td>\n",
              "      <td>0</td>\n",
              "      <td>Caucasian</td>\n",
              "      <td>M</td>\n",
              "      <td>Floor</td>\n",
              "      <td>admit</td>\n",
              "      <td>CTICU</td>\n",
              "      <td>0.541667</td>\n",
              "      <td>113.0</td>\n",
              "      <td>...</td>\n",
              "      <td>109.0</td>\n",
              "      <td>0</td>\n",
              "      <td>0</td>\n",
              "      <td>0</td>\n",
              "      <td>0</td>\n",
              "      <td>0</td>\n",
              "      <td>0</td>\n",
              "      <td>0</td>\n",
              "      <td>Cardiovascular</td>\n",
              "      <td>0</td>\n",
              "    </tr>\n",
              "    <tr>\n",
              "      <th>1</th>\n",
              "      <td>77.0</td>\n",
              "      <td>27.420000</td>\n",
              "      <td>0</td>\n",
              "      <td>Caucasian</td>\n",
              "      <td>F</td>\n",
              "      <td>Floor</td>\n",
              "      <td>admit</td>\n",
              "      <td>Med-Surg ICU</td>\n",
              "      <td>0.927778</td>\n",
              "      <td>108.0</td>\n",
              "      <td>...</td>\n",
              "      <td>128.0</td>\n",
              "      <td>0</td>\n",
              "      <td>0</td>\n",
              "      <td>0</td>\n",
              "      <td>0</td>\n",
              "      <td>0</td>\n",
              "      <td>0</td>\n",
              "      <td>0</td>\n",
              "      <td>Respiratory</td>\n",
              "      <td>0</td>\n",
              "    </tr>\n",
              "    <tr>\n",
              "      <th>2</th>\n",
              "      <td>67.0</td>\n",
              "      <td>27.560000</td>\n",
              "      <td>0</td>\n",
              "      <td>Caucasian</td>\n",
              "      <td>M</td>\n",
              "      <td>Accident &amp; Emergency</td>\n",
              "      <td>admit</td>\n",
              "      <td>Med-Surg ICU</td>\n",
              "      <td>0.000694</td>\n",
              "      <td>301.0</td>\n",
              "      <td>...</td>\n",
              "      <td>125.0</td>\n",
              "      <td>0</td>\n",
              "      <td>0</td>\n",
              "      <td>0</td>\n",
              "      <td>0</td>\n",
              "      <td>0</td>\n",
              "      <td>0</td>\n",
              "      <td>0</td>\n",
              "      <td>Neurologic</td>\n",
              "      <td>0</td>\n",
              "    </tr>\n",
              "    <tr>\n",
              "      <th>3</th>\n",
              "      <td>59.0</td>\n",
              "      <td>57.450000</td>\n",
              "      <td>0</td>\n",
              "      <td>Caucasian</td>\n",
              "      <td>F</td>\n",
              "      <td>Accident &amp; Emergency</td>\n",
              "      <td>admit</td>\n",
              "      <td>Med-Surg ICU</td>\n",
              "      <td>0.000694</td>\n",
              "      <td>108.0</td>\n",
              "      <td>...</td>\n",
              "      <td>129.0</td>\n",
              "      <td>0</td>\n",
              "      <td>0</td>\n",
              "      <td>0</td>\n",
              "      <td>0</td>\n",
              "      <td>0</td>\n",
              "      <td>0</td>\n",
              "      <td>0</td>\n",
              "      <td>Respiratory</td>\n",
              "      <td>0</td>\n",
              "    </tr>\n",
              "    <tr>\n",
              "      <th>4</th>\n",
              "      <td>78.0</td>\n",
              "      <td>NaN</td>\n",
              "      <td>0</td>\n",
              "      <td>Caucasian</td>\n",
              "      <td>F</td>\n",
              "      <td>Accident &amp; Emergency</td>\n",
              "      <td>admit</td>\n",
              "      <td>MICU</td>\n",
              "      <td>0.000694</td>\n",
              "      <td>113.0</td>\n",
              "      <td>...</td>\n",
              "      <td>90.0</td>\n",
              "      <td>0</td>\n",
              "      <td>0</td>\n",
              "      <td>0</td>\n",
              "      <td>0</td>\n",
              "      <td>0</td>\n",
              "      <td>0</td>\n",
              "      <td>0</td>\n",
              "      <td>Cardiovascular</td>\n",
              "      <td>0</td>\n",
              "    </tr>\n",
              "    <tr>\n",
              "      <th>...</th>\n",
              "      <td>...</td>\n",
              "      <td>...</td>\n",
              "      <td>...</td>\n",
              "      <td>...</td>\n",
              "      <td>...</td>\n",
              "      <td>...</td>\n",
              "      <td>...</td>\n",
              "      <td>...</td>\n",
              "      <td>...</td>\n",
              "      <td>...</td>\n",
              "      <td>...</td>\n",
              "      <td>...</td>\n",
              "      <td>...</td>\n",
              "      <td>...</td>\n",
              "      <td>...</td>\n",
              "      <td>...</td>\n",
              "      <td>...</td>\n",
              "      <td>...</td>\n",
              "      <td>...</td>\n",
              "      <td>...</td>\n",
              "      <td>...</td>\n",
              "    </tr>\n",
              "    <tr>\n",
              "      <th>20487</th>\n",
              "      <td>21.0</td>\n",
              "      <td>24.874059</td>\n",
              "      <td>0</td>\n",
              "      <td>Caucasian</td>\n",
              "      <td>M</td>\n",
              "      <td>Accident &amp; Emergency</td>\n",
              "      <td>admit</td>\n",
              "      <td>Med-Surg ICU</td>\n",
              "      <td>0.052083</td>\n",
              "      <td>123.0</td>\n",
              "      <td>...</td>\n",
              "      <td>78.0</td>\n",
              "      <td>0</td>\n",
              "      <td>0</td>\n",
              "      <td>0</td>\n",
              "      <td>0</td>\n",
              "      <td>0</td>\n",
              "      <td>0</td>\n",
              "      <td>0</td>\n",
              "      <td>Metabolic</td>\n",
              "      <td>0</td>\n",
              "    </tr>\n",
              "    <tr>\n",
              "      <th>20488</th>\n",
              "      <td>53.0</td>\n",
              "      <td>45.935203</td>\n",
              "      <td>0</td>\n",
              "      <td>Caucasian</td>\n",
              "      <td>M</td>\n",
              "      <td>Accident &amp; Emergency</td>\n",
              "      <td>admit</td>\n",
              "      <td>Med-Surg ICU</td>\n",
              "      <td>0.097917</td>\n",
              "      <td>113.0</td>\n",
              "      <td>...</td>\n",
              "      <td>151.0</td>\n",
              "      <td>0</td>\n",
              "      <td>0</td>\n",
              "      <td>0</td>\n",
              "      <td>0</td>\n",
              "      <td>0</td>\n",
              "      <td>0</td>\n",
              "      <td>0</td>\n",
              "      <td>Cardiovascular</td>\n",
              "      <td>0</td>\n",
              "    </tr>\n",
              "    <tr>\n",
              "      <th>20489</th>\n",
              "      <td>67.0</td>\n",
              "      <td>28.876843</td>\n",
              "      <td>0</td>\n",
              "      <td>African American</td>\n",
              "      <td>M</td>\n",
              "      <td>Accident &amp; Emergency</td>\n",
              "      <td>admit</td>\n",
              "      <td>Med-Surg ICU</td>\n",
              "      <td>0.213194</td>\n",
              "      <td>123.0</td>\n",
              "      <td>...</td>\n",
              "      <td>118.0</td>\n",
              "      <td>0</td>\n",
              "      <td>0</td>\n",
              "      <td>0</td>\n",
              "      <td>0</td>\n",
              "      <td>0</td>\n",
              "      <td>0</td>\n",
              "      <td>0</td>\n",
              "      <td>Metabolic</td>\n",
              "      <td>0</td>\n",
              "    </tr>\n",
              "    <tr>\n",
              "      <th>20490</th>\n",
              "      <td>75.0</td>\n",
              "      <td>23.060250</td>\n",
              "      <td>0</td>\n",
              "      <td>Caucasian</td>\n",
              "      <td>M</td>\n",
              "      <td>Floor</td>\n",
              "      <td>admit</td>\n",
              "      <td>Cardiac ICU</td>\n",
              "      <td>0.298611</td>\n",
              "      <td>113.0</td>\n",
              "      <td>...</td>\n",
              "      <td>187.0</td>\n",
              "      <td>0</td>\n",
              "      <td>0</td>\n",
              "      <td>0</td>\n",
              "      <td>0</td>\n",
              "      <td>0</td>\n",
              "      <td>0</td>\n",
              "      <td>1</td>\n",
              "      <td>Cardiovascular</td>\n",
              "      <td>0</td>\n",
              "    </tr>\n",
              "    <tr>\n",
              "      <th>20491</th>\n",
              "      <td>48.0</td>\n",
              "      <td>27.236914</td>\n",
              "      <td>0</td>\n",
              "      <td>Caucasian</td>\n",
              "      <td>M</td>\n",
              "      <td>Accident &amp; Emergency</td>\n",
              "      <td>admit</td>\n",
              "      <td>Med-Surg ICU</td>\n",
              "      <td>0.046528</td>\n",
              "      <td>123.0</td>\n",
              "      <td>...</td>\n",
              "      <td>86.0</td>\n",
              "      <td>0</td>\n",
              "      <td>0</td>\n",
              "      <td>0</td>\n",
              "      <td>0</td>\n",
              "      <td>0</td>\n",
              "      <td>0</td>\n",
              "      <td>0</td>\n",
              "      <td>Metabolic</td>\n",
              "      <td>0</td>\n",
              "    </tr>\n",
              "  </tbody>\n",
              "</table>\n",
              "<p>20492 rows × 29 columns</p>\n",
              "</div>\n",
              "      <button class=\"colab-df-convert\" onclick=\"convertToInteractive('df-c5f377d1-3002-4701-b52d-0e540ecd5751')\"\n",
              "              title=\"Convert this dataframe to an interactive table.\"\n",
              "              style=\"display:none;\">\n",
              "        \n",
              "  <svg xmlns=\"http://www.w3.org/2000/svg\" height=\"24px\"viewBox=\"0 0 24 24\"\n",
              "       width=\"24px\">\n",
              "    <path d=\"M0 0h24v24H0V0z\" fill=\"none\"/>\n",
              "    <path d=\"M18.56 5.44l.94 2.06.94-2.06 2.06-.94-2.06-.94-.94-2.06-.94 2.06-2.06.94zm-11 1L8.5 8.5l.94-2.06 2.06-.94-2.06-.94L8.5 2.5l-.94 2.06-2.06.94zm10 10l.94 2.06.94-2.06 2.06-.94-2.06-.94-.94-2.06-.94 2.06-2.06.94z\"/><path d=\"M17.41 7.96l-1.37-1.37c-.4-.4-.92-.59-1.43-.59-.52 0-1.04.2-1.43.59L10.3 9.45l-7.72 7.72c-.78.78-.78 2.05 0 2.83L4 21.41c.39.39.9.59 1.41.59.51 0 1.02-.2 1.41-.59l7.78-7.78 2.81-2.81c.8-.78.8-2.07 0-2.86zM5.41 20L4 18.59l7.72-7.72 1.47 1.35L5.41 20z\"/>\n",
              "  </svg>\n",
              "      </button>\n",
              "      \n",
              "  <style>\n",
              "    .colab-df-container {\n",
              "      display:flex;\n",
              "      flex-wrap:wrap;\n",
              "      gap: 12px;\n",
              "    }\n",
              "\n",
              "    .colab-df-convert {\n",
              "      background-color: #E8F0FE;\n",
              "      border: none;\n",
              "      border-radius: 50%;\n",
              "      cursor: pointer;\n",
              "      display: none;\n",
              "      fill: #1967D2;\n",
              "      height: 32px;\n",
              "      padding: 0 0 0 0;\n",
              "      width: 32px;\n",
              "    }\n",
              "\n",
              "    .colab-df-convert:hover {\n",
              "      background-color: #E2EBFA;\n",
              "      box-shadow: 0px 1px 2px rgba(60, 64, 67, 0.3), 0px 1px 3px 1px rgba(60, 64, 67, 0.15);\n",
              "      fill: #174EA6;\n",
              "    }\n",
              "\n",
              "    [theme=dark] .colab-df-convert {\n",
              "      background-color: #3B4455;\n",
              "      fill: #D2E3FC;\n",
              "    }\n",
              "\n",
              "    [theme=dark] .colab-df-convert:hover {\n",
              "      background-color: #434B5C;\n",
              "      box-shadow: 0px 1px 3px 1px rgba(0, 0, 0, 0.15);\n",
              "      filter: drop-shadow(0px 1px 2px rgba(0, 0, 0, 0.3));\n",
              "      fill: #FFFFFF;\n",
              "    }\n",
              "  </style>\n",
              "\n",
              "      <script>\n",
              "        const buttonEl =\n",
              "          document.querySelector('#df-c5f377d1-3002-4701-b52d-0e540ecd5751 button.colab-df-convert');\n",
              "        buttonEl.style.display =\n",
              "          google.colab.kernel.accessAllowed ? 'block' : 'none';\n",
              "\n",
              "        async function convertToInteractive(key) {\n",
              "          const element = document.querySelector('#df-c5f377d1-3002-4701-b52d-0e540ecd5751');\n",
              "          const dataTable =\n",
              "            await google.colab.kernel.invokeFunction('convertToInteractive',\n",
              "                                                     [key], {});\n",
              "          if (!dataTable) return;\n",
              "\n",
              "          const docLinkHtml = 'Like what you see? Visit the ' +\n",
              "            '<a target=\"_blank\" href=https://colab.research.google.com/notebooks/data_table.ipynb>data table notebook</a>'\n",
              "            + ' to learn more about interactive tables.';\n",
              "          element.innerHTML = '';\n",
              "          dataTable['output_type'] = 'display_data';\n",
              "          await google.colab.output.renderOutput(dataTable, element);\n",
              "          const docLink = document.createElement('div');\n",
              "          docLink.innerHTML = docLinkHtml;\n",
              "          element.appendChild(docLink);\n",
              "        }\n",
              "      </script>\n",
              "    </div>\n",
              "  </div>\n",
              "  "
            ]
          },
          "metadata": {},
          "execution_count": 59
        }
      ]
    },
    {
      "cell_type": "code",
      "source": [
        "# List number of unique values in each column\n",
        "data.nunique()"
      ],
      "metadata": {
        "colab": {
          "base_uri": "https://localhost:8080/"
        },
        "id": "0gmVb7pAFnPu",
        "outputId": "eb7e32d2-8d81-4a33-dbde-0e3d711135d5"
      },
      "execution_count": 60,
      "outputs": [
        {
          "output_type": "execute_result",
          "data": {
            "text/plain": [
              "age                               74\n",
              "bmi                            13344\n",
              "elective_surgery                   2\n",
              "ethnicity                          6\n",
              "gender                             2\n",
              "icu_admit_source                   5\n",
              "icu_stay_type                      3\n",
              "icu_type                           8\n",
              "pre_icu_los_days                4379\n",
              "apache_2_diagnosis                44\n",
              "arf_apache                         2\n",
              "intubated_apache                   2\n",
              "d1_heartrate_max                 120\n",
              "d1_heartrate_min                 136\n",
              "d1_resprate_max                   79\n",
              "d1_resprate_min                   42\n",
              "d1_temp_max                      126\n",
              "d1_temp_min                      143\n",
              "d1_glucose_max                   531\n",
              "d1_glucose_min                   256\n",
              "aids                               2\n",
              "cirrhosis                          2\n",
              "hepatic_failure                    2\n",
              "immunosuppression                  2\n",
              "leukemia                           2\n",
              "lymphoma                           2\n",
              "solid_tumor_with_metastasis        2\n",
              "apache_2_bodysystem               10\n",
              "hospital_death                     2\n",
              "dtype: int64"
            ]
          },
          "metadata": {},
          "execution_count": 60
        }
      ]
    },
    {
      "cell_type": "markdown",
      "source": [
        "Correlation between variabes through a heatmap"
      ],
      "metadata": {
        "id": "RNNRbZrRQxNk"
      }
    },
    {
      "cell_type": "code",
      "source": [
        "corr = data.corr(method ='pearson')\n",
        "\n",
        "fig, ax = plt.subplots(figsize=(25,25))\n",
        "sns.heatmap(corr, cmap='Spectral_r',  square=True, annot=True, linewidth=0.5, cbar_kws={\"shrink\" : 0.7})"
      ],
      "metadata": {
        "colab": {
          "base_uri": "https://localhost:8080/",
          "height": 1000
        },
        "id": "DcArulu4QvrX",
        "outputId": "24bcb966-5bb2-4e14-97bd-286c4a70fdb4"
      },
      "execution_count": 61,
      "outputs": [
        {
          "output_type": "execute_result",
          "data": {
            "text/plain": [
              "<matplotlib.axes._subplots.AxesSubplot at 0x7f156c4415b0>"
            ]
          },
          "metadata": {},
          "execution_count": 61
        },
        {
          "output_type": "display_data",
          "data": {
            "text/plain": [
              "<Figure size 1800x1800 with 2 Axes>"
            ],
            "image/png": "[encoded data removed]"
          },
          "metadata": {
            "needs_background": "light"
          }
        }
      ]
    },
    {
      "cell_type": "markdown",
      "source": [
        "Average hospital death probability of patients"
      ],
      "metadata": {
        "id": "N3WHjcufPe4f"
      }
    },
    {
      "cell_type": "code",
      "source": [
        "age_death_F=data[data['gender']=='F'][['age','hospital_death']].groupby('age').mean().reset_index()\n",
        "age_death_M=data[data['gender']=='M'][['age','hospital_death']].groupby('age').mean().reset_index()\n",
        "from plotly.subplots import make_subplots\n",
        "fig = make_subplots()\n",
        "fig.add_trace(\n",
        "    go.Scatter(x=age_death_F['age'], y=age_death_F['hospital_death'], name=\"Female patients\"))\n",
        "fig.add_trace(\n",
        "    go.Scatter(x=age_death_M['age'], y=age_death_M['hospital_death'],name=\"Male patients\"))\n",
        "fig.update_layout(\n",
        "    title_text=\"<b>Average hospital death probability of patients<b>\")\n",
        "fig.update_xaxes(title_text=\"<b>patient age<b>\")\n",
        "fig.update_yaxes(title_text=\"<b>Average Hospital Death</b>\", secondary_y=False)\n",
        "fig.show()"
      ],
      "metadata": {
        "colab": {
          "base_uri": "https://localhost:8080/",
          "height": 542
        },
        "id": "mP6ZRsASPeSW",
        "outputId": "ba21051f-567c-4944-ee3a-526cb6019084"
      },
      "execution_count": 62,
      "outputs": [
        {
          "output_type": "display_data",
          "data": {
            "text/html": [
              "<html>\n",
              "<head><meta charset=\"utf-8\" /></head>\n",
              "<body>\n",
              "    <div>            <script src=\"https://cdnjs.cloudflare.com/ajax/libs/mathjax/2.7.5/MathJax.js?config=TeX-AMS-MML_SVG\"></script><script type=\"text/javascript\">if (window.MathJax) {MathJax.Hub.Config({SVG: {font: \"STIX-Web\"}});}</script>                <script type=\"text/javascript\">window.PlotlyConfig = {MathJaxConfig: 'local'};</script>\n",
              "        <script src=\"https://cdn.plot.ly/plotly-2.8.3.min.js\"></script>                <div id=\"b1edc119-440c-4318-83df-cdac20afcd06\" class=\"plotly-graph-div\" style=\"height:525px; width:100%;\"></div>            <script type=\"text/javascript\">                                    window.PLOTLYENV=window.PLOTLYENV || {};                                    if (document.getElementById(\"b1edc119-440c-4318-83df-cdac20afcd06\")) {                    Plotly.newPlot(                        \"b1edc119-440c-4318-83df-cdac20afcd06\",                        [{\"name\":\"Female patients\",\"x\":[16.0,17.0,18.0,19.0,20.0,21.0,22.0,23.0,24.0,25.0,26.0,27.0,28.0,29.0,30.0,31.0,32.0,33.0,34.0,35.0,36.0,37.0,38.0,39.0,40.0,41.0,42.0,43.0,44.0,45.0,46.0,47.0,48.0,49.0,50.0,51.0,52.0,53.0,54.0,55.0,56.0,57.0,58.0,59.0,60.0,61.0,62.0,63.0,64.0,65.0,66.0,67.0,68.0,69.0,70.0,71.0,72.0,73.0,74.0,75.0,76.0,77.0,78.0,79.0,80.0,81.0,82.0,83.0,84.0,85.0,86.0,87.0,88.0,89.0],\"y\":[0.0,0.0,0.0,0.0,0.0,0.0,0.0,0.0,0.0,0.03571428571428571,0.0,0.0,0.03333333333333333,0.0,0.0,0.0,0.0,0.0,0.0,0.05714285714285714,0.0,0.058823529411764705,0.10256410256410256,0.08823529411764706,0.06666666666666667,0.03389830508474576,0.0,0.031746031746031744,0.04,0.031746031746031744,0.03896103896103896,0.05970149253731343,0.038461538461538464,0.0,0.05714285714285714,0.015503875968992248,0.05303030303030303,0.0546875,0.060810810810810814,0.08391608391608392,0.09154929577464789,0.05641025641025641,0.09473684210526316,0.05741626794258373,0.0625,0.07272727272727272,0.06220095693779904,0.0787037037037037,0.07983193277310924,0.11842105263157894,0.0984251968503937,0.09252669039145907,0.09859154929577464,0.0967741935483871,0.05263157894736842,0.08366533864541832,0.06439393939393939,0.1087866108786611,0.09251101321585903,0.09606986899563319,0.08530805687203792,0.09482758620689655,0.11057692307692307,0.09090909090909091,0.10952380952380952,0.09090909090909091,0.10416666666666667,0.1497005988023952,0.08333333333333333,0.09774436090225563,0.1111111111111111,0.09701492537313433,0.17525773195876287,0.07407407407407407],\"type\":\"scatter\"},{\"name\":\"Male patients\",\"x\":[16.0,17.0,18.0,19.0,20.0,21.0,22.0,23.0,24.0,25.0,26.0,27.0,28.0,29.0,30.0,31.0,32.0,33.0,34.0,35.0,36.0,37.0,38.0,39.0,40.0,41.0,42.0,43.0,44.0,45.0,46.0,47.0,48.0,49.0,50.0,51.0,52.0,53.0,54.0,55.0,56.0,57.0,58.0,59.0,60.0,61.0,62.0,63.0,64.0,65.0,66.0,67.0,68.0,69.0,70.0,71.0,72.0,73.0,74.0,75.0,76.0,77.0,78.0,79.0,80.0,81.0,82.0,83.0,84.0,85.0,86.0,87.0,88.0,89.0],\"y\":[0.0,0.0,0.05555555555555555,0.0625,0.0,0.0,0.0,0.0,0.0,0.0,0.0,0.0,0.045454545454545456,0.125,0.0,0.0,0.0,0.09090909090909091,0.027777777777777776,0.06060606060606061,0.05128205128205128,0.037037037037037035,0.0,0.0,0.02127659574468085,0.045454545454545456,0.0136986301369863,0.02666666666666667,0.028169014084507043,0.011111111111111112,0.0,0.04716981132075472,0.041666666666666664,0.045454545454545456,0.05442176870748299,0.050955414012738856,0.03636363636363636,0.029556650246305417,0.026455026455026454,0.046875,0.03211009174311927,0.05485232067510549,0.05668016194331984,0.048582995951417005,0.08560311284046693,0.09183673469387756,0.04304635761589404,0.08737864077669903,0.06818181818181818,0.07807807807807808,0.065625,0.055408970976253295,0.07102272727272728,0.08532423208191127,0.0851063829787234,0.0830945558739255,0.10294117647058823,0.0960960960960961,0.12218649517684887,0.08074534161490683,0.1,0.0948905109489051,0.09420289855072464,0.09405940594059406,0.11707317073170732,0.0891089108910891,0.11214953271028037,0.17647058823529413,0.10714285714285714,0.17692307692307693,0.13970588235294118,0.11320754716981132,0.11392405063291139,0.16470588235294117],\"type\":\"scatter\"}],                        {\"template\":{\"data\":{\"bar\":[{\"error_x\":{\"color\":\"#2a3f5f\"},\"error_y\":{\"color\":\"#2a3f5f\"},\"marker\":{\"line\":{\"color\":\"#E5ECF6\",\"width\":0.5},\"pattern\":{\"fillmode\":\"overlay\",\"size\":10,\"solidity\":0.2}},\"type\":\"bar\"}],\"barpolar\":[{\"marker\":{\"line\":{\"color\":\"#E5ECF6\",\"width\":0.5},\"pattern\":{\"fillmode\":\"overlay\",\"size\":10,\"solidity\":0.2}},\"type\":\"barpolar\"}],\"carpet\":[{\"aaxis\":{\"endlinecolor\":\"#2a3f5f\",\"gridcolor\":\"white\",\"linecolor\":\"white\",\"minorgridcolor\":\"white\",\"startlinecolor\":\"#2a3f5f\"},\"baxis\":{\"endlinecolor\":\"#2a3f5f\",\"gridcolor\":\"white\",\"linecolor\":\"white\",\"minorgridcolor\":\"white\",\"startlinecolor\":\"#2a3f5f\"},\"type\":\"carpet\"}],\"choropleth\":[{\"colorbar\":{\"outlinewidth\":0,\"ticks\":\"\"},\"type\":\"choropleth\"}],\"contour\":[{\"colorbar\":{\"outlinewidth\":0,\"ticks\":\"\"},\"colorscale\":[[0.0,\"#0d0887\"],[0.1111111111111111,\"#46039f\"],[0.2222222222222222,\"#7201a8\"],[0.3333333333333333,\"#9c179e\"],[0.4444444444444444,\"#bd3786\"],[0.5555555555555556,\"#d8576b\"],[0.6666666666666666,\"#ed7953\"],[0.7777777777777778,\"#fb9f3a\"],[0.8888888888888888,\"#fdca26\"],[1.0,\"#f0f921\"]],\"type\":\"contour\"}],\"contourcarpet\":[{\"colorbar\":{\"outlinewidth\":0,\"ticks\":\"\"},\"type\":\"contourcarpet\"}],\"heatmap\":[{\"colorbar\":{\"outlinewidth\":0,\"ticks\":\"\"},\"colorscale\":[[0.0,\"#0d0887\"],[0.1111111111111111,\"#46039f\"],[0.2222222222222222,\"#7201a8\"],[0.3333333333333333,\"#9c179e\"],[0.4444444444444444,\"#bd3786\"],[0.5555555555555556,\"#d8576b\"],[0.6666666666666666,\"#ed7953\"],[0.7777777777777778,\"#fb9f3a\"],[0.8888888888888888,\"#fdca26\"],[1.0,\"#f0f921\"]],\"type\":\"heatmap\"}],\"heatmapgl\":[{\"colorbar\":{\"outlinewidth\":0,\"ticks\":\"\"},\"colorscale\":[[0.0,\"#0d0887\"],[0.1111111111111111,\"#46039f\"],[0.2222222222222222,\"#7201a8\"],[0.3333333333333333,\"#9c179e\"],[0.4444444444444444,\"#bd3786\"],[0.5555555555555556,\"#d8576b\"],[0.6666666666666666,\"#ed7953\"],[0.7777777777777778,\"#fb9f3a\"],[0.8888888888888888,\"#fdca26\"],[1.0,\"#f0f921\"]],\"type\":\"heatmapgl\"}],\"histogram\":[{\"marker\":{\"pattern\":{\"fillmode\":\"overlay\",\"size\":10,\"solidity\":0.2}},\"type\":\"histogram\"}],\"histogram2d\":[{\"colorbar\":{\"outlinewidth\":0,\"ticks\":\"\"},\"colorscale\":[[0.0,\"#0d0887\"],[0.1111111111111111,\"#46039f\"],[0.2222222222222222,\"#7201a8\"],[0.3333333333333333,\"#9c179e\"],[0.4444444444444444,\"#bd3786\"],[0.5555555555555556,\"#d8576b\"],[0.6666666666666666,\"#ed7953\"],[0.7777777777777778,\"#fb9f3a\"],[0.8888888888888888,\"#fdca26\"],[1.0,\"#f0f921\"]],\"type\":\"histogram2d\"}],\"histogram2dcontour\":[{\"colorbar\":{\"outlinewidth\":0,\"ticks\":\"\"},\"colorscale\":[[0.0,\"#0d0887\"],[0.1111111111111111,\"#46039f\"],[0.2222222222222222,\"#7201a8\"],[0.3333333333333333,\"#9c179e\"],[0.4444444444444444,\"#bd3786\"],[0.5555555555555556,\"#d8576b\"],[0.6666666666666666,\"#ed7953\"],[0.7777777777777778,\"#fb9f3a\"],[0.8888888888888888,\"#fdca26\"],[1.0,\"#f0f921\"]],\"type\":\"histogram2dcontour\"}],\"mesh3d\":[{\"colorbar\":{\"outlinewidth\":0,\"ticks\":\"\"},\"type\":\"mesh3d\"}],\"parcoords\":[{\"line\":{\"colorbar\":{\"outlinewidth\":0,\"ticks\":\"\"}},\"type\":\"parcoords\"}],\"pie\":[{\"automargin\":true,\"type\":\"pie\"}],\"scatter\":[{\"marker\":{\"colorbar\":{\"outlinewidth\":0,\"ticks\":\"\"}},\"type\":\"scatter\"}],\"scatter3d\":[{\"line\":{\"colorbar\":{\"outlinewidth\":0,\"ticks\":\"\"}},\"marker\":{\"colorbar\":{\"outlinewidth\":0,\"ticks\":\"\"}},\"type\":\"scatter3d\"}],\"scattercarpet\":[{\"marker\":{\"colorbar\":{\"outlinewidth\":0,\"ticks\":\"\"}},\"type\":\"scattercarpet\"}],\"scattergeo\":[{\"marker\":{\"colorbar\":{\"outlinewidth\":0,\"ticks\":\"\"}},\"type\":\"scattergeo\"}],\"scattergl\":[{\"marker\":{\"colorbar\":{\"outlinewidth\":0,\"ticks\":\"\"}},\"type\":\"scattergl\"}],\"scattermapbox\":[{\"marker\":{\"colorbar\":{\"outlinewidth\":0,\"ticks\":\"\"}},\"type\":\"scattermapbox\"}],\"scatterpolar\":[{\"marker\":{\"colorbar\":{\"outlinewidth\":0,\"ticks\":\"\"}},\"type\":\"scatterpolar\"}],\"scatterpolargl\":[{\"marker\":{\"colorbar\":{\"outlinewidth\":0,\"ticks\":\"\"}},\"type\":\"scatterpolargl\"}],\"scatterternary\":[{\"marker\":{\"colorbar\":{\"outlinewidth\":0,\"ticks\":\"\"}},\"type\":\"scatterternary\"}],\"surface\":[{\"colorbar\":{\"outlinewidth\":0,\"ticks\":\"\"},\"colorscale\":[[0.0,\"#0d0887\"],[0.1111111111111111,\"#46039f\"],[0.2222222222222222,\"#7201a8\"],[0.3333333333333333,\"#9c179e\"],[0.4444444444444444,\"#bd3786\"],[0.5555555555555556,\"#d8576b\"],[0.6666666666666666,\"#ed7953\"],[0.7777777777777778,\"#fb9f3a\"],[0.8888888888888888,\"#fdca26\"],[1.0,\"#f0f921\"]],\"type\":\"surface\"}],\"table\":[{\"cells\":{\"fill\":{\"color\":\"#EBF0F8\"},\"line\":{\"color\":\"white\"}},\"header\":{\"fill\":{\"color\":\"#C8D4E3\"},\"line\":{\"color\":\"white\"}},\"type\":\"table\"}]},\"layout\":{\"annotationdefaults\":{\"arrowcolor\":\"#2a3f5f\",\"arrowhead\":0,\"arrowwidth\":1},\"autotypenumbers\":\"strict\",\"coloraxis\":{\"colorbar\":{\"outlinewidth\":0,\"ticks\":\"\"}},\"colorscale\":{\"diverging\":[[0,\"#8e0152\"],[0.1,\"#c51b7d\"],[0.2,\"#de77ae\"],[0.3,\"#f1b6da\"],[0.4,\"#fde0ef\"],[0.5,\"#f7f7f7\"],[0.6,\"#e6f5d0\"],[0.7,\"#b8e186\"],[0.8,\"#7fbc41\"],[0.9,\"#4d9221\"],[1,\"#276419\"]],\"sequential\":[[0.0,\"#0d0887\"],[0.1111111111111111,\"#46039f\"],[0.2222222222222222,\"#7201a8\"],[0.3333333333333333,\"#9c179e\"],[0.4444444444444444,\"#bd3786\"],[0.5555555555555556,\"#d8576b\"],[0.6666666666666666,\"#ed7953\"],[0.7777777777777778,\"#fb9f3a\"],[0.8888888888888888,\"#fdca26\"],[1.0,\"#f0f921\"]],\"sequentialminus\":[[0.0,\"#0d0887\"],[0.1111111111111111,\"#46039f\"],[0.2222222222222222,\"#7201a8\"],[0.3333333333333333,\"#9c179e\"],[0.4444444444444444,\"#bd3786\"],[0.5555555555555556,\"#d8576b\"],[0.6666666666666666,\"#ed7953\"],[0.7777777777777778,\"#fb9f3a\"],[0.8888888888888888,\"#fdca26\"],[1.0,\"#f0f921\"]]},\"colorway\":[\"#636efa\",\"#EF553B\",\"#00cc96\",\"#ab63fa\",\"#FFA15A\",\"#19d3f3\",\"#FF6692\",\"#B6E880\",\"#FF97FF\",\"#FECB52\"],\"font\":{\"color\":\"#2a3f5f\"},\"geo\":{\"bgcolor\":\"white\",\"lakecolor\":\"white\",\"landcolor\":\"#E5ECF6\",\"showlakes\":true,\"showland\":true,\"subunitcolor\":\"white\"},\"hoverlabel\":{\"align\":\"left\"},\"hovermode\":\"closest\",\"mapbox\":{\"style\":\"light\"},\"paper_bgcolor\":\"white\",\"plot_bgcolor\":\"#E5ECF6\",\"polar\":{\"angularaxis\":{\"gridcolor\":\"white\",\"linecolor\":\"white\",\"ticks\":\"\"},\"bgcolor\":\"#E5ECF6\",\"radialaxis\":{\"gridcolor\":\"white\",\"linecolor\":\"white\",\"ticks\":\"\"}},\"scene\":{\"xaxis\":{\"backgroundcolor\":\"#E5ECF6\",\"gridcolor\":\"white\",\"gridwidth\":2,\"linecolor\":\"white\",\"showbackground\":true,\"ticks\":\"\",\"zerolinecolor\":\"white\"},\"yaxis\":{\"backgroundcolor\":\"#E5ECF6\",\"gridcolor\":\"white\",\"gridwidth\":2,\"linecolor\":\"white\",\"showbackground\":true,\"ticks\":\"\",\"zerolinecolor\":\"white\"},\"zaxis\":{\"backgroundcolor\":\"#E5ECF6\",\"gridcolor\":\"white\",\"gridwidth\":2,\"linecolor\":\"white\",\"showbackground\":true,\"ticks\":\"\",\"zerolinecolor\":\"white\"}},\"shapedefaults\":{\"line\":{\"color\":\"#2a3f5f\"}},\"ternary\":{\"aaxis\":{\"gridcolor\":\"white\",\"linecolor\":\"white\",\"ticks\":\"\"},\"baxis\":{\"gridcolor\":\"white\",\"linecolor\":\"white\",\"ticks\":\"\"},\"bgcolor\":\"#E5ECF6\",\"caxis\":{\"gridcolor\":\"white\",\"linecolor\":\"white\",\"ticks\":\"\"}},\"title\":{\"x\":0.05},\"xaxis\":{\"automargin\":true,\"gridcolor\":\"white\",\"linecolor\":\"white\",\"ticks\":\"\",\"title\":{\"standoff\":15},\"zerolinecolor\":\"white\",\"zerolinewidth\":2},\"yaxis\":{\"automargin\":true,\"gridcolor\":\"white\",\"linecolor\":\"white\",\"ticks\":\"\",\"title\":{\"standoff\":15},\"zerolinecolor\":\"white\",\"zerolinewidth\":2}}},\"xaxis\":{\"anchor\":\"y\",\"domain\":[0.0,1.0],\"title\":{\"text\":\"<b>patient age<b>\"}},\"yaxis\":{\"anchor\":\"x\",\"domain\":[0.0,1.0],\"title\":{\"text\":\"<b>Average Hospital Death</b>\"}},\"title\":{\"text\":\"<b>Average hospital death probability of patients<b>\"}},                        {\"responsive\": true}                    ).then(function(){\n",
              "                            \n",
              "var gd = document.getElementById('b1edc119-440c-4318-83df-cdac20afcd06');\n",
              "var x = new MutationObserver(function (mutations, observer) {{\n",
              "        var display = window.getComputedStyle(gd).display;\n",
              "        if (!display || display === 'none') {{\n",
              "            console.log([gd, 'removed!']);\n",
              "            Plotly.purge(gd);\n",
              "            observer.disconnect();\n",
              "        }}\n",
              "}});\n",
              "\n",
              "// Listen for the removal of the full notebook cells\n",
              "var notebookContainer = gd.closest('#notebook-container');\n",
              "if (notebookContainer) {{\n",
              "    x.observe(notebookContainer, {childList: true});\n",
              "}}\n",
              "\n",
              "// Listen for the clearing of the current output cell\n",
              "var outputEl = gd.closest('.output');\n",
              "if (outputEl) {{\n",
              "    x.observe(outputEl, {childList: true});\n",
              "}}\n",
              "\n",
              "                        })                };                            </script>        </div>\n",
              "</body>\n",
              "</html>"
            ]
          },
          "metadata": {}
        }
      ]
    },
    {
      "cell_type": "markdown",
      "source": [
        "Impacts of BMI and Weights over patients"
      ],
      "metadata": {
        "id": "ZEQi7alFM5H1"
      }
    },
    {
      "cell_type": "code",
      "source": [
        "source=data[['icu_admit_source','age','hospital_death']]\n",
        "\n",
        "ICU_df=source.groupby(['icu_admit_source','age']).mean().reset_index()\n",
        "ICU_df['count']=source.groupby(['icu_admit_source','age']).count().reset_index()['hospital_death']\n",
        "\n",
        "fig = px.scatter(ICU_df, x=\"age\", y=\"hospital_death\", size=\"count\", color=\"icu_admit_source\",\n",
        "           hover_name=\"icu_admit_source\", log_x=False, size_max=20,)\n",
        "fig.update_layout(\n",
        "    title_text=\"<b>Survival rate based on different sources to ICU<b>\"\n",
        ")\n",
        "fig.update_yaxes(title_text=\"<b>Average Hospital Death<b>\")\n",
        "fig.update_xaxes(title_text=\"<b>Age<b>\")\n",
        "fig.show()"
      ],
      "metadata": {
        "colab": {
          "base_uri": "https://localhost:8080/",
          "height": 542
        },
        "id": "UGegCNfbFnKv",
        "outputId": "048be7b5-adc2-4fff-8c76-270c391b5893"
      },
      "execution_count": 63,
      "outputs": [
        {
          "output_type": "display_data",
          "data": {
            "text/html": [
              "<html>\n",
              "<head><meta charset=\"utf-8\" /></head>\n",
              "<body>\n",
              "    <div>            <script src=\"https://cdnjs.cloudflare.com/ajax/libs/mathjax/2.7.5/MathJax.js?config=TeX-AMS-MML_SVG\"></script><script type=\"text/javascript\">if (window.MathJax) {MathJax.Hub.Config({SVG: {font: \"STIX-Web\"}});}</script>                <script type=\"text/javascript\">window.PlotlyConfig = {MathJaxConfig: 'local'};</script>\n",
              "        <script src=\"https://cdn.plot.ly/plotly-2.8.3.min.js\"></script>                <div id=\"74b4852c-015f-4f23-bd32-81d784945d2b\" class=\"plotly-graph-div\" style=\"height:525px; width:100%;\"></div>            <script type=\"text/javascript\">                                    window.PLOTLYENV=window.PLOTLYENV || {};                                    if (document.getElementById(\"74b4852c-015f-4f23-bd32-81d784945d2b\")) {                    Plotly.newPlot(                        \"74b4852c-015f-4f23-bd32-81d784945d2b\",                        [{\"hovertemplate\":\"<b>%{hovertext}</b><br><br>icu_admit_source=Accident & Emergency<br>age=%{x}<br>hospital_death=%{y}<br>count=%{marker.size}<extra></extra>\",\"hovertext\":[\"Accident & Emergency\",\"Accident & Emergency\",\"Accident & Emergency\",\"Accident & Emergency\",\"Accident & Emergency\",\"Accident & Emergency\",\"Accident & Emergency\",\"Accident & Emergency\",\"Accident & Emergency\",\"Accident & Emergency\",\"Accident & Emergency\",\"Accident & Emergency\",\"Accident & Emergency\",\"Accident & Emergency\",\"Accident & Emergency\",\"Accident & Emergency\",\"Accident & Emergency\",\"Accident & Emergency\",\"Accident & Emergency\",\"Accident & Emergency\",\"Accident & Emergency\",\"Accident & Emergency\",\"Accident & Emergency\",\"Accident & Emergency\",\"Accident & Emergency\",\"Accident & Emergency\",\"Accident & Emergency\",\"Accident & Emergency\",\"Accident & Emergency\",\"Accident & Emergency\",\"Accident & Emergency\",\"Accident & Emergency\",\"Accident & Emergency\",\"Accident & Emergency\",\"Accident & Emergency\",\"Accident & Emergency\",\"Accident & Emergency\",\"Accident & Emergency\",\"Accident & Emergency\",\"Accident & Emergency\",\"Accident & Emergency\",\"Accident & Emergency\",\"Accident & Emergency\",\"Accident & Emergency\",\"Accident & Emergency\",\"Accident & Emergency\",\"Accident & Emergency\",\"Accident & Emergency\",\"Accident & Emergency\",\"Accident & Emergency\",\"Accident & Emergency\",\"Accident & Emergency\",\"Accident & Emergency\",\"Accident & Emergency\",\"Accident & Emergency\",\"Accident & Emergency\",\"Accident & Emergency\",\"Accident & Emergency\",\"Accident & Emergency\",\"Accident & Emergency\",\"Accident & Emergency\",\"Accident & Emergency\",\"Accident & Emergency\",\"Accident & Emergency\",\"Accident & Emergency\",\"Accident & Emergency\",\"Accident & Emergency\",\"Accident & Emergency\",\"Accident & Emergency\",\"Accident & Emergency\",\"Accident & Emergency\",\"Accident & Emergency\",\"Accident & Emergency\",\"Accident & Emergency\"],\"legendgroup\":\"Accident & Emergency\",\"marker\":{\"color\":\"#636efa\",\"size\":[2,11,36,39,35,51,36,39,39,41,33,43,39,33,50,38,42,45,53,52,57,41,58,59,60,87,97,94,78,109,137,118,134,138,176,180,182,207,206,191,211,247,267,288,274,256,285,303,293,305,317,350,348,278,306,318,313,312,290,303,249,260,272,230,239,202,178,197,182,146,170,157,102,102],\"sizemode\":\"area\",\"sizeref\":0.875,\"symbol\":\"circle\"},\"mode\":\"markers\",\"name\":\"Accident & Emergency\",\"orientation\":\"v\",\"showlegend\":true,\"x\":[16.0,17.0,18.0,19.0,20.0,21.0,22.0,23.0,24.0,25.0,26.0,27.0,28.0,29.0,30.0,31.0,32.0,33.0,34.0,35.0,36.0,37.0,38.0,39.0,40.0,41.0,42.0,43.0,44.0,45.0,46.0,47.0,48.0,49.0,50.0,51.0,52.0,53.0,54.0,55.0,56.0,57.0,58.0,59.0,60.0,61.0,62.0,63.0,64.0,65.0,66.0,67.0,68.0,69.0,70.0,71.0,72.0,73.0,74.0,75.0,76.0,77.0,78.0,79.0,80.0,81.0,82.0,83.0,84.0,85.0,86.0,87.0,88.0,89.0],\"xaxis\":\"x\",\"y\":[0.0,0.0,0.0,0.02564102564102564,0.0,0.0,0.0,0.0,0.0,0.024390243902439025,0.0,0.0,0.05128205128205128,0.030303030303030304,0.0,0.0,0.0,0.022222222222222223,0.018867924528301886,0.057692307692307696,0.017543859649122806,0.024390243902439025,0.034482758620689655,0.05084745762711865,0.03333333333333333,0.04597701149425287,0.010309278350515464,0.02127659574468085,0.038461538461538464,0.009174311926605505,0.021897810218978103,0.0423728813559322,0.03731343283582089,0.021739130434782608,0.045454545454545456,0.03888888888888889,0.038461538461538464,0.04830917874396135,0.04854368932038835,0.06282722513089005,0.061611374407582936,0.06882591093117409,0.0749063670411985,0.04861111111111111,0.06204379562043796,0.0703125,0.056140350877192984,0.0924092409240924,0.07849829351535836,0.10163934426229508,0.07570977917981073,0.07428571428571429,0.08908045977011494,0.09352517985611511,0.07516339869281045,0.08176100628930817,0.07667731629392971,0.11858974358974358,0.08620689655172414,0.0924092409240924,0.0963855421686747,0.09615384615384616,0.11397058823529412,0.09565217391304348,0.11297071129707113,0.09405940594059406,0.1404494382022472,0.15736040609137056,0.08791208791208792,0.1232876712328767,0.12352941176470589,0.10828025477707007,0.11764705882352941,0.08823529411764706],\"yaxis\":\"y\",\"type\":\"scatter\"},{\"hovertemplate\":\"<b>%{hovertext}</b><br><br>icu_admit_source=Floor<br>age=%{x}<br>hospital_death=%{y}<br>count=%{marker.size}<extra></extra>\",\"hovertext\":[\"Floor\",\"Floor\",\"Floor\",\"Floor\",\"Floor\",\"Floor\",\"Floor\",\"Floor\",\"Floor\",\"Floor\",\"Floor\",\"Floor\",\"Floor\",\"Floor\",\"Floor\",\"Floor\",\"Floor\",\"Floor\",\"Floor\",\"Floor\",\"Floor\",\"Floor\",\"Floor\",\"Floor\",\"Floor\",\"Floor\",\"Floor\",\"Floor\",\"Floor\",\"Floor\",\"Floor\",\"Floor\",\"Floor\",\"Floor\",\"Floor\",\"Floor\",\"Floor\",\"Floor\",\"Floor\",\"Floor\",\"Floor\",\"Floor\",\"Floor\",\"Floor\",\"Floor\",\"Floor\",\"Floor\",\"Floor\",\"Floor\",\"Floor\",\"Floor\",\"Floor\",\"Floor\",\"Floor\",\"Floor\",\"Floor\",\"Floor\",\"Floor\",\"Floor\",\"Floor\",\"Floor\",\"Floor\",\"Floor\",\"Floor\",\"Floor\",\"Floor\",\"Floor\",\"Floor\",\"Floor\",\"Floor\"],\"legendgroup\":\"Floor\",\"marker\":{\"color\":\"#EF553B\",\"size\":[2,4,1,2,5,2,5,7,12,11,11,6,6,4,6,10,9,8,6,15,22,20,17,24,22,20,23,27,31,34,35,46,44,52,59,62,58,71,72,56,91,89,98,85,98,118,110,117,120,111,104,118,126,99,97,110,100,118,93,79,94,83,80,67,77,60,52,47,46,38],\"sizemode\":\"area\",\"sizeref\":0.875,\"symbol\":\"circle\"},\"mode\":\"markers\",\"name\":\"Floor\",\"orientation\":\"v\",\"showlegend\":true,\"x\":[20.0,21.0,22.0,23.0,24.0,25.0,26.0,27.0,28.0,29.0,30.0,31.0,32.0,33.0,34.0,35.0,36.0,37.0,38.0,39.0,40.0,41.0,42.0,43.0,44.0,45.0,46.0,47.0,48.0,49.0,50.0,51.0,52.0,53.0,54.0,55.0,56.0,57.0,58.0,59.0,60.0,61.0,62.0,63.0,64.0,65.0,66.0,67.0,68.0,69.0,70.0,71.0,72.0,73.0,74.0,75.0,76.0,77.0,78.0,79.0,80.0,81.0,82.0,83.0,84.0,85.0,86.0,87.0,88.0,89.0],\"xaxis\":\"x\",\"y\":[0.0,0.0,0.0,0.0,0.0,0.0,0.0,0.0,0.0,0.09090909090909091,0.0,0.0,0.0,0.25,0.0,0.1,0.1111111111111111,0.0,0.16666666666666666,0.0,0.045454545454545456,0.0,0.0,0.041666666666666664,0.0,0.1,0.0,0.1111111111111111,0.03225806451612903,0.058823529411764705,0.08571428571428572,0.043478260869565216,0.06818181818181818,0.057692307692307696,0.05084745762711865,0.0967741935483871,0.05172413793103448,0.04225352112676056,0.1111111111111111,0.17857142857142858,0.0989010989010989,0.1797752808988764,0.08163265306122448,0.12941176470588237,0.11224489795918367,0.13559322033898305,0.16363636363636364,0.1282051282051282,0.13333333333333333,0.0990990990990991,0.10576923076923077,0.16101694915254236,0.15873015873015872,0.15151515151515152,0.21649484536082475,0.08181818181818182,0.12,0.15254237288135594,0.11827956989247312,0.13924050632911392,0.1702127659574468,0.13253012048192772,0.125,0.23880597014925373,0.14285714285714285,0.23333333333333334,0.15384615384615385,0.1276595744680851,0.1956521739130435,0.18421052631578946],\"yaxis\":\"y\",\"type\":\"scatter\"},{\"hovertemplate\":\"<b>%{hovertext}</b><br><br>icu_admit_source=Operating Room / Recovery<br>age=%{x}<br>hospital_death=%{y}<br>count=%{marker.size}<extra></extra>\",\"hovertext\":[\"Operating Room / Recovery\",\"Operating Room / Recovery\",\"Operating Room / Recovery\",\"Operating Room / Recovery\",\"Operating Room / Recovery\",\"Operating Room / Recovery\",\"Operating Room / Recovery\",\"Operating Room / Recovery\",\"Operating Room / Recovery\",\"Operating Room / Recovery\",\"Operating Room / Recovery\",\"Operating Room / Recovery\",\"Operating Room / Recovery\",\"Operating Room / Recovery\",\"Operating Room / Recovery\",\"Operating Room / Recovery\",\"Operating Room / Recovery\",\"Operating Room / Recovery\",\"Operating Room / Recovery\",\"Operating Room / Recovery\",\"Operating Room / Recovery\",\"Operating Room / Recovery\",\"Operating Room / Recovery\",\"Operating Room / Recovery\",\"Operating Room / Recovery\",\"Operating Room / Recovery\",\"Operating Room / Recovery\",\"Operating Room / Recovery\",\"Operating Room / Recovery\",\"Operating Room / Recovery\",\"Operating Room / Recovery\",\"Operating Room / Recovery\",\"Operating Room / Recovery\",\"Operating Room / Recovery\",\"Operating Room / Recovery\",\"Operating Room / Recovery\",\"Operating Room / Recovery\",\"Operating Room / Recovery\",\"Operating Room / Recovery\",\"Operating Room / Recovery\",\"Operating Room / Recovery\",\"Operating Room / Recovery\",\"Operating Room / Recovery\",\"Operating Room / Recovery\",\"Operating Room / Recovery\",\"Operating Room / Recovery\",\"Operating Room / Recovery\",\"Operating Room / Recovery\",\"Operating Room / Recovery\",\"Operating Room / Recovery\",\"Operating Room / Recovery\",\"Operating Room / Recovery\",\"Operating Room / Recovery\",\"Operating Room / Recovery\",\"Operating Room / Recovery\",\"Operating Room / Recovery\",\"Operating Room / Recovery\",\"Operating Room / Recovery\",\"Operating Room / Recovery\",\"Operating Room / Recovery\",\"Operating Room / Recovery\",\"Operating Room / Recovery\",\"Operating Room / Recovery\",\"Operating Room / Recovery\",\"Operating Room / Recovery\",\"Operating Room / Recovery\"],\"legendgroup\":\"Operating Room / Recovery\",\"marker\":{\"color\":\"#00cc96\",\"size\":[1,1,1,2,1,2,4,2,2,8,7,6,13,8,9,9,8,13,16,16,18,21,32,22,30,28,34,52,64,64,63,70,74,96,84,96,97,100,116,122,136,126,121,172,146,140,148,148,150,141,135,120,122,113,108,83,70,80,89,65,69,48,36,29,22,18],\"sizemode\":\"area\",\"sizeref\":0.875,\"symbol\":\"circle\"},\"mode\":\"markers\",\"name\":\"Operating Room / Recovery\",\"orientation\":\"v\",\"showlegend\":true,\"x\":[18.0,21.0,22.0,23.0,28.0,29.0,30.0,31.0,32.0,33.0,34.0,35.0,36.0,37.0,38.0,39.0,40.0,41.0,42.0,43.0,44.0,45.0,46.0,47.0,48.0,49.0,50.0,51.0,52.0,53.0,54.0,55.0,56.0,57.0,58.0,59.0,60.0,61.0,62.0,63.0,64.0,65.0,66.0,67.0,68.0,69.0,70.0,71.0,72.0,73.0,74.0,75.0,76.0,77.0,78.0,79.0,80.0,81.0,82.0,83.0,84.0,85.0,86.0,87.0,88.0,89.0],\"xaxis\":\"x\",\"y\":[1.0,0.0,0.0,0.0,0.0,0.0,0.0,0.0,0.0,0.0,0.0,0.0,0.0,0.125,0.0,0.0,0.0,0.07692307692307693,0.0,0.0625,0.0,0.0,0.0,0.0,0.03333333333333333,0.0,0.029411764705882353,0.019230769230769232,0.03125,0.0,0.015873015873015872,0.02857142857142857,0.04054054054054054,0.03125,0.023809523809523808,0.0,0.041237113402061855,0.04,0.008620689655172414,0.03278688524590164,0.014705882352941176,0.047619047619047616,0.008264462809917356,0.023255813953488372,0.0273972602739726,0.04285714285714286,0.033783783783783786,0.02702702702702703,0.04,0.02127659574468085,0.08148148148148149,0.03333333333333333,0.05737704918032787,0.035398230088495575,0.06481481481481481,0.03614457831325301,0.04285714285714286,0.0375,0.0449438202247191,0.09230769230769231,0.043478260869565216,0.0625,0.05555555555555555,0.06896551724137931,0.18181818181818182,0.16666666666666666],\"yaxis\":\"y\",\"type\":\"scatter\"},{\"hovertemplate\":\"<b>%{hovertext}</b><br><br>icu_admit_source=Other Hospital<br>age=%{x}<br>hospital_death=%{y}<br>count=%{marker.size}<extra></extra>\",\"hovertext\":[\"Other Hospital\",\"Other Hospital\",\"Other Hospital\",\"Other Hospital\",\"Other Hospital\",\"Other Hospital\",\"Other Hospital\",\"Other Hospital\",\"Other Hospital\",\"Other Hospital\",\"Other Hospital\",\"Other Hospital\",\"Other Hospital\",\"Other Hospital\",\"Other Hospital\",\"Other Hospital\",\"Other Hospital\",\"Other Hospital\",\"Other Hospital\",\"Other Hospital\",\"Other Hospital\",\"Other Hospital\",\"Other Hospital\",\"Other Hospital\",\"Other Hospital\",\"Other Hospital\",\"Other Hospital\",\"Other Hospital\",\"Other Hospital\",\"Other Hospital\",\"Other Hospital\",\"Other Hospital\",\"Other Hospital\",\"Other Hospital\",\"Other Hospital\",\"Other Hospital\",\"Other Hospital\",\"Other Hospital\",\"Other Hospital\",\"Other Hospital\",\"Other Hospital\",\"Other Hospital\",\"Other Hospital\",\"Other Hospital\",\"Other Hospital\",\"Other Hospital\",\"Other Hospital\",\"Other Hospital\",\"Other Hospital\",\"Other Hospital\",\"Other Hospital\",\"Other Hospital\",\"Other Hospital\",\"Other Hospital\",\"Other Hospital\",\"Other Hospital\",\"Other Hospital\",\"Other Hospital\",\"Other Hospital\",\"Other Hospital\",\"Other Hospital\",\"Other Hospital\",\"Other Hospital\",\"Other Hospital\",\"Other Hospital\"],\"legendgroup\":\"Other Hospital\",\"marker\":{\"color\":\"#ab63fa\",\"size\":[1,1,1,1,2,3,1,2,1,3,2,1,4,1,1,1,3,1,2,3,1,1,5,5,3,5,7,4,8,8,10,13,15,11,11,17,11,9,11,15,8,23,19,14,10,15,14,10,16,16,16,7,11,5,7,11,10,9,5,5,8,3,3,5,4],\"sizemode\":\"area\",\"sizeref\":0.875,\"symbol\":\"circle\"},\"mode\":\"markers\",\"name\":\"Other Hospital\",\"orientation\":\"v\",\"showlegend\":true,\"x\":[21.0,22.0,24.0,25.0,26.0,27.0,30.0,31.0,32.0,33.0,34.0,36.0,37.0,38.0,39.0,40.0,41.0,42.0,43.0,44.0,45.0,46.0,47.0,48.0,49.0,50.0,51.0,52.0,53.0,54.0,55.0,56.0,57.0,58.0,59.0,60.0,61.0,62.0,63.0,64.0,65.0,66.0,67.0,68.0,69.0,70.0,71.0,72.0,73.0,74.0,75.0,76.0,77.0,78.0,79.0,80.0,81.0,82.0,83.0,84.0,85.0,86.0,87.0,88.0,89.0],\"xaxis\":\"x\",\"y\":[0.0,0.0,0.0,0.0,0.0,0.0,0.0,0.0,0.0,0.3333333333333333,0.0,0.0,0.25,0.0,0.0,1.0,0.0,0.0,0.0,0.3333333333333333,0.0,0.0,0.2,0.2,0.0,0.4,0.0,0.25,0.0,0.0,0.1,0.07692307692307693,0.06666666666666667,0.18181818181818182,0.0,0.35294117647058826,0.0,0.0,0.09090909090909091,0.26666666666666666,0.0,0.13043478260869565,0.10526315789473684,0.0,0.5,0.06666666666666667,0.07142857142857142,0.1,0.1875,0.125,0.4375,0.14285714285714285,0.09090909090909091,0.0,0.14285714285714285,0.09090909090909091,0.0,0.0,0.2,0.2,0.125,0.3333333333333333,0.0,0.2,0.25],\"yaxis\":\"y\",\"type\":\"scatter\"},{\"hovertemplate\":\"<b>%{hovertext}</b><br><br>icu_admit_source=Other ICU<br>age=%{x}<br>hospital_death=%{y}<br>count=%{marker.size}<extra></extra>\",\"hovertext\":[\"Other ICU\",\"Other ICU\",\"Other ICU\",\"Other ICU\",\"Other ICU\",\"Other ICU\",\"Other ICU\",\"Other ICU\",\"Other ICU\",\"Other ICU\",\"Other ICU\",\"Other ICU\",\"Other ICU\",\"Other ICU\",\"Other ICU\",\"Other ICU\",\"Other ICU\",\"Other ICU\",\"Other ICU\",\"Other ICU\",\"Other ICU\",\"Other ICU\",\"Other ICU\",\"Other ICU\",\"Other ICU\",\"Other ICU\",\"Other ICU\",\"Other ICU\",\"Other ICU\",\"Other ICU\",\"Other ICU\",\"Other ICU\",\"Other ICU\",\"Other ICU\",\"Other ICU\",\"Other ICU\",\"Other ICU\",\"Other ICU\",\"Other ICU\",\"Other ICU\",\"Other ICU\",\"Other ICU\",\"Other ICU\",\"Other ICU\",\"Other ICU\",\"Other ICU\",\"Other ICU\"],\"legendgroup\":\"Other ICU\",\"marker\":{\"color\":\"#FFA15A\",\"size\":[1,1,1,1,2,1,2,1,1,1,2,3,1,2,4,1,2,4,2,2,2,3,3,4,3,1,6,1,3,1,4,4,2,2,3,4,1,1,3,2,2,2,1,1,4,1,2],\"sizemode\":\"area\",\"sizeref\":0.875,\"symbol\":\"circle\"},\"mode\":\"markers\",\"name\":\"Other ICU\",\"orientation\":\"v\",\"showlegend\":true,\"x\":[26.0,30.0,38.0,40.0,41.0,42.0,43.0,45.0,46.0,47.0,50.0,52.0,54.0,55.0,56.0,57.0,58.0,59.0,60.0,61.0,62.0,63.0,64.0,65.0,66.0,67.0,68.0,69.0,70.0,71.0,72.0,73.0,75.0,76.0,77.0,78.0,79.0,80.0,81.0,82.0,83.0,84.0,85.0,86.0,87.0,88.0,89.0],\"xaxis\":\"x\",\"y\":[0.0,0.0,1.0,0.0,0.0,0.0,0.0,0.0,0.0,0.0,0.0,0.0,0.0,0.0,0.0,0.0,0.0,0.0,0.0,0.5,0.5,0.0,0.0,0.0,0.0,0.0,0.3333333333333333,0.0,0.3333333333333333,0.0,0.25,0.0,0.0,0.5,0.0,0.0,0.0,0.0,0.3333333333333333,0.0,0.5,0.5,0.0,1.0,0.0,0.0,0.0],\"yaxis\":\"y\",\"type\":\"scatter\"}],                        {\"template\":{\"data\":{\"bar\":[{\"error_x\":{\"color\":\"#2a3f5f\"},\"error_y\":{\"color\":\"#2a3f5f\"},\"marker\":{\"line\":{\"color\":\"#E5ECF6\",\"width\":0.5},\"pattern\":{\"fillmode\":\"overlay\",\"size\":10,\"solidity\":0.2}},\"type\":\"bar\"}],\"barpolar\":[{\"marker\":{\"line\":{\"color\":\"#E5ECF6\",\"width\":0.5},\"pattern\":{\"fillmode\":\"overlay\",\"size\":10,\"solidity\":0.2}},\"type\":\"barpolar\"}],\"carpet\":[{\"aaxis\":{\"endlinecolor\":\"#2a3f5f\",\"gridcolor\":\"white\",\"linecolor\":\"white\",\"minorgridcolor\":\"white\",\"startlinecolor\":\"#2a3f5f\"},\"baxis\":{\"endlinecolor\":\"#2a3f5f\",\"gridcolor\":\"white\",\"linecolor\":\"white\",\"minorgridcolor\":\"white\",\"startlinecolor\":\"#2a3f5f\"},\"type\":\"carpet\"}],\"choropleth\":[{\"colorbar\":{\"outlinewidth\":0,\"ticks\":\"\"},\"type\":\"choropleth\"}],\"contour\":[{\"colorbar\":{\"outlinewidth\":0,\"ticks\":\"\"},\"colorscale\":[[0.0,\"#0d0887\"],[0.1111111111111111,\"#46039f\"],[0.2222222222222222,\"#7201a8\"],[0.3333333333333333,\"#9c179e\"],[0.4444444444444444,\"#bd3786\"],[0.5555555555555556,\"#d8576b\"],[0.6666666666666666,\"#ed7953\"],[0.7777777777777778,\"#fb9f3a\"],[0.8888888888888888,\"#fdca26\"],[1.0,\"#f0f921\"]],\"type\":\"contour\"}],\"contourcarpet\":[{\"colorbar\":{\"outlinewidth\":0,\"ticks\":\"\"},\"type\":\"contourcarpet\"}],\"heatmap\":[{\"colorbar\":{\"outlinewidth\":0,\"ticks\":\"\"},\"colorscale\":[[0.0,\"#0d0887\"],[0.1111111111111111,\"#46039f\"],[0.2222222222222222,\"#7201a8\"],[0.3333333333333333,\"#9c179e\"],[0.4444444444444444,\"#bd3786\"],[0.5555555555555556,\"#d8576b\"],[0.6666666666666666,\"#ed7953\"],[0.7777777777777778,\"#fb9f3a\"],[0.8888888888888888,\"#fdca26\"],[1.0,\"#f0f921\"]],\"type\":\"heatmap\"}],\"heatmapgl\":[{\"colorbar\":{\"outlinewidth\":0,\"ticks\":\"\"},\"colorscale\":[[0.0,\"#0d0887\"],[0.1111111111111111,\"#46039f\"],[0.2222222222222222,\"#7201a8\"],[0.3333333333333333,\"#9c179e\"],[0.4444444444444444,\"#bd3786\"],[0.5555555555555556,\"#d8576b\"],[0.6666666666666666,\"#ed7953\"],[0.7777777777777778,\"#fb9f3a\"],[0.8888888888888888,\"#fdca26\"],[1.0,\"#f0f921\"]],\"type\":\"heatmapgl\"}],\"histogram\":[{\"marker\":{\"pattern\":{\"fillmode\":\"overlay\",\"size\":10,\"solidity\":0.2}},\"type\":\"histogram\"}],\"histogram2d\":[{\"colorbar\":{\"outlinewidth\":0,\"ticks\":\"\"},\"colorscale\":[[0.0,\"#0d0887\"],[0.1111111111111111,\"#46039f\"],[0.2222222222222222,\"#7201a8\"],[0.3333333333333333,\"#9c179e\"],[0.4444444444444444,\"#bd3786\"],[0.5555555555555556,\"#d8576b\"],[0.6666666666666666,\"#ed7953\"],[0.7777777777777778,\"#fb9f3a\"],[0.8888888888888888,\"#fdca26\"],[1.0,\"#f0f921\"]],\"type\":\"histogram2d\"}],\"histogram2dcontour\":[{\"colorbar\":{\"outlinewidth\":0,\"ticks\":\"\"},\"colorscale\":[[0.0,\"#0d0887\"],[0.1111111111111111,\"#46039f\"],[0.2222222222222222,\"#7201a8\"],[0.3333333333333333,\"#9c179e\"],[0.4444444444444444,\"#bd3786\"],[0.5555555555555556,\"#d8576b\"],[0.6666666666666666,\"#ed7953\"],[0.7777777777777778,\"#fb9f3a\"],[0.8888888888888888,\"#fdca26\"],[1.0,\"#f0f921\"]],\"type\":\"histogram2dcontour\"}],\"mesh3d\":[{\"colorbar\":{\"outlinewidth\":0,\"ticks\":\"\"},\"type\":\"mesh3d\"}],\"parcoords\":[{\"line\":{\"colorbar\":{\"outlinewidth\":0,\"ticks\":\"\"}},\"type\":\"parcoords\"}],\"pie\":[{\"automargin\":true,\"type\":\"pie\"}],\"scatter\":[{\"marker\":{\"colorbar\":{\"outlinewidth\":0,\"ticks\":\"\"}},\"type\":\"scatter\"}],\"scatter3d\":[{\"line\":{\"colorbar\":{\"outlinewidth\":0,\"ticks\":\"\"}},\"marker\":{\"colorbar\":{\"outlinewidth\":0,\"ticks\":\"\"}},\"type\":\"scatter3d\"}],\"scattercarpet\":[{\"marker\":{\"colorbar\":{\"outlinewidth\":0,\"ticks\":\"\"}},\"type\":\"scattercarpet\"}],\"scattergeo\":[{\"marker\":{\"colorbar\":{\"outlinewidth\":0,\"ticks\":\"\"}},\"type\":\"scattergeo\"}],\"scattergl\":[{\"marker\":{\"colorbar\":{\"outlinewidth\":0,\"ticks\":\"\"}},\"type\":\"scattergl\"}],\"scattermapbox\":[{\"marker\":{\"colorbar\":{\"outlinewidth\":0,\"ticks\":\"\"}},\"type\":\"scattermapbox\"}],\"scatterpolar\":[{\"marker\":{\"colorbar\":{\"outlinewidth\":0,\"ticks\":\"\"}},\"type\":\"scatterpolar\"}],\"scatterpolargl\":[{\"marker\":{\"colorbar\":{\"outlinewidth\":0,\"ticks\":\"\"}},\"type\":\"scatterpolargl\"}],\"scatterternary\":[{\"marker\":{\"colorbar\":{\"outlinewidth\":0,\"ticks\":\"\"}},\"type\":\"scatterternary\"}],\"surface\":[{\"colorbar\":{\"outlinewidth\":0,\"ticks\":\"\"},\"colorscale\":[[0.0,\"#0d0887\"],[0.1111111111111111,\"#46039f\"],[0.2222222222222222,\"#7201a8\"],[0.3333333333333333,\"#9c179e\"],[0.4444444444444444,\"#bd3786\"],[0.5555555555555556,\"#d8576b\"],[0.6666666666666666,\"#ed7953\"],[0.7777777777777778,\"#fb9f3a\"],[0.8888888888888888,\"#fdca26\"],[1.0,\"#f0f921\"]],\"type\":\"surface\"}],\"table\":[{\"cells\":{\"fill\":{\"color\":\"#EBF0F8\"},\"line\":{\"color\":\"white\"}},\"header\":{\"fill\":{\"color\":\"#C8D4E3\"},\"line\":{\"color\":\"white\"}},\"type\":\"table\"}]},\"layout\":{\"annotationdefaults\":{\"arrowcolor\":\"#2a3f5f\",\"arrowhead\":0,\"arrowwidth\":1},\"autotypenumbers\":\"strict\",\"coloraxis\":{\"colorbar\":{\"outlinewidth\":0,\"ticks\":\"\"}},\"colorscale\":{\"diverging\":[[0,\"#8e0152\"],[0.1,\"#c51b7d\"],[0.2,\"#de77ae\"],[0.3,\"#f1b6da\"],[0.4,\"#fde0ef\"],[0.5,\"#f7f7f7\"],[0.6,\"#e6f5d0\"],[0.7,\"#b8e186\"],[0.8,\"#7fbc41\"],[0.9,\"#4d9221\"],[1,\"#276419\"]],\"sequential\":[[0.0,\"#0d0887\"],[0.1111111111111111,\"#46039f\"],[0.2222222222222222,\"#7201a8\"],[0.3333333333333333,\"#9c179e\"],[0.4444444444444444,\"#bd3786\"],[0.5555555555555556,\"#d8576b\"],[0.6666666666666666,\"#ed7953\"],[0.7777777777777778,\"#fb9f3a\"],[0.8888888888888888,\"#fdca26\"],[1.0,\"#f0f921\"]],\"sequentialminus\":[[0.0,\"#0d0887\"],[0.1111111111111111,\"#46039f\"],[0.2222222222222222,\"#7201a8\"],[0.3333333333333333,\"#9c179e\"],[0.4444444444444444,\"#bd3786\"],[0.5555555555555556,\"#d8576b\"],[0.6666666666666666,\"#ed7953\"],[0.7777777777777778,\"#fb9f3a\"],[0.8888888888888888,\"#fdca26\"],[1.0,\"#f0f921\"]]},\"colorway\":[\"#636efa\",\"#EF553B\",\"#00cc96\",\"#ab63fa\",\"#FFA15A\",\"#19d3f3\",\"#FF6692\",\"#B6E880\",\"#FF97FF\",\"#FECB52\"],\"font\":{\"color\":\"#2a3f5f\"},\"geo\":{\"bgcolor\":\"white\",\"lakecolor\":\"white\",\"landcolor\":\"#E5ECF6\",\"showlakes\":true,\"showland\":true,\"subunitcolor\":\"white\"},\"hoverlabel\":{\"align\":\"left\"},\"hovermode\":\"closest\",\"mapbox\":{\"style\":\"light\"},\"paper_bgcolor\":\"white\",\"plot_bgcolor\":\"#E5ECF6\",\"polar\":{\"angularaxis\":{\"gridcolor\":\"white\",\"linecolor\":\"white\",\"ticks\":\"\"},\"bgcolor\":\"#E5ECF6\",\"radialaxis\":{\"gridcolor\":\"white\",\"linecolor\":\"white\",\"ticks\":\"\"}},\"scene\":{\"xaxis\":{\"backgroundcolor\":\"#E5ECF6\",\"gridcolor\":\"white\",\"gridwidth\":2,\"linecolor\":\"white\",\"showbackground\":true,\"ticks\":\"\",\"zerolinecolor\":\"white\"},\"yaxis\":{\"backgroundcolor\":\"#E5ECF6\",\"gridcolor\":\"white\",\"gridwidth\":2,\"linecolor\":\"white\",\"showbackground\":true,\"ticks\":\"\",\"zerolinecolor\":\"white\"},\"zaxis\":{\"backgroundcolor\":\"#E5ECF6\",\"gridcolor\":\"white\",\"gridwidth\":2,\"linecolor\":\"white\",\"showbackground\":true,\"ticks\":\"\",\"zerolinecolor\":\"white\"}},\"shapedefaults\":{\"line\":{\"color\":\"#2a3f5f\"}},\"ternary\":{\"aaxis\":{\"gridcolor\":\"white\",\"linecolor\":\"white\",\"ticks\":\"\"},\"baxis\":{\"gridcolor\":\"white\",\"linecolor\":\"white\",\"ticks\":\"\"},\"bgcolor\":\"#E5ECF6\",\"caxis\":{\"gridcolor\":\"white\",\"linecolor\":\"white\",\"ticks\":\"\"}},\"title\":{\"x\":0.05},\"xaxis\":{\"automargin\":true,\"gridcolor\":\"white\",\"linecolor\":\"white\",\"ticks\":\"\",\"title\":{\"standoff\":15},\"zerolinecolor\":\"white\",\"zerolinewidth\":2},\"yaxis\":{\"automargin\":true,\"gridcolor\":\"white\",\"linecolor\":\"white\",\"ticks\":\"\",\"title\":{\"standoff\":15},\"zerolinecolor\":\"white\",\"zerolinewidth\":2}}},\"xaxis\":{\"anchor\":\"y\",\"domain\":[0.0,1.0],\"title\":{\"text\":\"<b>Age<b>\"}},\"yaxis\":{\"anchor\":\"x\",\"domain\":[0.0,1.0],\"title\":{\"text\":\"<b>Average Hospital Death<b>\"}},\"legend\":{\"title\":{\"text\":\"icu_admit_source\"},\"tracegroupgap\":0,\"itemsizing\":\"constant\"},\"margin\":{\"t\":60},\"title\":{\"text\":\"<b>Survival rate based on different sources to ICU<b>\"}},                        {\"responsive\": true}                    ).then(function(){\n",
              "                            \n",
              "var gd = document.getElementById('74b4852c-015f-4f23-bd32-81d784945d2b');\n",
              "var x = new MutationObserver(function (mutations, observer) {{\n",
              "        var display = window.getComputedStyle(gd).display;\n",
              "        if (!display || display === 'none') {{\n",
              "            console.log([gd, 'removed!']);\n",
              "            Plotly.purge(gd);\n",
              "            observer.disconnect();\n",
              "        }}\n",
              "}});\n",
              "\n",
              "// Listen for the removal of the full notebook cells\n",
              "var notebookContainer = gd.closest('#notebook-container');\n",
              "if (notebookContainer) {{\n",
              "    x.observe(notebookContainer, {childList: true});\n",
              "}}\n",
              "\n",
              "// Listen for the clearing of the current output cell\n",
              "var outputEl = gd.closest('.output');\n",
              "if (outputEl) {{\n",
              "    x.observe(outputEl, {childList: true});\n",
              "}}\n",
              "\n",
              "                        })                };                            </script>        </div>\n",
              "</body>\n",
              "</html>"
            ]
          },
          "metadata": {}
        }
      ]
    },
    {
      "cell_type": "markdown",
      "source": [
        "# Data Preprocessing"
      ],
      "metadata": {
        "id": "CKj7t0dyZqIr"
      }
    },
    {
      "cell_type": "markdown",
      "source": [
        "Changing data types and encoding categorical variables"
      ],
      "metadata": {
        "id": "5QFCyRvakhNU"
      }
    },
    {
      "cell_type": "code",
      "source": [
        "#convert object type variables into categorical type.\n",
        "\n",
        "for col_name in data.columns:\n",
        "    if data[col_name].dtypes == 'object':\n",
        "        print(col_name)\n",
        "        data[col_name]=data[col_name].astype('category')"
      ],
      "metadata": {
        "colab": {
          "base_uri": "https://localhost:8080/"
        },
        "id": "3ltyVX_EgsWn",
        "outputId": "56610e4b-c272-41aa-ba0c-592a6d645b54"
      },
      "execution_count": 64,
      "outputs": [
        {
          "output_type": "stream",
          "name": "stdout",
          "text": [
            "ethnicity\n",
            "gender\n",
            "icu_admit_source\n",
            "icu_stay_type\n",
            "icu_type\n",
            "apache_2_bodysystem\n"
          ]
        }
      ]
    },
    {
      "cell_type": "code",
      "source": [
        "#Encode categorical data with a numeric value\n",
        "\n",
        "for col_name in data.columns:\n",
        "    if data[col_name].dtype.name == 'category':\n",
        "        data[col_name] = data[col_name].cat.codes\n",
        "        \n",
        "data.head(10)"
      ],
      "metadata": {
        "colab": {
          "base_uri": "https://localhost:8080/",
          "height": 456
        },
        "id": "5hSXHUsrM3B6",
        "outputId": "313cb2e2-8795-41fc-f4f4-838b8d923ad9"
      },
      "execution_count": 65,
      "outputs": [
        {
          "output_type": "execute_result",
          "data": {
            "text/plain": [
              "    age        bmi  elective_surgery  ethnicity  gender  icu_admit_source  \\\n",
              "0  68.0  22.730000                 0          2       1                 1   \n",
              "1  77.0  27.420000                 0          2       0                 1   \n",
              "2  67.0  27.560000                 0          2       1                 0   \n",
              "3  59.0  57.450000                 0          2       0                 0   \n",
              "4  78.0        NaN                 0          2       0                 0   \n",
              "5  80.0  35.659989                 0          2       1                 1   \n",
              "6   NaN        NaN                 1          2       0                 2   \n",
              "7  68.0  27.560503                 1          2       1                 2   \n",
              "8  71.0  38.497016                 0          2       1                 0   \n",
              "9  60.0        NaN                 0          2       0                 0   \n",
              "\n",
              "   icu_stay_type  icu_type  pre_icu_los_days  apache_2_diagnosis  ...  \\\n",
              "0              0         2          0.541667               113.0  ...   \n",
              "1              0         5          0.927778               108.0  ...   \n",
              "2              0         5          0.000694               301.0  ...   \n",
              "3              0         5          0.000694               108.0  ...   \n",
              "4              0         4          0.000694               113.0  ...   \n",
              "5              0         4          0.000694               113.0  ...   \n",
              "6              0         0          1.031944               207.0  ...   \n",
              "7              0         5          0.005556               209.0  ...   \n",
              "8              0         6          0.000694               301.0  ...   \n",
              "9              0         5          0.008333               113.0  ...   \n",
              "\n",
              "   d1_glucose_min  aids  cirrhosis  hepatic_failure  immunosuppression  \\\n",
              "0           109.0     0          0                0                  0   \n",
              "1           128.0     0          0                0                  0   \n",
              "2           125.0     0          0                0                  0   \n",
              "3           129.0     0          0                0                  0   \n",
              "4            90.0     0          0                0                  0   \n",
              "5           256.0     0          0                0                  0   \n",
              "6           171.0     0          0                0                  0   \n",
              "7            82.0     0          0                0                  0   \n",
              "8           158.0     0          1                1                  0   \n",
              "9           170.0     0          0                0                  0   \n",
              "\n",
              "   leukemia  lymphoma  solid_tumor_with_metastasis  apache_2_bodysystem  \\\n",
              "0         0         0                            0                    0   \n",
              "1         0         0                            0                    6   \n",
              "2         0         0                            0                    4   \n",
              "3         0         0                            0                    6   \n",
              "4         0         0                            0                    0   \n",
              "5         0         0                            0                    0   \n",
              "6         0         0                            0                    7   \n",
              "7         0         0                            1                    6   \n",
              "8         0         0                            0                    4   \n",
              "9         0         0                            0                    0   \n",
              "\n",
              "   hospital_death  \n",
              "0               0  \n",
              "1               0  \n",
              "2               0  \n",
              "3               0  \n",
              "4               0  \n",
              "5               0  \n",
              "6               0  \n",
              "7               0  \n",
              "8               0  \n",
              "9               0  \n",
              "\n",
              "[10 rows x 29 columns]"
            ],
            "text/html": [
              "\n",
              "  <div id=\"df-61709b85-6770-4d97-836e-1df6dc1c37e5\">\n",
              "    <div class=\"colab-df-container\">\n",
              "      <div>\n",
              "<style scoped>\n",
              "    .dataframe tbody tr th:only-of-type {\n",
              "        vertical-align: middle;\n",
              "    }\n",
              "\n",
              "    .dataframe tbody tr th {\n",
              "        vertical-align: top;\n",
              "    }\n",
              "\n",
              "    .dataframe thead th {\n",
              "        text-align: right;\n",
              "    }\n",
              "</style>\n",
              "<table border=\"1\" class=\"dataframe\">\n",
              "  <thead>\n",
              "    <tr style=\"text-align: right;\">\n",
              "      <th></th>\n",
              "      <th>age</th>\n",
              "      <th>bmi</th>\n",
              "      <th>elective_surgery</th>\n",
              "      <th>ethnicity</th>\n",
              "      <th>gender</th>\n",
              "      <th>icu_admit_source</th>\n",
              "      <th>icu_stay_type</th>\n",
              "      <th>icu_type</th>\n",
              "      <th>pre_icu_los_days</th>\n",
              "      <th>apache_2_diagnosis</th>\n",
              "      <th>...</th>\n",
              "      <th>d1_glucose_min</th>\n",
              "      <th>aids</th>\n",
              "      <th>cirrhosis</th>\n",
              "      <th>hepatic_failure</th>\n",
              "      <th>immunosuppression</th>\n",
              "      <th>leukemia</th>\n",
              "      <th>lymphoma</th>\n",
              "      <th>solid_tumor_with_metastasis</th>\n",
              "      <th>apache_2_bodysystem</th>\n",
              "      <th>hospital_death</th>\n",
              "    </tr>\n",
              "  </thead>\n",
              "  <tbody>\n",
              "    <tr>\n",
              "      <th>0</th>\n",
              "      <td>68.0</td>\n",
              "      <td>22.730000</td>\n",
              "      <td>0</td>\n",
              "      <td>2</td>\n",
              "      <td>1</td>\n",
              "      <td>1</td>\n",
              "      <td>0</td>\n",
              "      <td>2</td>\n",
              "      <td>0.541667</td>\n",
              "      <td>113.0</td>\n",
              "      <td>...</td>\n",
              "      <td>109.0</td>\n",
              "      <td>0</td>\n",
              "      <td>0</td>\n",
              "      <td>0</td>\n",
              "      <td>0</td>\n",
              "      <td>0</td>\n",
              "      <td>0</td>\n",
              "      <td>0</td>\n",
              "      <td>0</td>\n",
              "      <td>0</td>\n",
              "    </tr>\n",
              "    <tr>\n",
              "      <th>1</th>\n",
              "      <td>77.0</td>\n",
              "      <td>27.420000</td>\n",
              "      <td>0</td>\n",
              "      <td>2</td>\n",
              "      <td>0</td>\n",
              "      <td>1</td>\n",
              "      <td>0</td>\n",
              "      <td>5</td>\n",
              "      <td>0.927778</td>\n",
              "      <td>108.0</td>\n",
              "      <td>...</td>\n",
              "      <td>128.0</td>\n",
              "      <td>0</td>\n",
              "      <td>0</td>\n",
              "      <td>0</td>\n",
              "      <td>0</td>\n",
              "      <td>0</td>\n",
              "      <td>0</td>\n",
              "      <td>0</td>\n",
              "      <td>6</td>\n",
              "      <td>0</td>\n",
              "    </tr>\n",
              "    <tr>\n",
              "      <th>2</th>\n",
              "      <td>67.0</td>\n",
              "      <td>27.560000</td>\n",
              "      <td>0</td>\n",
              "      <td>2</td>\n",
              "      <td>1</td>\n",
              "      <td>0</td>\n",
              "      <td>0</td>\n",
              "      <td>5</td>\n",
              "      <td>0.000694</td>\n",
              "      <td>301.0</td>\n",
              "      <td>...</td>\n",
              "      <td>125.0</td>\n",
              "      <td>0</td>\n",
              "      <td>0</td>\n",
              "      <td>0</td>\n",
              "      <td>0</td>\n",
              "      <td>0</td>\n",
              "      <td>0</td>\n",
              "      <td>0</td>\n",
              "      <td>4</td>\n",
              "      <td>0</td>\n",
              "    </tr>\n",
              "    <tr>\n",
              "      <th>3</th>\n",
              "      <td>59.0</td>\n",
              "      <td>57.450000</td>\n",
              "      <td>0</td>\n",
              "      <td>2</td>\n",
              "      <td>0</td>\n",
              "      <td>0</td>\n",
              "      <td>0</td>\n",
              "      <td>5</td>\n",
              "      <td>0.000694</td>\n",
              "      <td>108.0</td>\n",
              "      <td>...</td>\n",
              "      <td>129.0</td>\n",
              "      <td>0</td>\n",
              "      <td>0</td>\n",
              "      <td>0</td>\n",
              "      <td>0</td>\n",
              "      <td>0</td>\n",
              "      <td>0</td>\n",
              "      <td>0</td>\n",
              "      <td>6</td>\n",
              "      <td>0</td>\n",
              "    </tr>\n",
              "    <tr>\n",
              "      <th>4</th>\n",
              "      <td>78.0</td>\n",
              "      <td>NaN</td>\n",
              "      <td>0</td>\n",
              "      <td>2</td>\n",
              "      <td>0</td>\n",
              "      <td>0</td>\n",
              "      <td>0</td>\n",
              "      <td>4</td>\n",
              "      <td>0.000694</td>\n",
              "      <td>113.0</td>\n",
              "      <td>...</td>\n",
              "      <td>90.0</td>\n",
              "      <td>0</td>\n",
              "      <td>0</td>\n",
              "      <td>0</td>\n",
              "      <td>0</td>\n",
              "      <td>0</td>\n",
              "      <td>0</td>\n",
              "      <td>0</td>\n",
              "      <td>0</td>\n",
              "      <td>0</td>\n",
              "    </tr>\n",
              "    <tr>\n",
              "      <th>5</th>\n",
              "      <td>80.0</td>\n",
              "      <td>35.659989</td>\n",
              "      <td>0</td>\n",
              "      <td>2</td>\n",
              "      <td>1</td>\n",
              "      <td>1</td>\n",
              "      <td>0</td>\n",
              "      <td>4</td>\n",
              "      <td>0.000694</td>\n",
              "      <td>113.0</td>\n",
              "      <td>...</td>\n",
              "      <td>256.0</td>\n",
              "      <td>0</td>\n",
              "      <td>0</td>\n",
              "      <td>0</td>\n",
              "      <td>0</td>\n",
              "      <td>0</td>\n",
              "      <td>0</td>\n",
              "      <td>0</td>\n",
              "      <td>0</td>\n",
              "      <td>0</td>\n",
              "    </tr>\n",
              "    <tr>\n",
              "      <th>6</th>\n",
              "      <td>NaN</td>\n",
              "      <td>NaN</td>\n",
              "      <td>1</td>\n",
              "      <td>2</td>\n",
              "      <td>0</td>\n",
              "      <td>2</td>\n",
              "      <td>0</td>\n",
              "      <td>0</td>\n",
              "      <td>1.031944</td>\n",
              "      <td>207.0</td>\n",
              "      <td>...</td>\n",
              "      <td>171.0</td>\n",
              "      <td>0</td>\n",
              "      <td>0</td>\n",
              "      <td>0</td>\n",
              "      <td>0</td>\n",
              "      <td>0</td>\n",
              "      <td>0</td>\n",
              "      <td>0</td>\n",
              "      <td>7</td>\n",
              "      <td>0</td>\n",
              "    </tr>\n",
              "    <tr>\n",
              "      <th>7</th>\n",
              "      <td>68.0</td>\n",
              "      <td>27.560503</td>\n",
              "      <td>1</td>\n",
              "      <td>2</td>\n",
              "      <td>1</td>\n",
              "      <td>2</td>\n",
              "      <td>0</td>\n",
              "      <td>5</td>\n",
              "      <td>0.005556</td>\n",
              "      <td>209.0</td>\n",
              "      <td>...</td>\n",
              "      <td>82.0</td>\n",
              "      <td>0</td>\n",
              "      <td>0</td>\n",
              "      <td>0</td>\n",
              "      <td>0</td>\n",
              "      <td>0</td>\n",
              "      <td>0</td>\n",
              "      <td>1</td>\n",
              "      <td>6</td>\n",
              "      <td>0</td>\n",
              "    </tr>\n",
              "    <tr>\n",
              "      <th>8</th>\n",
              "      <td>71.0</td>\n",
              "      <td>38.497016</td>\n",
              "      <td>0</td>\n",
              "      <td>2</td>\n",
              "      <td>1</td>\n",
              "      <td>0</td>\n",
              "      <td>0</td>\n",
              "      <td>6</td>\n",
              "      <td>0.000694</td>\n",
              "      <td>301.0</td>\n",
              "      <td>...</td>\n",
              "      <td>158.0</td>\n",
              "      <td>0</td>\n",
              "      <td>1</td>\n",
              "      <td>1</td>\n",
              "      <td>0</td>\n",
              "      <td>0</td>\n",
              "      <td>0</td>\n",
              "      <td>0</td>\n",
              "      <td>4</td>\n",
              "      <td>0</td>\n",
              "    </tr>\n",
              "    <tr>\n",
              "      <th>9</th>\n",
              "      <td>60.0</td>\n",
              "      <td>NaN</td>\n",
              "      <td>0</td>\n",
              "      <td>2</td>\n",
              "      <td>0</td>\n",
              "      <td>0</td>\n",
              "      <td>0</td>\n",
              "      <td>5</td>\n",
              "      <td>0.008333</td>\n",
              "      <td>113.0</td>\n",
              "      <td>...</td>\n",
              "      <td>170.0</td>\n",
              "      <td>0</td>\n",
              "      <td>0</td>\n",
              "      <td>0</td>\n",
              "      <td>0</td>\n",
              "      <td>0</td>\n",
              "      <td>0</td>\n",
              "      <td>0</td>\n",
              "      <td>0</td>\n",
              "      <td>0</td>\n",
              "    </tr>\n",
              "  </tbody>\n",
              "</table>\n",
              "<p>10 rows × 29 columns</p>\n",
              "</div>\n",
              "      <button class=\"colab-df-convert\" onclick=\"convertToInteractive('df-61709b85-6770-4d97-836e-1df6dc1c37e5')\"\n",
              "              title=\"Convert this dataframe to an interactive table.\"\n",
              "              style=\"display:none;\">\n",
              "        \n",
              "  <svg xmlns=\"http://www.w3.org/2000/svg\" height=\"24px\"viewBox=\"0 0 24 24\"\n",
              "       width=\"24px\">\n",
              "    <path d=\"M0 0h24v24H0V0z\" fill=\"none\"/>\n",
              "    <path d=\"M18.56 5.44l.94 2.06.94-2.06 2.06-.94-2.06-.94-.94-2.06-.94 2.06-2.06.94zm-11 1L8.5 8.5l.94-2.06 2.06-.94-2.06-.94L8.5 2.5l-.94 2.06-2.06.94zm10 10l.94 2.06.94-2.06 2.06-.94-2.06-.94-.94-2.06-.94 2.06-2.06.94z\"/><path d=\"M17.41 7.96l-1.37-1.37c-.4-.4-.92-.59-1.43-.59-.52 0-1.04.2-1.43.59L10.3 9.45l-7.72 7.72c-.78.78-.78 2.05 0 2.83L4 21.41c.39.39.9.59 1.41.59.51 0 1.02-.2 1.41-.59l7.78-7.78 2.81-2.81c.8-.78.8-2.07 0-2.86zM5.41 20L4 18.59l7.72-7.72 1.47 1.35L5.41 20z\"/>\n",
              "  </svg>\n",
              "      </button>\n",
              "      \n",
              "  <style>\n",
              "    .colab-df-container {\n",
              "      display:flex;\n",
              "      flex-wrap:wrap;\n",
              "      gap: 12px;\n",
              "    }\n",
              "\n",
              "    .colab-df-convert {\n",
              "      background-color: #E8F0FE;\n",
              "      border: none;\n",
              "      border-radius: 50%;\n",
              "      cursor: pointer;\n",
              "      display: none;\n",
              "      fill: #1967D2;\n",
              "      height: 32px;\n",
              "      padding: 0 0 0 0;\n",
              "      width: 32px;\n",
              "    }\n",
              "\n",
              "    .colab-df-convert:hover {\n",
              "      background-color: #E2EBFA;\n",
              "      box-shadow: 0px 1px 2px rgba(60, 64, 67, 0.3), 0px 1px 3px 1px rgba(60, 64, 67, 0.15);\n",
              "      fill: #174EA6;\n",
              "    }\n",
              "\n",
              "    [theme=dark] .colab-df-convert {\n",
              "      background-color: #3B4455;\n",
              "      fill: #D2E3FC;\n",
              "    }\n",
              "\n",
              "    [theme=dark] .colab-df-convert:hover {\n",
              "      background-color: #434B5C;\n",
              "      box-shadow: 0px 1px 3px 1px rgba(0, 0, 0, 0.15);\n",
              "      filter: drop-shadow(0px 1px 2px rgba(0, 0, 0, 0.3));\n",
              "      fill: #FFFFFF;\n",
              "    }\n",
              "  </style>\n",
              "\n",
              "      <script>\n",
              "        const buttonEl =\n",
              "          document.querySelector('#df-61709b85-6770-4d97-836e-1df6dc1c37e5 button.colab-df-convert');\n",
              "        buttonEl.style.display =\n",
              "          google.colab.kernel.accessAllowed ? 'block' : 'none';\n",
              "\n",
              "        async function convertToInteractive(key) {\n",
              "          const element = document.querySelector('#df-61709b85-6770-4d97-836e-1df6dc1c37e5');\n",
              "          const dataTable =\n",
              "            await google.colab.kernel.invokeFunction('convertToInteractive',\n",
              "                                                     [key], {});\n",
              "          if (!dataTable) return;\n",
              "\n",
              "          const docLinkHtml = 'Like what you see? Visit the ' +\n",
              "            '<a target=\"_blank\" href=https://colab.research.google.com/notebooks/data_table.ipynb>data table notebook</a>'\n",
              "            + ' to learn more about interactive tables.';\n",
              "          element.innerHTML = '';\n",
              "          dataTable['output_type'] = 'display_data';\n",
              "          await google.colab.output.renderOutput(dataTable, element);\n",
              "          const docLink = document.createElement('div');\n",
              "          docLink.innerHTML = docLinkHtml;\n",
              "          element.appendChild(docLink);\n",
              "        }\n",
              "      </script>\n",
              "    </div>\n",
              "  </div>\n",
              "  "
            ]
          },
          "metadata": {},
          "execution_count": 65
        }
      ]
    },
    {
      "cell_type": "code",
      "source": [
        "#Changing the datatype of other Categorical variables into 'category'\n",
        "\n",
        "\n",
        "catvar = [\n",
        " 'elective_surgery',\n",
        " 'arf_apache',\n",
        " 'intubated_apache',\n",
        " 'aids',\n",
        " 'cirrhosis',\n",
        " 'hepatic_failure',\n",
        " 'immunosuppression',\n",
        " 'leukemia',\n",
        " 'lymphoma',\n",
        " 'solid_tumor_with_metastasis',\n",
        " 'hospital_death',\n",
        " 'ethnicity',\n",
        " 'gender',\n",
        " 'icu_admit_source',\n",
        " 'icu_stay_type',\n",
        " 'icu_type',\n",
        " 'apache_2_bodysystem']\n",
        "\n",
        "data[catvar]=data[catvar].astype('category')"
      ],
      "metadata": {
        "id": "AhDbR0SKM3GP"
      },
      "execution_count": 66,
      "outputs": []
    },
    {
      "cell_type": "code",
      "source": [
        "data.info()"
      ],
      "metadata": {
        "colab": {
          "base_uri": "https://localhost:8080/"
        },
        "id": "0ihbg5wgi-Kc",
        "outputId": "43818bd8-f451-4492-d810-31747bc0964e"
      },
      "execution_count": 67,
      "outputs": [
        {
          "output_type": "stream",
          "name": "stdout",
          "text": [
            "<class 'pandas.core.frame.DataFrame'>\n",
            "RangeIndex: 20492 entries, 0 to 20491\n",
            "Data columns (total 29 columns):\n",
            " #   Column                       Non-Null Count  Dtype   \n",
            "---  ------                       --------------  -----   \n",
            " 0   age                          19999 non-null  float64 \n",
            " 1   bmi                          19739 non-null  float64 \n",
            " 2   elective_surgery             20492 non-null  category\n",
            " 3   ethnicity                    20492 non-null  category\n",
            " 4   gender                       20492 non-null  category\n",
            " 5   icu_admit_source             20492 non-null  category\n",
            " 6   icu_stay_type                20492 non-null  category\n",
            " 7   icu_type                     20492 non-null  category\n",
            " 8   pre_icu_los_days             20492 non-null  float64 \n",
            " 9   apache_2_diagnosis           20328 non-null  float64 \n",
            " 10  arf_apache                   20492 non-null  category\n",
            " 11  intubated_apache             20492 non-null  category\n",
            " 12  d1_heartrate_max             20471 non-null  float64 \n",
            " 13  d1_heartrate_min             20471 non-null  float64 \n",
            " 14  d1_resprate_max              20407 non-null  float64 \n",
            " 15  d1_resprate_min              20407 non-null  float64 \n",
            " 16  d1_temp_max                  19920 non-null  float64 \n",
            " 17  d1_temp_min                  19920 non-null  float64 \n",
            " 18  d1_glucose_max               20102 non-null  float64 \n",
            " 19  d1_glucose_min               20102 non-null  float64 \n",
            " 20  aids                         20492 non-null  category\n",
            " 21  cirrhosis                    20492 non-null  category\n",
            " 22  hepatic_failure              20492 non-null  category\n",
            " 23  immunosuppression            20492 non-null  category\n",
            " 24  leukemia                     20492 non-null  category\n",
            " 25  lymphoma                     20492 non-null  category\n",
            " 26  solid_tumor_with_metastasis  20492 non-null  category\n",
            " 27  apache_2_bodysystem          20492 non-null  category\n",
            " 28  hospital_death               20492 non-null  category\n",
            "dtypes: category(17), float64(12)\n",
            "memory usage: 2.2 MB\n"
          ]
        }
      ]
    },
    {
      "cell_type": "markdown",
      "source": [
        "NULL value handling: \n",
        "\n",
        "NULL Categorical variables with mode and NULL numerical values with mean\n"
      ],
      "metadata": {
        "id": "Se3LhKNhkpIQ"
      }
    },
    {
      "cell_type": "code",
      "source": [
        "# Taking non-categorical variables into a list\n",
        "numeric = data[data.columns.difference(catvar)]\n",
        "numericvar = numeric.columns\n",
        "\n",
        "\n",
        "data[catvar] = data[catvar].fillna(data[catvar].mode())\n",
        "data[numericvar] = data[numericvar].fillna(data[numericvar].mean())"
      ],
      "metadata": {
        "id": "ETFc4GZ4FnCE"
      },
      "execution_count": 68,
      "outputs": []
    },
    {
      "cell_type": "code",
      "source": [
        "# checking for NULL values in the dataset\n",
        "data.isna().any()"
      ],
      "metadata": {
        "colab": {
          "base_uri": "https://localhost:8080/"
        },
        "id": "ixrntoyfrI1K",
        "outputId": "a04dad38-a331-4c19-90c8-e0da729f919e"
      },
      "execution_count": 69,
      "outputs": [
        {
          "output_type": "execute_result",
          "data": {
            "text/plain": [
              "age                            False\n",
              "bmi                            False\n",
              "elective_surgery               False\n",
              "ethnicity                      False\n",
              "gender                         False\n",
              "icu_admit_source               False\n",
              "icu_stay_type                  False\n",
              "icu_type                       False\n",
              "pre_icu_los_days               False\n",
              "apache_2_diagnosis             False\n",
              "arf_apache                     False\n",
              "intubated_apache               False\n",
              "d1_heartrate_max               False\n",
              "d1_heartrate_min               False\n",
              "d1_resprate_max                False\n",
              "d1_resprate_min                False\n",
              "d1_temp_max                    False\n",
              "d1_temp_min                    False\n",
              "d1_glucose_max                 False\n",
              "d1_glucose_min                 False\n",
              "aids                           False\n",
              "cirrhosis                      False\n",
              "hepatic_failure                False\n",
              "immunosuppression              False\n",
              "leukemia                       False\n",
              "lymphoma                       False\n",
              "solid_tumor_with_metastasis    False\n",
              "apache_2_bodysystem            False\n",
              "hospital_death                 False\n",
              "dtype: bool"
            ]
          },
          "metadata": {},
          "execution_count": 69
        }
      ]
    },
    {
      "cell_type": "markdown",
      "source": [
        "# Model Development"
      ],
      "metadata": {
        "id": "Fbx3GxqeIQgI"
      }
    },
    {
      "cell_type": "markdown",
      "source": [
        "Split Dataset"
      ],
      "metadata": {
        "id": "9WvSd-l9SQOs"
      }
    },
    {
      "cell_type": "code",
      "source": [
        "# Cheking value counts in class variable\n",
        "print(data['hospital_death'].value_counts())"
      ],
      "metadata": {
        "colab": {
          "base_uri": "https://localhost:8080/"
        },
        "id": "jWfxJxXYQc8x",
        "outputId": "1e9c8c0e-1fce-4c0f-d380-1ac44e14e201"
      },
      "execution_count": 70,
      "outputs": [
        {
          "output_type": "stream",
          "name": "stdout",
          "text": [
            "0    18897\n",
            "1     1595\n",
            "Name: hospital_death, dtype: int64\n"
          ]
        }
      ]
    },
    {
      "cell_type": "markdown",
      "source": [
        "First the dataset was splitted into training and testing before balance the class variables. This was done to avoid information leaking. "
      ],
      "metadata": {
        "id": "qPkI1IvDQxlQ"
      }
    },
    {
      "cell_type": "code",
      "source": [
        "# Drop current stay(not relavent for stay duration prediction) and stay duration from X\n",
        "X = data.drop(['hospital_death'], axis=1)\n",
        "Y = data['hospital_death']"
      ],
      "metadata": {
        "id": "9-SEQ4L-VIHv"
      },
      "execution_count": 71,
      "outputs": []
    },
    {
      "cell_type": "code",
      "source": [
        "print(Y.shape)\n",
        "print(X.shape)"
      ],
      "metadata": {
        "colab": {
          "base_uri": "https://localhost:8080/"
        },
        "id": "-Soc4YSBVaAF",
        "outputId": "a0b39436-0363-4b0f-f8a4-35659f6503c9"
      },
      "execution_count": 72,
      "outputs": [
        {
          "output_type": "stream",
          "name": "stdout",
          "text": [
            "(20492,)\n",
            "(20492, 28)\n"
          ]
        }
      ]
    },
    {
      "cell_type": "code",
      "source": [
        "# Remove class variable from categorical variable list\n",
        "catvar.remove('hospital_death')\n",
        "catvar"
      ],
      "metadata": {
        "colab": {
          "base_uri": "https://localhost:8080/"
        },
        "id": "pluBOWDDWHCC",
        "outputId": "fc9cb26a-fd70-4fad-9296-89aca72f4ee1"
      },
      "execution_count": 73,
      "outputs": [
        {
          "output_type": "execute_result",
          "data": {
            "text/plain": [
              "['elective_surgery',\n",
              " 'arf_apache',\n",
              " 'intubated_apache',\n",
              " 'aids',\n",
              " 'cirrhosis',\n",
              " 'hepatic_failure',\n",
              " 'immunosuppression',\n",
              " 'leukemia',\n",
              " 'lymphoma',\n",
              " 'solid_tumor_with_metastasis',\n",
              " 'ethnicity',\n",
              " 'gender',\n",
              " 'icu_admit_source',\n",
              " 'icu_stay_type',\n",
              " 'icu_type',\n",
              " 'apache_2_bodysystem']"
            ]
          },
          "metadata": {},
          "execution_count": 73
        }
      ]
    },
    {
      "cell_type": "code",
      "source": [
        "# Use train_test_split in sklearn.model_selection to split data into train and test sets\n",
        "\n",
        "X_train, X_test, Y_train, Y_test = train_test_split(X, Y, train_size=0.7, random_state=0, stratify=Y)"
      ],
      "metadata": {
        "id": "Xf8jKj3oVk5A"
      },
      "execution_count": 74,
      "outputs": []
    },
    {
      "cell_type": "code",
      "source": [
        "print(Y_train.shape)\n",
        "print(X_train.shape)\n",
        "\n",
        "# Cheking value counts of class variable in training set\n",
        "print(Y_train.value_counts())"
      ],
      "metadata": {
        "colab": {
          "base_uri": "https://localhost:8080/"
        },
        "id": "3RjqkAS_d525",
        "outputId": "cc663b1f-79c8-4620-9a85-f77a96936b26"
      },
      "execution_count": 77,
      "outputs": [
        {
          "output_type": "stream",
          "name": "stdout",
          "text": [
            "(14344,)\n",
            "(14344, 28)\n",
            "0    13228\n",
            "1     1116\n",
            "Name: hospital_death, dtype: int64\n"
          ]
        }
      ]
    },
    {
      "cell_type": "code",
      "source": [
        "#Obatin column index for categorical features\n",
        "\n",
        "categorical_indexes = [data.columns.get_loc(col) for col in catvar]\n",
        "print(sorted(categorical_indexes))"
      ],
      "metadata": {
        "colab": {
          "base_uri": "https://localhost:8080/"
        },
        "id": "IDAF6KYBZhj5",
        "outputId": "fa42ede3-e51c-4fb3-8e26-379279e0c12f"
      },
      "execution_count": 78,
      "outputs": [
        {
          "output_type": "stream",
          "name": "stdout",
          "text": [
            "[2, 3, 4, 5, 6, 7, 10, 11, 20, 21, 22, 23, 24, 25, 26, 27]\n"
          ]
        }
      ]
    },
    {
      "cell_type": "code",
      "source": [
        "# SMOTENC will be used when variables are both categorical and numerical\n",
        "\n",
        "sm = SMOTENC(categorical_features=categorical_indexes, sampling_strategy='minority', random_state=42)\n",
        "X_trainBal, Y_trainBal = sm.fit_resample(X_train, Y_train)"
      ],
      "metadata": {
        "id": "l9GGHNTVTPWU"
      },
      "execution_count": 81,
      "outputs": []
    },
    {
      "cell_type": "code",
      "source": [
        "print(Y_trainBal.shape)\n",
        "print(X_trainBal.shape)"
      ],
      "metadata": {
        "colab": {
          "base_uri": "https://localhost:8080/"
        },
        "id": "hHNCI8K5dnmA",
        "outputId": "3df942ef-4e8a-4bff-e586-68d6e9cc9c51"
      },
      "execution_count": 88,
      "outputs": [
        {
          "output_type": "stream",
          "name": "stdout",
          "text": [
            "(26456,)\n",
            "(26456, 28)\n"
          ]
        }
      ]
    },
    {
      "cell_type": "markdown",
      "source": [
        "Best Feature Selection : Filter-based"
      ],
      "metadata": {
        "id": "ybrPHscFgVNc"
      }
    },
    {
      "cell_type": "code",
      "source": [
        "def feature_selection(X, Y):\n",
        "  # Use slectkbest function to find the best features based on ANOVA F-value\n",
        "  bestfeatures = SelectKBest(score_func=mutual_info_classif, k=28)\n",
        "\n",
        "  selected_features = bestfeatures.fit(X, Y)\n",
        "  indices_selected = selected_features.get_support(indices=True)\n",
        "  colnames_selected = [X.columns[j] for j in indices_selected]\n",
        "  print(indices_selected)\n",
        "\n",
        "  dfscores = pd.DataFrame(bestfeatures.scores_)\n",
        "  dfpval = pd.DataFrame(bestfeatures.pvalues_)\n",
        "  dfcolumns = pd.DataFrame(X.columns)\n",
        "  #concat two dataframes for better visualization \n",
        "  featureScores = pd.concat([dfcolumns,dfscores],axis=1)\n",
        "  featureScores.columns = ['Specs','Score']  #naming the dataframe columns\n",
        "  print(featureScores.nlargest(28,'Score'))  #print features\n",
        "  \n",
        "  return None"
      ],
      "metadata": {
        "id": "rCdNtrjQgaFG"
      },
      "execution_count": 97,
      "outputs": []
    },
    {
      "cell_type": "code",
      "source": [
        "feature_selection(X_trainBal, Y_trainBal)"
      ],
      "metadata": {
        "colab": {
          "base_uri": "https://localhost:8080/"
        },
        "id": "A-cHCBpdgaAv",
        "outputId": "3caef974-c406-429a-c277-9a1999e647da"
      },
      "execution_count": 98,
      "outputs": [
        {
          "output_type": "stream",
          "name": "stdout",
          "text": [
            "[ 0  1  2  3  4  5  6  7  8  9 10 11 12 13 14 15 16 17 18 19 20 21 22 23\n",
            " 24 25 26 27]\n",
            "                          Specs     Score\n",
            "12             d1_heartrate_max  0.506505\n",
            "0                           age  0.500086\n",
            "13             d1_heartrate_min  0.495336\n",
            "16                  d1_temp_max  0.494662\n",
            "14              d1_resprate_max  0.494505\n",
            "17                  d1_temp_min  0.493324\n",
            "15              d1_resprate_min  0.474396\n",
            "19               d1_glucose_min  0.464714\n",
            "18               d1_glucose_max  0.424567\n",
            "9            apache_2_diagnosis  0.417995\n",
            "8              pre_icu_los_days  0.278357\n",
            "27          apache_2_bodysystem  0.078766\n",
            "1                           bmi  0.065820\n",
            "3                     ethnicity  0.045686\n",
            "7                      icu_type  0.038094\n",
            "2              elective_surgery  0.022084\n",
            "5              icu_admit_source  0.015870\n",
            "6                 icu_stay_type  0.010755\n",
            "11             intubated_apache  0.010664\n",
            "10                   arf_apache  0.009976\n",
            "20                         aids  0.007634\n",
            "22              hepatic_failure  0.005410\n",
            "26  solid_tumor_with_metastasis  0.005342\n",
            "25                     lymphoma  0.003517\n",
            "24                     leukemia  0.003416\n",
            "23            immunosuppression  0.002643\n",
            "21                    cirrhosis  0.000376\n",
            "4                        gender  0.000000\n"
          ]
        }
      ]
    },
    {
      "cell_type": "markdown",
      "source": [
        "ML models training"
      ],
      "metadata": {
        "id": "mpun4hY7rmYR"
      }
    },
    {
      "cell_type": "code",
      "source": [
        "#setting the Kfold value as 10 for cross validation\n",
        "# kfold = KFold(n_splits=5, shuffle=True, random_state=10)\n",
        "skfold = StratifiedKFold(n_splits=5, shuffle=True, random_state=10)"
      ],
      "metadata": {
        "id": "LWNUXEk1gZ_D"
      },
      "execution_count": 102,
      "outputs": []
    },
    {
      "cell_type": "code",
      "source": [
        "# Module to perform cross validation\n",
        "def performance_CV(model, X_tr, Y_tr, kf):\n",
        "    \n",
        "  score=cross_val_score(model,X_tr,Y_tr, scoring=\"accuracy\", cv=kf, error_score=\"raise\")\n",
        "  mean_score = score.mean()\n",
        "  print(\"---------------------------------------------------\")\n",
        "  print(\"Average Cross Validation score :{}\".format(score.mean()))\n",
        "  print(\"---------------------------------------------------\")\n",
        "  \n",
        "  return mean_score"
      ],
      "metadata": {
        "id": "UNV7FqItsoJb"
      },
      "execution_count": 103,
      "outputs": []
    },
    {
      "cell_type": "code",
      "source": [
        "# Module to generate confusion matrix\n",
        "\n",
        "def confusionMat_withoutSyn(model,X_train, Y_train, X_test, Y_test): \n",
        "    model_trained = model.fit(X_train, Y_train)\n",
        "    model_predictions = model_trained.predict(X_test)\n",
        "    #print(model.feature_importances_)\n",
        "\n",
        "    # creating a confusion matrix\n",
        "    cm = confusion_matrix(Y_test, model_predictions)\n",
        "\n",
        "    plt.figure(figsize = (5, 5))\n",
        "    sns.heatmap(cm, cmap = 'Blues', annot = True, cbar = True)\n",
        "\n",
        "    print(classification_report(Y_test, model_predictions))\n",
        "    \n",
        "    return None"
      ],
      "metadata": {
        "id": "blu5Us-KsoFs"
      },
      "execution_count": 104,
      "outputs": []
    },
    {
      "cell_type": "code",
      "source": [
        "# Modeule to experiemnt with number of feature\n",
        "\n",
        "def feature_experiment(model, X_train, X_test, Y_train, Y_test, kfold):\n",
        "    best_features=0\n",
        "    best_auc=0\n",
        "    best_cv=0\n",
        "    # best_features1=0\n",
        "    # best_auc1=0\n",
        "\n",
        "    x_label = []   #A list to store no of features consider in each iteration. This will be used to draw the x-axis of the plot\n",
        "    y_label = []  #A list to store AUC received from each iteration. This will be used to draw the y-axis of the plot\n",
        "    y_label_CV = []  #A list to store Cross validation received from each iteration. This will be used to draw the y-axis of the plot\n",
        "    x_label_CV = []\n",
        "     \n",
        "    for idx,i in enumerate(range(2,28)): \n",
        "      \n",
        "      # Feature Selection\n",
        "      bestfeatures = SelectKBest(score_func=mutual_info_classif, k=i)\n",
        "      # bestfeatures = SelectKBest(score_func=chi2, k=i)\n",
        "#       bestfeatures = SelectKBest(k=i)\n",
        "      selected_features = bestfeatures.fit(X_train, Y_train)\n",
        "      indices_selected = selected_features.get_support(indices=True)\n",
        "      colnames_selected = [X_train.columns[j] for j in indices_selected]\n",
        "        \n",
        "      X_train_selected = X_train[colnames_selected]\n",
        "      X_test_selected = X_test[colnames_selected]\n",
        "\n",
        "  \n",
        "      #fill x array with current no of features \n",
        "      x_label.append(i)\n",
        "      x_label_CV.append(i)\n",
        "\n",
        "\n",
        "      modelNew = model;\n",
        "        \n",
        "      #----------------------------- REPLACE -----------------------------\n",
        "      modelNew.fit(X_train_selected, Y_train)\n",
        "      \n",
        "      rocAUC = roc_auc_score(Y_test, modelNew.predict_proba(X_test_selected)[:,1])  #binary classification\n",
        "      #fill y array with current testing AUC \n",
        "      y_label.append(rocAUC)\n",
        "      \n",
        "      # Check performance with cross validation\n",
        "      cv_performance = performance_CV(model, X_train_selected, Y_train, kfold)\n",
        "      y_label_CV.append(cv_performance)\n",
        "      \n",
        "\n",
        "        #storing the no of features at the best AUC performance \n",
        "      if rocAUC>best_auc:\n",
        "        best_auc=rocAUC\n",
        "        best_cv=cv_performance\n",
        "        best_features=i\n",
        "        best_colnames_selected=colnames_selected\n",
        "\n",
        "      #   #storing the no of features at the best CV performance \n",
        "      # if cv_performance>best_cv:\n",
        "      #   best_cv=cv_performance\n",
        "      #   best_auc=rocAUC\n",
        "      #   best_features=i\n",
        "      #   best_colnames_selected=colnames_selected\n",
        "        \n",
        "       \n",
        "      #-------------------------------------------------------------------\n",
        "    plt.figure(figsize=(15, 5))\n",
        "    \n",
        "    plt.subplot(1, 2, 1)\n",
        "    \n",
        "    # plotting the ROC AUC\n",
        "    plt.plot(x_label, y_label, color='yellow', linestyle='dashed', linewidth = 2,\n",
        "             marker='o', markerfacecolor='blue', markersize=10)\n",
        "\n",
        "    # naming the x axis\n",
        "    plt.xlabel('No of features')\n",
        "    # naming the y axis\n",
        "    plt.ylabel('ROC AUC')\n",
        "\n",
        "    # giving a title to my graph\n",
        "    plt.title('ROC AUC Vs Feature count')\n",
        "\n",
        "#     Plotting CV values-------------------------------------------------------\n",
        "\n",
        "    plt.subplot(1, 2, 2)\n",
        "    \n",
        "    # plotting the points\n",
        "    plt.plot(x_label_CV, y_label_CV, color='yellow', linestyle='dashed', linewidth = 2,\n",
        "             marker='o', markerfacecolor='green', markersize=10)\n",
        "\n",
        "    # naming the x axis\n",
        "    plt.xlabel('No of features')\n",
        "    # naming the y axis\n",
        "    plt.ylabel('Cross Val Accuracy')\n",
        "\n",
        "    # giving a title to my graph\n",
        "    plt.title('Cross Validation Performance with Feature Count')\n",
        "\n",
        "    # function to show the plot\n",
        "    plt.show()\n",
        "    \n",
        "    # print(\"best training feature count : %d \" % best_features1)\n",
        "    print(\"best feature count : %d \" % best_features)\n",
        "    print(\"Best AUC: %.2f\" % best_auc)\n",
        "    print(\"CV at best feature count: %.2f\" % best_cv)\n",
        "    # print(best_colnames_selected)\n",
        "    \n",
        "#     confusionMat_withoutSyn(model, X_train, Y_train, X_test, Y_test)\n",
        "    confusionMat_withoutSyn(model, X_train_selected, Y_train, X_test_selected, Y_test)\n",
        "    \n",
        "    \n",
        "    return best_colnames_selected"
      ],
      "metadata": {
        "id": "t8mPREKisoCG"
      },
      "execution_count": 130,
      "outputs": []
    },
    {
      "cell_type": "markdown",
      "source": [
        "Models"
      ],
      "metadata": {
        "id": "qXUc3cj1C1mh"
      }
    },
    {
      "cell_type": "code",
      "source": [
        "KNN = KNeighborsClassifier(n_neighbors = 6)\n",
        "# DT = DecisionTreeClassifier(max_depth = 7)\n",
        "DT = DecisionTreeClassifier()\n",
        "RF = RandomForestClassifier(n_estimators=500, bootstrap=True, random_state=0)\n",
        "LogisticR = LogisticRegression(random_state=0, solver='newton-cg')"
      ],
      "metadata": {
        "id": "ZXpyzxX5rkYx"
      },
      "execution_count": 138,
      "outputs": []
    },
    {
      "cell_type": "markdown",
      "source": [
        "Logistic Regression"
      ],
      "metadata": {
        "id": "bNEISSpayIpo"
      }
    },
    {
      "cell_type": "code",
      "source": [
        "best_colnames_selected_LR = feature_experiment(LogisticR, X_trainBal, X_test, Y_trainBal, Y_test, skfold)"
      ],
      "metadata": {
        "colab": {
          "base_uri": "https://localhost:8080/",
          "height": 1000
        },
        "id": "GlW1_1n6yNer",
        "outputId": "8d5fdd05-a4d6-480f-95d7-bd2d7c5c080b"
      },
      "execution_count": 116,
      "outputs": [
        {
          "output_type": "stream",
          "name": "stdout",
          "text": [
            "---------------------------------------------------\n",
            "Average Cross Validation score :0.6474522260236546\n",
            "---------------------------------------------------\n",
            "---------------------------------------------------\n",
            "Average Cross Validation score :0.6465449536878108\n",
            "---------------------------------------------------\n",
            "---------------------------------------------------\n",
            "Average Cross Validation score :0.6497201282915569\n",
            "---------------------------------------------------\n",
            "---------------------------------------------------\n",
            "Average Cross Validation score :0.6539914111342682\n",
            "---------------------------------------------------\n"
          ]
        },
        {
          "output_type": "stream",
          "name": "stderr",
          "text": [
            "/usr/local/lib/python3.8/dist-packages/scipy/optimize/linesearch.py:437: LineSearchWarning:\n",
            "\n",
            "Rounding errors prevent the line search from converging\n",
            "\n",
            "/usr/local/lib/python3.8/dist-packages/scipy/optimize/linesearch.py:327: LineSearchWarning:\n",
            "\n",
            "The line search algorithm did not converge\n",
            "\n",
            "/usr/local/lib/python3.8/dist-packages/sklearn/utils/optimize.py:203: UserWarning:\n",
            "\n",
            "Line Search failed\n",
            "\n"
          ]
        },
        {
          "output_type": "stream",
          "name": "stdout",
          "text": [
            "---------------------------------------------------\n",
            "Average Cross Validation score :0.6965527965527964\n",
            "---------------------------------------------------\n",
            "---------------------------------------------------\n",
            "Average Cross Validation score :0.6996900139757283\n",
            "---------------------------------------------------\n"
          ]
        },
        {
          "output_type": "stream",
          "name": "stderr",
          "text": [
            "/usr/local/lib/python3.8/dist-packages/scipy/optimize/linesearch.py:327: LineSearchWarning:\n",
            "\n",
            "The line search algorithm did not converge\n",
            "\n",
            "/usr/local/lib/python3.8/dist-packages/sklearn/utils/optimize.py:203: UserWarning:\n",
            "\n",
            "Line Search failed\n",
            "\n"
          ]
        },
        {
          "output_type": "stream",
          "name": "stdout",
          "text": [
            "---------------------------------------------------\n",
            "Average Cross Validation score :0.6991608277322563\n",
            "---------------------------------------------------\n"
          ]
        },
        {
          "output_type": "stream",
          "name": "stderr",
          "text": [
            "/usr/local/lib/python3.8/dist-packages/scipy/optimize/linesearch.py:437: LineSearchWarning:\n",
            "\n",
            "Rounding errors prevent the line search from converging\n",
            "\n",
            "/usr/local/lib/python3.8/dist-packages/scipy/optimize/linesearch.py:327: LineSearchWarning:\n",
            "\n",
            "The line search algorithm did not converge\n",
            "\n",
            "/usr/local/lib/python3.8/dist-packages/sklearn/utils/optimize.py:203: UserWarning:\n",
            "\n",
            "Line Search failed\n",
            "\n",
            "/usr/local/lib/python3.8/dist-packages/scipy/optimize/linesearch.py:327: LineSearchWarning:\n",
            "\n",
            "The line search algorithm did not converge\n",
            "\n",
            "/usr/local/lib/python3.8/dist-packages/sklearn/utils/optimize.py:203: UserWarning:\n",
            "\n",
            "Line Search failed\n",
            "\n",
            "/usr/local/lib/python3.8/dist-packages/scipy/optimize/linesearch.py:437: LineSearchWarning:\n",
            "\n",
            "Rounding errors prevent the line search from converging\n",
            "\n",
            "/usr/local/lib/python3.8/dist-packages/scipy/optimize/linesearch.py:327: LineSearchWarning:\n",
            "\n",
            "The line search algorithm did not converge\n",
            "\n",
            "/usr/local/lib/python3.8/dist-packages/sklearn/utils/optimize.py:203: UserWarning:\n",
            "\n",
            "Line Search failed\n",
            "\n"
          ]
        },
        {
          "output_type": "stream",
          "name": "stdout",
          "text": [
            "---------------------------------------------------\n",
            "Average Cross Validation score :0.6992742778457064\n",
            "---------------------------------------------------\n"
          ]
        },
        {
          "output_type": "stream",
          "name": "stderr",
          "text": [
            "/usr/local/lib/python3.8/dist-packages/scipy/optimize/linesearch.py:327: LineSearchWarning:\n",
            "\n",
            "The line search algorithm did not converge\n",
            "\n",
            "/usr/local/lib/python3.8/dist-packages/sklearn/utils/optimize.py:203: UserWarning:\n",
            "\n",
            "Line Search failed\n",
            "\n"
          ]
        },
        {
          "output_type": "stream",
          "name": "stdout",
          "text": [
            "---------------------------------------------------\n",
            "Average Cross Validation score :0.7103494960637817\n",
            "---------------------------------------------------\n"
          ]
        },
        {
          "output_type": "stream",
          "name": "stderr",
          "text": [
            "/usr/local/lib/python3.8/dist-packages/scipy/optimize/linesearch.py:437: LineSearchWarning:\n",
            "\n",
            "Rounding errors prevent the line search from converging\n",
            "\n",
            "/usr/local/lib/python3.8/dist-packages/scipy/optimize/linesearch.py:327: LineSearchWarning:\n",
            "\n",
            "The line search algorithm did not converge\n",
            "\n",
            "/usr/local/lib/python3.8/dist-packages/sklearn/utils/optimize.py:203: UserWarning:\n",
            "\n",
            "Line Search failed\n",
            "\n",
            "/usr/local/lib/python3.8/dist-packages/scipy/optimize/linesearch.py:437: LineSearchWarning:\n",
            "\n",
            "Rounding errors prevent the line search from converging\n",
            "\n",
            "/usr/local/lib/python3.8/dist-packages/scipy/optimize/linesearch.py:327: LineSearchWarning:\n",
            "\n",
            "The line search algorithm did not converge\n",
            "\n",
            "/usr/local/lib/python3.8/dist-packages/sklearn/utils/optimize.py:203: UserWarning:\n",
            "\n",
            "Line Search failed\n",
            "\n"
          ]
        },
        {
          "output_type": "stream",
          "name": "stdout",
          "text": [
            "---------------------------------------------------\n",
            "Average Cross Validation score :0.7143181428895715\n",
            "---------------------------------------------------\n"
          ]
        },
        {
          "output_type": "stream",
          "name": "stderr",
          "text": [
            "/usr/local/lib/python3.8/dist-packages/scipy/optimize/linesearch.py:437: LineSearchWarning:\n",
            "\n",
            "Rounding errors prevent the line search from converging\n",
            "\n",
            "/usr/local/lib/python3.8/dist-packages/scipy/optimize/linesearch.py:327: LineSearchWarning:\n",
            "\n",
            "The line search algorithm did not converge\n",
            "\n",
            "/usr/local/lib/python3.8/dist-packages/sklearn/utils/optimize.py:203: UserWarning:\n",
            "\n",
            "Line Search failed\n",
            "\n",
            "/usr/local/lib/python3.8/dist-packages/scipy/optimize/linesearch.py:437: LineSearchWarning:\n",
            "\n",
            "Rounding errors prevent the line search from converging\n",
            "\n",
            "/usr/local/lib/python3.8/dist-packages/scipy/optimize/linesearch.py:327: LineSearchWarning:\n",
            "\n",
            "The line search algorithm did not converge\n",
            "\n",
            "/usr/local/lib/python3.8/dist-packages/sklearn/utils/optimize.py:203: UserWarning:\n",
            "\n",
            "Line Search failed\n",
            "\n",
            "/usr/local/lib/python3.8/dist-packages/scipy/optimize/linesearch.py:437: LineSearchWarning:\n",
            "\n",
            "Rounding errors prevent the line search from converging\n",
            "\n",
            "/usr/local/lib/python3.8/dist-packages/scipy/optimize/linesearch.py:327: LineSearchWarning:\n",
            "\n",
            "The line search algorithm did not converge\n",
            "\n",
            "/usr/local/lib/python3.8/dist-packages/sklearn/utils/optimize.py:203: UserWarning:\n",
            "\n",
            "Line Search failed\n",
            "\n",
            "/usr/local/lib/python3.8/dist-packages/scipy/optimize/linesearch.py:437: LineSearchWarning:\n",
            "\n",
            "Rounding errors prevent the line search from converging\n",
            "\n",
            "/usr/local/lib/python3.8/dist-packages/scipy/optimize/linesearch.py:327: LineSearchWarning:\n",
            "\n",
            "The line search algorithm did not converge\n",
            "\n",
            "/usr/local/lib/python3.8/dist-packages/sklearn/utils/optimize.py:203: UserWarning:\n",
            "\n",
            "Line Search failed\n",
            "\n"
          ]
        },
        {
          "output_type": "stream",
          "name": "stdout",
          "text": [
            "---------------------------------------------------\n",
            "Average Cross Validation score :0.7318945461802604\n",
            "---------------------------------------------------\n",
            "---------------------------------------------------\n",
            "Average Cross Validation score :0.7319701533987247\n",
            "---------------------------------------------------\n",
            "---------------------------------------------------\n",
            "Average Cross Validation score :0.7313653670796528\n",
            "---------------------------------------------------\n",
            "---------------------------------------------------\n",
            "Average Cross Validation score :0.7405504048361191\n",
            "---------------------------------------------------\n",
            "---------------------------------------------------\n",
            "Average Cross Validation score :0.7473163330306187\n",
            "---------------------------------------------------\n"
          ]
        },
        {
          "output_type": "stream",
          "name": "stderr",
          "text": [
            "/usr/local/lib/python3.8/dist-packages/scipy/optimize/linesearch.py:327: LineSearchWarning:\n",
            "\n",
            "The line search algorithm did not converge\n",
            "\n",
            "/usr/local/lib/python3.8/dist-packages/sklearn/utils/optimize.py:203: UserWarning:\n",
            "\n",
            "Line Search failed\n",
            "\n"
          ]
        },
        {
          "output_type": "stream",
          "name": "stdout",
          "text": [
            "---------------------------------------------------\n",
            "Average Cross Validation score :0.7472785044213616\n",
            "---------------------------------------------------\n",
            "---------------------------------------------------\n",
            "Average Cross Validation score :0.7558210201067345\n",
            "---------------------------------------------------\n"
          ]
        },
        {
          "output_type": "stream",
          "name": "stderr",
          "text": [
            "/usr/local/lib/python3.8/dist-packages/scipy/optimize/linesearch.py:437: LineSearchWarning:\n",
            "\n",
            "Rounding errors prevent the line search from converging\n",
            "\n",
            "/usr/local/lib/python3.8/dist-packages/scipy/optimize/linesearch.py:327: LineSearchWarning:\n",
            "\n",
            "The line search algorithm did not converge\n",
            "\n",
            "/usr/local/lib/python3.8/dist-packages/sklearn/utils/optimize.py:203: UserWarning:\n",
            "\n",
            "Line Search failed\n",
            "\n"
          ]
        },
        {
          "output_type": "stream",
          "name": "stdout",
          "text": [
            "---------------------------------------------------\n",
            "Average Cross Validation score :0.759714216857074\n",
            "---------------------------------------------------\n",
            "---------------------------------------------------\n",
            "Average Cross Validation score :0.7629650058221487\n",
            "---------------------------------------------------\n"
          ]
        },
        {
          "output_type": "stream",
          "name": "stderr",
          "text": [
            "/usr/local/lib/python3.8/dist-packages/scipy/optimize/linesearch.py:437: LineSearchWarning:\n",
            "\n",
            "Rounding errors prevent the line search from converging\n",
            "\n",
            "/usr/local/lib/python3.8/dist-packages/scipy/optimize/linesearch.py:327: LineSearchWarning:\n",
            "\n",
            "The line search algorithm did not converge\n",
            "\n",
            "/usr/local/lib/python3.8/dist-packages/sklearn/utils/optimize.py:203: UserWarning:\n",
            "\n",
            "Line Search failed\n",
            "\n"
          ]
        },
        {
          "output_type": "stream",
          "name": "stdout",
          "text": [
            "---------------------------------------------------\n",
            "Average Cross Validation score :0.7642122927837213\n",
            "---------------------------------------------------\n",
            "---------------------------------------------------\n",
            "Average Cross Validation score :0.7654596583168012\n",
            "---------------------------------------------------\n",
            "---------------------------------------------------\n",
            "Average Cross Validation score :0.7682946897232611\n",
            "---------------------------------------------------\n",
            "---------------------------------------------------\n",
            "Average Cross Validation score :0.7677277177277178\n",
            "---------------------------------------------------\n",
            "---------------------------------------------------\n",
            "Average Cross Validation score :0.7688616545759401\n",
            "---------------------------------------------------\n"
          ]
        },
        {
          "output_type": "stream",
          "name": "stderr",
          "text": [
            "/usr/local/lib/python3.8/dist-packages/scipy/optimize/linesearch.py:437: LineSearchWarning:\n",
            "\n",
            "Rounding errors prevent the line search from converging\n",
            "\n",
            "/usr/local/lib/python3.8/dist-packages/scipy/optimize/linesearch.py:327: LineSearchWarning:\n",
            "\n",
            "The line search algorithm did not converge\n",
            "\n",
            "/usr/local/lib/python3.8/dist-packages/sklearn/utils/optimize.py:203: UserWarning:\n",
            "\n",
            "Line Search failed\n",
            "\n"
          ]
        },
        {
          "output_type": "stream",
          "name": "stdout",
          "text": [
            "---------------------------------------------------\n",
            "Average Cross Validation score :0.7687860687860688\n",
            "---------------------------------------------------\n",
            "---------------------------------------------------\n",
            "Average Cross Validation score :0.770260084545799\n",
            "---------------------------------------------------\n"
          ]
        },
        {
          "output_type": "display_data",
          "data": {
            "text/plain": [
              "<Figure size 1080x360 with 2 Axes>"
            ],
            "image/png": "[encoded data removed]"
          },
          "metadata": {
            "needs_background": "light"
          }
        },
        {
          "output_type": "stream",
          "name": "stdout",
          "text": [
            "best feature count : 16 \n",
            "Best AUC: 0.76\n",
            "CV at best feature count: 0.75\n",
            "              precision    recall  f1-score   support\n",
            "\n",
            "           0       0.95      0.77      0.85      5669\n",
            "           1       0.17      0.55      0.26       479\n",
            "\n",
            "    accuracy                           0.75      6148\n",
            "   macro avg       0.56      0.66      0.55      6148\n",
            "weighted avg       0.89      0.75      0.80      6148\n",
            "\n"
          ]
        },
        {
          "output_type": "display_data",
          "data": {
            "text/plain": [
              "<Figure size 360x360 with 2 Axes>"
            ],
            "image/png": "[encoded data removed]"
          },
          "metadata": {
            "needs_background": "light"
          }
        }
      ]
    },
    {
      "cell_type": "code",
      "source": [
        "best_colnames_selected_LR"
      ],
      "metadata": {
        "colab": {
          "base_uri": "https://localhost:8080/"
        },
        "id": "2f23dXtHy5Ig",
        "outputId": "3c474bca-2e09-4385-d868-3dd07df14f5b"
      },
      "execution_count": 119,
      "outputs": [
        {
          "output_type": "execute_result",
          "data": {
            "text/plain": [
              "['age',\n",
              " 'bmi',\n",
              " 'elective_surgery',\n",
              " 'ethnicity',\n",
              " 'icu_type',\n",
              " 'pre_icu_los_days',\n",
              " 'apache_2_diagnosis',\n",
              " 'd1_heartrate_max',\n",
              " 'd1_heartrate_min',\n",
              " 'd1_resprate_max',\n",
              " 'd1_resprate_min',\n",
              " 'd1_temp_max',\n",
              " 'd1_temp_min',\n",
              " 'd1_glucose_max',\n",
              " 'd1_glucose_min',\n",
              " 'apache_2_bodysystem']"
            ]
          },
          "metadata": {},
          "execution_count": 119
        }
      ]
    },
    {
      "cell_type": "markdown",
      "source": [
        "KNN"
      ],
      "metadata": {
        "id": "0jpl8uPr3yHb"
      }
    },
    {
      "cell_type": "code",
      "source": [
        "best_colnames_selected_KNN = feature_experiment(KNN, X_trainBal, X_test, Y_trainBal, Y_test, skfold)"
      ],
      "metadata": {
        "colab": {
          "base_uri": "https://localhost:8080/",
          "height": 1000
        },
        "id": "tr1P4mub1d47",
        "outputId": "a8ebaa3c-4d07-4fe7-8759-878e0bf47093"
      },
      "execution_count": 123,
      "outputs": [
        {
          "output_type": "stream",
          "name": "stdout",
          "text": [
            "---------------------------------------------------\n",
            "Average Cross Validation score :0.6521013306727592\n",
            "---------------------------------------------------\n",
            "---------------------------------------------------\n",
            "Average Cross Validation score :0.635281078138221\n",
            "---------------------------------------------------\n",
            "---------------------------------------------------\n",
            "Average Cross Validation score :0.6958722887294315\n",
            "---------------------------------------------------\n",
            "---------------------------------------------------\n",
            "Average Cross Validation score :0.736770815342244\n",
            "---------------------------------------------------\n",
            "---------------------------------------------------\n",
            "Average Cross Validation score :0.7489420417991847\n",
            "---------------------------------------------------\n",
            "---------------------------------------------------\n",
            "Average Cross Validation score :0.7723389223389223\n",
            "---------------------------------------------------\n",
            "---------------------------------------------------\n",
            "Average Cross Validation score :0.8167522096093525\n",
            "---------------------------------------------------\n",
            "---------------------------------------------------\n",
            "Average Cross Validation score :0.8565921065921065\n",
            "---------------------------------------------------\n",
            "---------------------------------------------------\n",
            "Average Cross Validation score :0.8717871432157146\n",
            "---------------------------------------------------\n",
            "---------------------------------------------------\n",
            "Average Cross Validation score :0.8749622106764964\n",
            "---------------------------------------------------\n",
            "---------------------------------------------------\n",
            "Average Cross Validation score :0.8745086745086745\n",
            "---------------------------------------------------\n",
            "---------------------------------------------------\n",
            "Average Cross Validation score :0.8759827759827761\n",
            "---------------------------------------------------\n",
            "---------------------------------------------------\n",
            "Average Cross Validation score :0.8755291826720398\n",
            "---------------------------------------------------\n",
            "---------------------------------------------------\n",
            "Average Cross Validation score :0.8754536040250326\n",
            "---------------------------------------------------\n",
            "---------------------------------------------------\n",
            "Average Cross Validation score :0.8754536040250326\n",
            "---------------------------------------------------\n",
            "---------------------------------------------------\n",
            "Average Cross Validation score :0.8753401967687683\n",
            "---------------------------------------------------\n",
            "---------------------------------------------------\n",
            "Average Cross Validation score :0.8753402039116324\n",
            "---------------------------------------------------\n",
            "---------------------------------------------------\n",
            "Average Cross Validation score :0.8751134036848323\n",
            "---------------------------------------------------\n",
            "---------------------------------------------------\n",
            "Average Cross Validation score :0.8751512037226323\n",
            "---------------------------------------------------\n",
            "---------------------------------------------------\n",
            "Average Cross Validation score :0.875075596504168\n",
            "---------------------------------------------------\n",
            "---------------------------------------------------\n",
            "Average Cross Validation score :0.8751134036848323\n",
            "---------------------------------------------------\n",
            "---------------------------------------------------\n",
            "Average Cross Validation score :0.8751134036848323\n",
            "---------------------------------------------------\n",
            "---------------------------------------------------\n",
            "Average Cross Validation score :0.8751134036848323\n",
            "---------------------------------------------------\n",
            "---------------------------------------------------\n",
            "Average Cross Validation score :0.8750756036470323\n",
            "---------------------------------------------------\n",
            "---------------------------------------------------\n",
            "Average Cross Validation score :0.8750756036470323\n",
            "---------------------------------------------------\n",
            "---------------------------------------------------\n",
            "Average Cross Validation score :0.8750756036470323\n",
            "---------------------------------------------------\n"
          ]
        },
        {
          "output_type": "display_data",
          "data": {
            "text/plain": [
              "<Figure size 1080x360 with 2 Axes>"
            ],
            "image/png": "[encoded data removed]"
          },
          "metadata": {
            "needs_background": "light"
          }
        },
        {
          "output_type": "stream",
          "name": "stdout",
          "text": [
            "best feature count : 6 \n",
            "Best AUC: 0.65\n",
            "CV at best feature count: 0.75\n",
            "              precision    recall  f1-score   support\n",
            "\n",
            "           0       0.94      0.78      0.85      5669\n",
            "           1       0.13      0.40      0.20       479\n",
            "\n",
            "    accuracy                           0.75      6148\n",
            "   macro avg       0.54      0.59      0.53      6148\n",
            "weighted avg       0.88      0.75      0.80      6148\n",
            "\n"
          ]
        },
        {
          "output_type": "display_data",
          "data": {
            "text/plain": [
              "<Figure size 360x360 with 2 Axes>"
            ],
            "image/png": "[encoded data removed]"
          },
          "metadata": {
            "needs_background": "light"
          }
        }
      ]
    },
    {
      "cell_type": "code",
      "source": [
        "best_colnames_selected_KNN"
      ],
      "metadata": {
        "colab": {
          "base_uri": "https://localhost:8080/"
        },
        "id": "5B-XRgEJ39n3",
        "outputId": "9418a8d0-4daf-4865-9837-bca364da40cb"
      },
      "execution_count": 125,
      "outputs": [
        {
          "output_type": "execute_result",
          "data": {
            "text/plain": [
              "['age',\n",
              " 'd1_heartrate_max',\n",
              " 'd1_heartrate_min',\n",
              " 'd1_resprate_max',\n",
              " 'd1_temp_max',\n",
              " 'd1_temp_min']"
            ]
          },
          "metadata": {},
          "execution_count": 125
        }
      ]
    },
    {
      "cell_type": "markdown",
      "source": [
        "Desicion Tree"
      ],
      "metadata": {
        "id": "PnEgu0xBuCii"
      }
    },
    {
      "cell_type": "markdown",
      "source": [
        "Hyperparameter tunning"
      ],
      "metadata": {
        "id": "mzWAe81wAvM4"
      }
    },
    {
      "cell_type": "code",
      "source": [
        "# Parameter tuning \n",
        "\n",
        "max_depth = range(5,100)\n",
        "criterion = ['gini', 'entropy']\n",
        "\n",
        "param_grid = dict(max_depth=max_depth, criterion=criterion)\n",
        "\n",
        "grid = GridSearchCV(estimator=DT, param_grid=param_grid, n_jobs=-1,  verbose=0)\n",
        "\n",
        "grid_result = grid.fit(X_trainBal, Y_trainBal)\n",
        "print(\"\\n The best estimators across all searched params:\\n\",grid.best_estimator_)"
      ],
      "metadata": {
        "colab": {
          "base_uri": "https://localhost:8080/"
        },
        "id": "Nv123JcbAuSO",
        "outputId": "04a8f374-a365-4d27-b0cc-87ef22058df0"
      },
      "execution_count": 142,
      "outputs": [
        {
          "output_type": "stream",
          "name": "stdout",
          "text": [
            "\n",
            " The best estimators across all searched params:\n",
            " DecisionTreeClassifier(criterion='entropy', max_depth=92)\n"
          ]
        }
      ]
    },
    {
      "cell_type": "code",
      "source": [
        "# Decison Tree model with best hyperparameters\n",
        "DT_best = DecisionTreeClassifier(max_depth=92, criterion='entropy')"
      ],
      "metadata": {
        "id": "ZlyaxIHtDeqD"
      },
      "execution_count": 146,
      "outputs": []
    },
    {
      "cell_type": "code",
      "source": [
        "best_colnames_selected_DT = feature_experiment(DT_best, X_trainBal, X_test, Y_trainBal, Y_test, skfold)"
      ],
      "metadata": {
        "colab": {
          "base_uri": "https://localhost:8080/",
          "height": 1000
        },
        "id": "wCc1OJiXUB6T",
        "outputId": "fdab8685-55c3-40ea-f73e-9e3a44f2449f"
      },
      "execution_count": 147,
      "outputs": [
        {
          "output_type": "stream",
          "name": "stdout",
          "text": [
            "---------------------------------------------------\n",
            "Average Cross Validation score :0.9271243056957343\n",
            "---------------------------------------------------\n",
            "---------------------------------------------------\n",
            "Average Cross Validation score :0.8943150228864514\n",
            "---------------------------------------------------\n",
            "---------------------------------------------------\n",
            "Average Cross Validation score :0.8914048699762986\n",
            "---------------------------------------------------\n",
            "---------------------------------------------------\n",
            "Average Cross Validation score :0.8921984636270353\n",
            "---------------------------------------------------\n",
            "---------------------------------------------------\n",
            "Average Cross Validation score :0.8866040366040366\n",
            "---------------------------------------------------\n",
            "---------------------------------------------------\n",
            "Average Cross Validation score :0.8912155269298128\n",
            "---------------------------------------------------\n",
            "---------------------------------------------------\n",
            "Average Cross Validation score :0.8954869812012669\n",
            "---------------------------------------------------\n",
            "---------------------------------------------------\n",
            "Average Cross Validation score :0.8948063233777519\n",
            "---------------------------------------------------\n",
            "---------------------------------------------------\n",
            "Average Cross Validation score :0.8937480223194509\n",
            "---------------------------------------------------\n",
            "---------------------------------------------------\n",
            "Average Cross Validation score :0.8832024117738403\n",
            "---------------------------------------------------\n",
            "---------------------------------------------------\n",
            "Average Cross Validation score :0.8896658110943825\n",
            "---------------------------------------------------\n",
            "---------------------------------------------------\n",
            "Average Cross Validation score :0.8898927113212828\n",
            "---------------------------------------------------\n",
            "---------------------------------------------------\n",
            "Average Cross Validation score :0.888343181200324\n",
            "---------------------------------------------------\n",
            "---------------------------------------------------\n",
            "Average Cross Validation score :0.8773811273811274\n",
            "---------------------------------------------------\n",
            "---------------------------------------------------\n",
            "Average Cross Validation score :0.8767386767386768\n",
            "---------------------------------------------------\n",
            "---------------------------------------------------\n",
            "Average Cross Validation score :0.8748485677057106\n",
            "---------------------------------------------------\n",
            "---------------------------------------------------\n",
            "Average Cross Validation score :0.8759446616589475\n",
            "---------------------------------------------------\n",
            "---------------------------------------------------\n",
            "Average Cross Validation score :0.8776833633976491\n",
            "---------------------------------------------------\n",
            "---------------------------------------------------\n",
            "Average Cross Validation score :0.8779479636622494\n",
            "---------------------------------------------------\n",
            "---------------------------------------------------\n",
            "Average Cross Validation score :0.8762471048185334\n",
            "---------------------------------------------------\n",
            "---------------------------------------------------\n",
            "Average Cross Validation score :0.8779102279102279\n",
            "---------------------------------------------------\n",
            "---------------------------------------------------\n",
            "Average Cross Validation score :0.8761715261715262\n",
            "---------------------------------------------------\n",
            "---------------------------------------------------\n",
            "Average Cross Validation score :0.8765871765871764\n",
            "---------------------------------------------------\n",
            "---------------------------------------------------\n",
            "Average Cross Validation score :0.8776834705406132\n",
            "---------------------------------------------------\n",
            "---------------------------------------------------\n",
            "Average Cross Validation score :0.8775700989986704\n",
            "---------------------------------------------------\n",
            "---------------------------------------------------\n",
            "Average Cross Validation score :0.8764739121881979\n",
            "---------------------------------------------------\n"
          ]
        },
        {
          "output_type": "display_data",
          "data": {
            "text/plain": [
              "<Figure size 1080x360 with 2 Axes>"
            ],
            "image/png": "[encoded data removed]"
          },
          "metadata": {
            "needs_background": "light"
          }
        },
        {
          "output_type": "stream",
          "name": "stdout",
          "text": [
            "best feature count : 14 \n",
            "Best AUC: 0.61\n",
            "CV at best feature count: 0.89\n",
            "              precision    recall  f1-score   support\n",
            "\n",
            "           0       0.94      0.88      0.91      5669\n",
            "           1       0.19      0.33      0.25       479\n",
            "\n",
            "    accuracy                           0.84      6148\n",
            "   macro avg       0.57      0.61      0.58      6148\n",
            "weighted avg       0.88      0.84      0.86      6148\n",
            "\n"
          ]
        },
        {
          "output_type": "display_data",
          "data": {
            "text/plain": [
              "<Figure size 360x360 with 2 Axes>"
            ],
            "image/png": "[encoded data removed]"
          },
          "metadata": {
            "needs_background": "light"
          }
        }
      ]
    },
    {
      "cell_type": "code",
      "source": [],
      "metadata": {
        "id": "44ggTqmwUEgn"
      },
      "execution_count": null,
      "outputs": []
    },
    {
      "cell_type": "code",
      "source": [
        "best_colnames_selected_DT = feature_experiment(DT, X_trainBal, X_test, Y_trainBal, Y_test, skfold)"
      ],
      "metadata": {
        "colab": {
          "base_uri": "https://localhost:8080/",
          "height": 1000
        },
        "id": "KLBMmJkAuGdS",
        "outputId": "d0958f79-3d4a-4ddb-beb0-358592c85faa"
      },
      "execution_count": 131,
      "outputs": [
        {
          "output_type": "stream",
          "name": "stdout",
          "text": [
            "---------------------------------------------------\n",
            "Average Cross Validation score :0.691487377201663\n",
            "---------------------------------------------------\n",
            "---------------------------------------------------\n",
            "Average Cross Validation score :0.7041880184737328\n",
            "---------------------------------------------------\n",
            "---------------------------------------------------\n",
            "Average Cross Validation score :0.7041881899024756\n",
            "---------------------------------------------------\n",
            "---------------------------------------------------\n",
            "Average Cross Validation score :0.7411171482600054\n",
            "---------------------------------------------------\n",
            "---------------------------------------------------\n",
            "Average Cross Validation score :0.7408147336718767\n",
            "---------------------------------------------------\n",
            "---------------------------------------------------\n",
            "Average Cross Validation score :0.7425913854485284\n",
            "---------------------------------------------------\n",
            "---------------------------------------------------\n",
            "Average Cross Validation score :0.7428181856753285\n",
            "---------------------------------------------------\n",
            "---------------------------------------------------\n",
            "Average Cross Validation score :0.7424779924779925\n",
            "---------------------------------------------------\n",
            "---------------------------------------------------\n",
            "Average Cross Validation score :0.771583057297343\n",
            "---------------------------------------------------\n",
            "---------------------------------------------------\n",
            "Average Cross Validation score :0.7802008016293731\n",
            "---------------------------------------------------\n",
            "---------------------------------------------------\n",
            "Average Cross Validation score :0.7808434308434309\n",
            "---------------------------------------------------\n",
            "---------------------------------------------------\n",
            "Average Cross Validation score :0.781145824002967\n",
            "---------------------------------------------------\n",
            "---------------------------------------------------\n",
            "Average Cross Validation score :0.7792939507225222\n",
            "---------------------------------------------------\n",
            "---------------------------------------------------\n",
            "Average Cross Validation score :0.7819019104733391\n",
            "---------------------------------------------------\n",
            "---------------------------------------------------\n",
            "Average Cross Validation score :0.7824688753260183\n",
            "---------------------------------------------------\n",
            "---------------------------------------------------\n",
            "Average Cross Validation score :0.7842074342074342\n",
            "---------------------------------------------------\n",
            "---------------------------------------------------\n",
            "Average Cross Validation score :0.7839806411234983\n",
            "---------------------------------------------------\n",
            "---------------------------------------------------\n",
            "Average Cross Validation score :0.7839428839428839\n",
            "---------------------------------------------------\n",
            "---------------------------------------------------\n",
            "Average Cross Validation score :0.7837916766488195\n",
            "---------------------------------------------------\n",
            "---------------------------------------------------\n",
            "Average Cross Validation score :0.7839428839428839\n",
            "---------------------------------------------------\n",
            "---------------------------------------------------\n",
            "Average Cross Validation score :0.7837538908967481\n",
            "---------------------------------------------------\n",
            "---------------------------------------------------\n",
            "Average Cross Validation score :0.7836404979262123\n",
            "---------------------------------------------------\n",
            "---------------------------------------------------\n",
            "Average Cross Validation score :0.7839428839428839\n",
            "---------------------------------------------------\n",
            "---------------------------------------------------\n",
            "Average Cross Validation score :0.7839428910857482\n",
            "---------------------------------------------------\n",
            "---------------------------------------------------\n",
            "Average Cross Validation score :0.7837916837916838\n",
            "---------------------------------------------------\n",
            "---------------------------------------------------\n",
            "Average Cross Validation score :0.7838294838294837\n",
            "---------------------------------------------------\n"
          ]
        },
        {
          "output_type": "display_data",
          "data": {
            "text/plain": [
              "<Figure size 1080x360 with 2 Axes>"
            ],
            "image/png": "[encoded data removed]"
          },
          "metadata": {
            "needs_background": "light"
          }
        },
        {
          "output_type": "stream",
          "name": "stdout",
          "text": [
            "best feature count : 13 \n",
            "Best AUC: 0.73\n",
            "CV at best feature count: 0.78\n",
            "              precision    recall  f1-score   support\n",
            "\n",
            "           0       0.95      0.75      0.84      5669\n",
            "           1       0.16      0.57      0.25       479\n",
            "\n",
            "    accuracy                           0.73      6148\n",
            "   macro avg       0.56      0.66      0.54      6148\n",
            "weighted avg       0.89      0.73      0.79      6148\n",
            "\n"
          ]
        },
        {
          "output_type": "display_data",
          "data": {
            "text/plain": [
              "<Figure size 360x360 with 2 Axes>"
            ],
            "image/png": "[encoded data removed]"
          },
          "metadata": {
            "needs_background": "light"
          }
        }
      ]
    },
    {
      "cell_type": "code",
      "source": [
        "best_colnames_selected_DT"
      ],
      "metadata": {
        "colab": {
          "base_uri": "https://localhost:8080/"
        },
        "id": "CALzmva4vOxG",
        "outputId": "f31c7f5e-7b9e-4a4f-cbd9-9d24b65c4dcc"
      },
      "execution_count": 133,
      "outputs": [
        {
          "output_type": "execute_result",
          "data": {
            "text/plain": [
              "['age',\n",
              " 'bmi',\n",
              " 'pre_icu_los_days',\n",
              " 'apache_2_diagnosis',\n",
              " 'd1_heartrate_max',\n",
              " 'd1_heartrate_min',\n",
              " 'd1_resprate_max',\n",
              " 'd1_resprate_min',\n",
              " 'd1_temp_max',\n",
              " 'd1_temp_min',\n",
              " 'd1_glucose_max',\n",
              " 'd1_glucose_min',\n",
              " 'apache_2_bodysystem']"
            ]
          },
          "metadata": {},
          "execution_count": 133
        }
      ]
    },
    {
      "cell_type": "markdown",
      "source": [
        "Random Forest"
      ],
      "metadata": {
        "id": "ie4GKDmtxr2V"
      }
    },
    {
      "cell_type": "code",
      "source": [
        "best_colnames_selected_RF = feature_experiment(RF, X_trainBal, X_test, Y_trainBal, Y_test, skfold)"
      ],
      "metadata": {
        "colab": {
          "base_uri": "https://localhost:8080/",
          "height": 1000
        },
        "id": "0iAGavgtvOsK",
        "outputId": "fdfd506f-a185-492e-e35c-25c304a77001"
      },
      "execution_count": 135,
      "outputs": [
        {
          "output_type": "stream",
          "name": "stdout",
          "text": [
            "---------------------------------------------------\n",
            "Average Cross Validation score :0.923003944432516\n",
            "---------------------------------------------------\n",
            "---------------------------------------------------\n",
            "Average Cross Validation score :0.914121464121464\n",
            "---------------------------------------------------\n",
            "---------------------------------------------------\n",
            "Average Cross Validation score :0.9284093212664641\n",
            "---------------------------------------------------\n",
            "---------------------------------------------------\n",
            "Average Cross Validation score :0.9292031363459934\n",
            "---------------------------------------------------\n",
            "---------------------------------------------------\n",
            "Average Cross Validation score :0.9301479015764731\n",
            "---------------------------------------------------\n",
            "---------------------------------------------------\n",
            "Average Cross Validation score :0.9357044357044357\n",
            "---------------------------------------------------\n",
            "---------------------------------------------------\n",
            "Average Cross Validation score :0.9411853268996125\n",
            "---------------------------------------------------\n",
            "---------------------------------------------------\n",
            "Average Cross Validation score :0.9476110261824549\n",
            "---------------------------------------------------\n",
            "---------------------------------------------------\n",
            "Average Cross Validation score :0.9502192859335716\n",
            "---------------------------------------------------\n",
            "---------------------------------------------------\n",
            "Average Cross Validation score :0.9450785236499522\n",
            "---------------------------------------------------\n",
            "---------------------------------------------------\n",
            "Average Cross Validation score :0.9487449773164058\n",
            "---------------------------------------------------\n",
            "---------------------------------------------------\n",
            "Average Cross Validation score :0.947951197951198\n",
            "---------------------------------------------------\n",
            "---------------------------------------------------\n",
            "Average Cross Validation score :0.9471197042625613\n",
            "---------------------------------------------------\n",
            "---------------------------------------------------\n",
            "Average Cross Validation score :0.9422436493865065\n",
            "---------------------------------------------------\n",
            "---------------------------------------------------\n",
            "Average Cross Validation score :0.9440957083814225\n",
            "---------------------------------------------------\n",
            "---------------------------------------------------\n",
            "Average Cross Validation score :0.9452296166581882\n",
            "---------------------------------------------------\n",
            "---------------------------------------------------\n",
            "Average Cross Validation score :0.9446627446627447\n",
            "---------------------------------------------------\n",
            "---------------------------------------------------\n",
            "Average Cross Validation score :0.9447760876332305\n",
            "---------------------------------------------------\n",
            "---------------------------------------------------\n",
            "Average Cross Validation score :0.9442846799989656\n",
            "---------------------------------------------------\n",
            "---------------------------------------------------\n",
            "Average Cross Validation score :0.9448516734231021\n",
            "---------------------------------------------------\n",
            "---------------------------------------------------\n",
            "Average Cross Validation score :0.9443980301123158\n",
            "---------------------------------------------------\n",
            "---------------------------------------------------\n",
            "Average Cross Validation score :0.9447004661290377\n",
            "---------------------------------------------------\n",
            "---------------------------------------------------\n",
            "Average Cross Validation score :0.9438310295453153\n",
            "---------------------------------------------------\n",
            "---------------------------------------------------\n",
            "Average Cross Validation score :0.943944443944444\n",
            "---------------------------------------------------\n",
            "---------------------------------------------------\n",
            "Average Cross Validation score :0.9443603157888871\n",
            "---------------------------------------------------\n",
            "---------------------------------------------------\n",
            "Average Cross Validation score :0.9444736230450517\n",
            "---------------------------------------------------\n"
          ]
        },
        {
          "output_type": "display_data",
          "data": {
            "text/plain": [
              "<Figure size 1080x360 with 2 Axes>"
            ],
            "image/png": "[encoded data removed]"
          },
          "metadata": {
            "needs_background": "light"
          }
        },
        {
          "output_type": "stream",
          "name": "stdout",
          "text": [
            "best feature count : 26 \n",
            "Best AUC: 0.81\n",
            "CV at best feature count: 0.94\n",
            "              precision    recall  f1-score   support\n",
            "\n",
            "           0       0.94      0.95      0.95      5669\n",
            "           1       0.31      0.25      0.27       479\n",
            "\n",
            "    accuracy                           0.90      6148\n",
            "   macro avg       0.62      0.60      0.61      6148\n",
            "weighted avg       0.89      0.90      0.89      6148\n",
            "\n"
          ]
        },
        {
          "output_type": "display_data",
          "data": {
            "text/plain": [
              "<Figure size 360x360 with 2 Axes>"
            ],
            "image/png": "[encoded data removed]"
          },
          "metadata": {
            "needs_background": "light"
          }
        }
      ]
    },
    {
      "cell_type": "code",
      "source": [
        "best_colnames_selected_RF"
      ],
      "metadata": {
        "colab": {
          "base_uri": "https://localhost:8080/"
        },
        "id": "uYDiP9tAvOjh",
        "outputId": "5171d519-081d-4d09-c8db-150521b901cb"
      },
      "execution_count": 136,
      "outputs": [
        {
          "output_type": "execute_result",
          "data": {
            "text/plain": [
              "['age',\n",
              " 'bmi',\n",
              " 'elective_surgery',\n",
              " 'ethnicity',\n",
              " 'gender',\n",
              " 'icu_admit_source',\n",
              " 'icu_stay_type',\n",
              " 'icu_type',\n",
              " 'pre_icu_los_days',\n",
              " 'apache_2_diagnosis',\n",
              " 'arf_apache',\n",
              " 'intubated_apache',\n",
              " 'd1_heartrate_max',\n",
              " 'd1_heartrate_min',\n",
              " 'd1_resprate_max',\n",
              " 'd1_resprate_min',\n",
              " 'd1_temp_max',\n",
              " 'd1_temp_min',\n",
              " 'd1_glucose_max',\n",
              " 'd1_glucose_min',\n",
              " 'hepatic_failure',\n",
              " 'immunosuppression',\n",
              " 'leukemia',\n",
              " 'lymphoma',\n",
              " 'solid_tumor_with_metastasis',\n",
              " 'apache_2_bodysystem']"
            ]
          },
          "metadata": {},
          "execution_count": 136
        }
      ]
    },
    {
      "cell_type": "code",
      "execution_count": null,
      "metadata": {
        "id": "NAgPuf1LnKTy"
      },
      "outputs": [],
      "source": []
    }
  ]
}